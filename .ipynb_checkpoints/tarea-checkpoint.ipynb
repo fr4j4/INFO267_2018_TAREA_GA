{
 "cells": [
  {
   "cell_type": "code",
   "execution_count": 1,
   "metadata": {
    "scrolled": true
   },
   "outputs": [],
   "source": [
    "# https://pynetlogo.readthedocs.io/en/latest/_docs/pynetlogo.html\n",
    "# https://pynetlogo.readthedocs.io/en/latest/example1.html\n",
    "import pandas as pd\n",
    "import matplotlib.pyplot as plt\n",
    "import seaborn as sns\n",
    "import platform\n",
    "import pyNetLogo\n",
    "\n",
    "gui=True\n",
    "sistema=platform.system()\n",
    "if(sistema=='Windows'):\n",
    "    netlogo = pyNetLogo.NetLogoLink(gui=gui)\n",
    "elif(sistema=='Linux'):\n",
    "    netlogo = pyNetLogo.NetLogoLink(gui=gui,netlogo_home='NetLogo 6.0.4/',netlogo_version='6.0.4')\n",
    "else:\n",
    "    netlogo = pyNetLogo.NetLogoLink(gui=gui)\n"
   ]
  },
  {
   "cell_type": "code",
   "execution_count": 2,
   "metadata": {},
   "outputs": [],
   "source": [
    "import pandas as pd\n",
    "df=pd.DataFrame(columns=['gen','x1','y1','x2','y2','x3','y3','x4','y4','x5','y5']) #dataframe que representará a los individuos existentes\n",
    "ww=netlogo.report(\"world-width\") #obtener el número de columnas de la grilla\n",
    "wh=netlogo.report(\"world-height\") #obtener el número de filas de la grilla\n",
    "plan_file = \"conference.plan\" #archivo plano \n",
    "world=list() #representación del mundo en una lista multidimensional (filasXcolumnas)\n",
    "\n",
    "wall_val=64 #valor de muralla\n",
    "inner_val=0 #valor espacio interno edificio\n",
    "outer_Val=2 #valor espacio externo edificio\n",
    "door_val=45 #valor para las puertas\n"
   ]
  },
  {
   "cell_type": "code",
   "execution_count": 16,
   "metadata": {},
   "outputs": [],
   "source": [
    "#abrir el archivo de plano para inicializar la representación de listas multidimensionales\n",
    "with open(plan_file) as file:\n",
    "    row=list()\n",
    "    counter=0\n",
    "    for i in file:\n",
    "        patch=i.replace('\\n','').split(' ')\n",
    "        if(counter%ww !=0):\n",
    "            row.append(int(patch[2]))\n",
    "        else:\n",
    "            row=list()\n",
    "            world.append(row)\n",
    "        counter = counter + 1\n",
    "        \n",
    "#cargar el programa en netlogo\n",
    "netlogo.load_model(r'escape4_v6.nlogo')\n",
    "#cargar el plano en netlogo\n",
    "netlogo.command(\"load-plan-file\")"
   ]
  },
  {
   "cell_type": "code",
   "execution_count": 40,
   "metadata": {},
   "outputs": [],
   "source": [
    "def simulate():\n",
    "    netlogo.command(\"set door-data [ [50 50] [40 10] [80 15] [95 30] [60 100] ]\")\n",
    "    netlogo.command(\"show-plan\")\n",
    "    #netlogo.command(\"ask patches with[pcolor = {0}][set pcolor {1}]\".format(door_val,wall_val)) #despintar las puertas\n",
    "    netlogo.command(\"generate-population\")\n",
    "    \n",
    "    while(netlogo.report(\"count turtles\")>0):\n",
    "        netlogo.command(\"go\")\n",
    "    return(netlogo.report(\"ticks\"))\n",
    "    "
   ]
  },
  {
   "cell_type": "code",
   "execution_count": 41,
   "metadata": {},
   "outputs": [
    {
     "data": {
      "text/plain": [
       "137.0"
      ]
     },
     "execution_count": 41,
     "metadata": {},
     "output_type": "execute_result"
    }
   ],
   "source": [
    "simulate()\n"
   ]
  },
  {
   "cell_type": "code",
   "execution_count": 45,
   "metadata": {},
   "outputs": [
    {
     "data": {
      "text/html": [
       "<div>\n",
       "<style scoped>\n",
       "    .dataframe tbody tr th:only-of-type {\n",
       "        vertical-align: middle;\n",
       "    }\n",
       "\n",
       "    .dataframe tbody tr th {\n",
       "        vertical-align: top;\n",
       "    }\n",
       "\n",
       "    .dataframe thead th {\n",
       "        text-align: right;\n",
       "    }\n",
       "</style>\n",
       "<table border=\"1\" class=\"dataframe\">\n",
       "  <thead>\n",
       "    <tr style=\"text-align: right;\">\n",
       "      <th></th>\n",
       "      <th>gen</th>\n",
       "      <th>x1</th>\n",
       "      <th>y1</th>\n",
       "      <th>x2</th>\n",
       "      <th>y2</th>\n",
       "      <th>x3</th>\n",
       "      <th>y3</th>\n",
       "      <th>x4</th>\n",
       "      <th>y4</th>\n",
       "      <th>x5</th>\n",
       "      <th>y5</th>\n",
       "      <th>0</th>\n",
       "    </tr>\n",
       "  </thead>\n",
       "  <tbody>\n",
       "    <tr>\n",
       "      <th>0</th>\n",
       "      <td>NaN</td>\n",
       "      <td>NaN</td>\n",
       "      <td>NaN</td>\n",
       "      <td>NaN</td>\n",
       "      <td>NaN</td>\n",
       "      <td>NaN</td>\n",
       "      <td>NaN</td>\n",
       "      <td>NaN</td>\n",
       "      <td>NaN</td>\n",
       "      <td>NaN</td>\n",
       "      <td>NaN</td>\n",
       "      <td>1.0</td>\n",
       "    </tr>\n",
       "    <tr>\n",
       "      <th>1</th>\n",
       "      <td>NaN</td>\n",
       "      <td>NaN</td>\n",
       "      <td>NaN</td>\n",
       "      <td>NaN</td>\n",
       "      <td>NaN</td>\n",
       "      <td>NaN</td>\n",
       "      <td>NaN</td>\n",
       "      <td>NaN</td>\n",
       "      <td>NaN</td>\n",
       "      <td>NaN</td>\n",
       "      <td>NaN</td>\n",
       "      <td>1.0</td>\n",
       "    </tr>\n",
       "  </tbody>\n",
       "</table>\n",
       "</div>"
      ],
      "text/plain": [
       "   gen   x1   y1   x2   y2   x3   y3   x4   y4   x5   y5    0\n",
       "0  NaN  NaN  NaN  NaN  NaN  NaN  NaN  NaN  NaN  NaN  NaN  1.0\n",
       "1  NaN  NaN  NaN  NaN  NaN  NaN  NaN  NaN  NaN  NaN  NaN  1.0"
      ]
     },
     "execution_count": 45,
     "metadata": {},
     "output_type": "execute_result"
    }
   ],
   "source": [
    "#https://www.datacamp.com/community/tutorials/pandas-tutorial-dataframe-python#question3\n",
    "#df.append()\n",
    "tmp=pd.DataFrame([1,1,1])\n",
    "df.append(tmp)\n",
    "#df"
   ]
  },
  {
   "cell_type": "code",
   "execution_count": null,
   "metadata": {},
   "outputs": [],
   "source": [
    "#df.iloc[0]"
   ]
  }
 ],
 "metadata": {
  "kernelspec": {
   "display_name": "Python 3",
   "language": "python",
   "name": "python3"
  },
  "language_info": {
   "codemirror_mode": {
    "name": "ipython",
    "version": 3
   },
   "file_extension": ".py",
   "mimetype": "text/x-python",
   "name": "python",
   "nbconvert_exporter": "python",
   "pygments_lexer": "ipython3",
   "version": "3.6.6"
  }
 },
 "nbformat": 4,
 "nbformat_minor": 2
}
