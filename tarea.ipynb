{
 "cells": [
  {
   "cell_type": "markdown",
   "metadata": {},
   "source": [
    "**Apuntes útiles pandas**<br>\n",
    "- https://www.datacamp.com/community/tutorials/pandas-tutorial-dataframe-python#question3\n",
    "- https://stackoverflow.com/questions/15943769/how-do-i-get-the-row-count-of-a-pandas-dataframe\n",
    "- https://chrisalbon.com/python/data_wrangling/pandas_dropping_column_and_rows/\n",
    "\n",
    "Se ha establecido un dataframe con la siguiente estructura\n",
    "\n",
    "|generación|Puerta#1 x| Puerta#1 y|Puerta#2 x| Puerta#2 y|Puerta#3 x| Puerta#3 y|Puerta#4 x| Puerta#4 y|Puerta#5 x| Puerta#5 y|\n",
    "|-|-|-|-|-|-|-|-|-|-|-|\n",
    "|..|..|..|..|..|..|..|..|..|..|..|\n",
    "\n",
    "Donde cada fila corresponderá a un individuo"
   ]
  },
  {
   "cell_type": "code",
   "execution_count": 1,
   "metadata": {
    "scrolled": true
   },
   "outputs": [
    {
     "name": "stdout",
     "output_type": "stream",
     "text": [
      "inicializando, espere...\n",
      "Listo!\n"
     ]
    }
   ],
   "source": [
    "# https://pynetlogo.readthedocs.io/en/latest/_docs/pynetlogo.html\n",
    "# https://pynetlogo.readthedocs.io/en/latest/example1.html\n",
    "# import pandas as pd\n",
    "# import matplotlib.pyplot as plt\n",
    "# import seaborn as sns\n",
    "import platform\n",
    "import pyNetLogo\n",
    "import random\n",
    "import numpy as np\n",
    "gui=True #ejecutar netlogo con interfaz grafica (True = si, False = no)\n",
    "current_gen = 0 #contador de la generación actual\n",
    "max_gen=50 #total de generaciones\n",
    "n_puertas = 5 #numero de puertas a ubicar\n",
    "pop_size=20 #tamaño poblacion\n",
    "iteraciones=5\n",
    "selection_tournament=3 #cantidad de individuos por torneo\n",
    "prob_mutacion=0.3 #probabilidad de mutacion\n",
    "\n",
    "\n",
    "print(\"inicializando, espere...\")\n",
    "try:\n",
    "    sistema=platform.system()\n",
    "    if(sistema=='Windows'):\n",
    "        netlogo = pyNetLogo.NetLogoLink(gui=True)\n",
    "    elif(sistema=='Linux'):\n",
    "        netlogo = pyNetLogo.NetLogoLink(gui=gui,netlogo_home='NetLogo 6.0.4/')\n",
    "    else:\n",
    "        netlogo = pyNetLogo.NetLogoLink(gui=gui)\n",
    "    print(\"Listo!\")\n",
    "except:\n",
    "    print(\"Ocurrio un problema al levantar netlogo!\")\n",
    "\n"
   ]
  },
  {
   "cell_type": "code",
   "execution_count": 23,
   "metadata": {},
   "outputs": [],
   "source": [
    "# df=pd.DataFrame(columns=['gen','x1','y1','x2','y2','x3','y3','x4','y4','x5','y5']) #dataframe que representará a los individuos existentes\n",
    "# ww=netlogo.report(\"world-width\") #obtener el número de columnas de la grilla\n",
    "# wh=netlogo.report(\"world-height\") #obtener el número de filas de la grilla\n",
    "# plan_file = \"conference.plan\" #archivo plano \n",
    "# world=list() #representación del mundo en una lista multidimensional (filasXcolumnas)\n",
    "\n",
    "# wall_val=64 #valor de muralla\n",
    "# inner_val=0 #valor espacio interno edificio\n",
    "# outer_Val=2 #valor espacio externo edificio\n",
    "# door_val=45 #valor para las puertas\n"
   ]
  },
  {
   "cell_type": "code",
   "execution_count": 2,
   "metadata": {},
   "outputs": [],
   "source": [
    "# #abrir el archivo de plano para inicializar la representación de listas multidimensionales\n",
    "# with open(plan_file) as file:\n",
    "#     row=list()\n",
    "#     counter=0\n",
    "#     for i in file:\n",
    "#         patch=i.replace('\\n','').split(' ')\n",
    "#         if(counter%ww !=0):\n",
    "#             row.append(int(patch[2]))\n",
    "#         else:\n",
    "#             row=list()\n",
    "#             world.append(row)\n",
    "#         counter = counter + 1\n",
    "        \n",
    "#cargar el programa en netlogo\n",
    "netlogo.load_model(r'escape4_v6.nlogo')\n",
    "#cargar el plano en netlogo\n",
    "netlogo.command('set plan-data \"office.plan\"')\n",
    "netlogo.command(\"load-plan-file\")"
   ]
  },
  {
   "cell_type": "code",
   "execution_count": 12,
   "metadata": {},
   "outputs": [],
   "source": [
    "#simulate recibe la lista ordenada de coordenadas de puertas, realiza la simulación correspondiente y retorna los ticks que ha demorado\n",
    "#La distribución de puertas debe estar previamente validada, en caso de que las puertas no sean accesibles, la simulación podría quedar atascada en un while infinito\n",
    "def simulate(doors):\n",
    "    netlogo.command(\"set door-data [ [{0} {1}] [{2} {3}] [{4} {5}] [{6} {7}] [{8} {9}] ]\".format(*doors))\n",
    "    netlogo.command(\"show-plan\")\n",
    "    netlogo.command(\"generate-population\")\n",
    "    while(netlogo.report(\"count turtles\")>0):\n",
    "        netlogo.command(\"go\")\n",
    "    return(netlogo.report(\"ticks\"))\n",
    "\n",
    "#reinicia el dataframe y crea la primera generación, recibe la cantidad de individuos a generar\n",
    "def genesis(n):\n",
    "    global df\n",
    "    df=pd.DataFrame(columns=['gen','x1','y1','x2','y2','x3','y3','x4','y4','x5','y5']) #dataframe que representará a los individuos existentes\n",
    "    for i in range(n):\n",
    "        doors_loc=pick_random_doors(5)\n",
    "        df.loc[df.shape[0]]=[current_gen] + doors_loc\n",
    "        \n",
    "def catch_the_good_doors(): #Obtener las coordenadas x e y de todas las puertas(posibles) que nos sirven\n",
    "    x=netlogo.report(\"listax\")\n",
    "    y=netlogo.report(\"listay\")\n",
    "    arr=[]\n",
    "    for i in range(len(x)):\n",
    "        arr.append([x[i],y[i]])\n",
    "    return arr\n",
    "\n",
    "def simulate_ind(arr_indexes,gen):\n",
    "    return(simulate([gen[arr_indexes[0]][0],gen[arr_indexes[0]][1],gen[arr_indexes[1]][0],gen[arr_indexes[1]][1],gen[arr_indexes[2]][0],gen[arr_indexes[2]][1],gen[arr_indexes[3]][0],gen[arr_indexes[3]][1],gen[arr_indexes[4]][0],gen[arr_indexes[4]][1]]))"
   ]
  },
  {
   "cell_type": "code",
   "execution_count": 11,
   "metadata": {},
   "outputs": [
    {
     "data": {
      "text/plain": [
       "298"
      ]
     },
     "execution_count": 11,
     "metadata": {},
     "output_type": "execute_result"
    }
   ],
   "source": [
    "tuplas=catch_the_good_doors() #gen\n",
    "len(tuplas)"
   ]
  },
  {
   "cell_type": "code",
   "execution_count": 121,
   "metadata": {},
   "outputs": [
    {
     "name": "stdout",
     "output_type": "stream",
     "text": [
      "298\n"
     ]
    }
   ],
   "source": [
    "largo=len(tuplas)\n",
    "# tuplas\n",
    "print(largo)"
   ]
  },
  {
   "cell_type": "markdown",
   "metadata": {},
   "source": [
    "# Creación Generación 0"
   ]
  },
  {
   "cell_type": "code",
   "execution_count": 122,
   "metadata": {},
   "outputs": [],
   "source": [
    "indice_Puertas=[]\n",
    "for i in range(pop_size):\n",
    "    indice_puertas_Individuo=[]\n",
    "    for x in range(5):\n",
    "        indice_puertas_Individuo.append(random.randint(0,largo-1))\n",
    "    indice_Puertas.append(indice_puertas_Individuo)\n",
    "#     print(puertasIndividuo)\n",
    "#   simulate(puertasIndividuo)"
   ]
  },
  {
   "cell_type": "code",
   "execution_count": 123,
   "metadata": {
    "scrolled": true
   },
   "outputs": [
    {
     "data": {
      "text/plain": [
       "[[196, 28, 281, 211, 293],\n",
       " [195, 121, 160, 178, 285],\n",
       " [145, 33, 288, 178, 59],\n",
       " [271, 58, 38, 53, 126],\n",
       " [103, 258, 277, 253, 30],\n",
       " [135, 194, 105, 161, 93],\n",
       " [91, 266, 163, 205, 19],\n",
       " [150, 291, 128, 289, 247],\n",
       " [38, 196, 273, 36, 162],\n",
       " [50, 107, 293, 119, 41],\n",
       " [76, 271, 132, 32, 105],\n",
       " [97, 1, 24, 139, 29],\n",
       " [277, 114, 208, 214, 111],\n",
       " [154, 267, 168, 197, 165],\n",
       " [4, 277, 172, 277, 288],\n",
       " [197, 71, 137, 169, 201],\n",
       " [15, 158, 255, 104, 252],\n",
       " [270, 289, 32, 121, 251],\n",
       " [228, 119, 83, 120, 118],\n",
       " [51, 285, 63, 226, 210]]"
      ]
     },
     "execution_count": 123,
     "metadata": {},
     "output_type": "execute_result"
    }
   ],
   "source": [
    "# coord_puertas_Gen0\n",
    "indice_Puertas"
   ]
  },
  {
   "cell_type": "markdown",
   "metadata": {},
   "source": [
    "# Evaluación"
   ]
  },
  {
   "cell_type": "code",
   "execution_count": 258,
   "metadata": {
    "scrolled": true
   },
   "outputs": [
    {
     "name": "stdout",
     "output_type": "stream",
     "text": [
      "2189.2 109.46\n"
     ]
    }
   ],
   "source": [
    "# import time\n",
    "ticks=[]\n",
    "#t0=time.time()\n",
    "for i in range(len(indice_Puertas)):\n",
    "    auxTicks=[]\n",
    "    for itera in range(iteraciones):\n",
    "        auxTicks.append(simulate_ind(indice_Puertas[i],tuplas))\n",
    "    #print(sum(auxTicks)/float(iteraciones))\n",
    "    ticks.append(np.mean(auxTicks))\n",
    "# ticks\n",
    "total_Fitness=np.sum(ticks)\n",
    "media_Fitness=np.mean(ticks)\n",
    "print(total_Fitness,media_Fitness)\n",
    "# print(\"%s  Segundos \"%(time.time()-t0))"
   ]
  },
  {
   "cell_type": "markdown",
   "metadata": {},
   "source": [
    "# Selección"
   ]
  },
  {
   "cell_type": "code",
   "execution_count": null,
   "metadata": {},
   "outputs": [],
   "source": [
    "# auxiliar=[]\n",
    "# for i in range(len(thaBest)):\n",
    "#     for j in range(5):\n",
    "#         auxiliar.append(thaBest[i][j])\n",
    "\n",
    "# for i in (selection_tournament):\n",
    "#     x=[]\n",
    "#     for j in range(5):\n",
    "#         x.append(a[random.randint(0,len(auxiliar)-1)])\n",
    "    "
   ]
  },
  {
   "cell_type": "code",
   "execution_count": 259,
   "metadata": {
    "scrolled": false
   },
   "outputs": [
    {
     "data": {
      "text/plain": [
       "[[154, 267, 168, 197, 165],\n",
       " [145, 267, 168, 214, 19],\n",
       " [15, 158, 168, 214, 19],\n",
       " [197, 33, 38, 197, 165],\n",
       " [270, 33, 38, 197, 165],\n",
       " [271, 33, 38, 197, 165],\n",
       " [91, 267, 168, 205, 165],\n",
       " [97, 1, 24, 139, 29],\n",
       " [270, 33, 38, 197, 165],\n",
       " [195, 285, 208, 214, 19],\n",
       " [195, 285, 208, 214, 19],\n",
       " [270, 33, 38, 197, 165],\n",
       " [277, 267, 168, 205, 165],\n",
       " [91, 267, 168, 205, 165],\n",
       " [270, 33, 38, 197, 165],\n",
       " [271, 33, 38, 197, 165],\n",
       " [270, 33, 38, 197, 165],\n",
       " [38, 267, 168, 205, 165],\n",
       " [91, 267, 168, 205, 165],\n",
       " [270, 33, 38, 197, 165]]"
      ]
     },
     "execution_count": 259,
     "metadata": {},
     "output_type": "execute_result"
    }
   ],
   "source": [
    "##\n",
    "#ticks\n",
    "poblacion=[]\n",
    "for pop in range (pop_size):\n",
    "    thaBest=[]\n",
    "    bestTicks=[]\n",
    "    for i in range (selection_tournament):\n",
    "        azar=random.randint(0,pop_size-1)\n",
    "        aux1=ticks[azar]\n",
    "        bestTicks.append(int(aux1))\n",
    "        aux2=indice_Puertas[azar]\n",
    "        thaBest.append(aux2)\n",
    "    mejor_ticks=np.amin(bestTicks)\n",
    "    index=bestTicks.index(mejor_ticks)\n",
    "    #print(index)\n",
    "    poblacion.append(thaBest[index])\n",
    "    #print(mejor_ticks)\n",
    "    #print(thaBest)\n",
    "poblacion"
   ]
  },
  {
   "cell_type": "code",
   "execution_count": 260,
   "metadata": {},
   "outputs": [
    {
     "name": "stdout",
     "output_type": "stream",
     "text": [
      "[277, 267, 168, 205, 165]\n",
      "[277, 267]\n",
      "[168, 205, 165]\n"
     ]
    }
   ],
   "source": [
    "temp=poblacion\n",
    "punto_corte= random.randint(1,4) \n",
    "print(temp[12])\n",
    "print(temp[12][:punto_corte])\n",
    "print(temp[12][punto_corte:])"
   ]
  },
  {
   "cell_type": "markdown",
   "metadata": {},
   "source": [
    "# Recombinación"
   ]
  },
  {
   "cell_type": "code",
   "execution_count": 261,
   "metadata": {},
   "outputs": [
    {
     "data": {
      "text/plain": [
       "[[154, 267, 168, 197, 165],\n",
       " [145, 267, 168, 214, 19],\n",
       " [15, 158, 168, 214, 19],\n",
       " [197, 33, 38, 197, 165],\n",
       " [270, 33, 38, 197, 165],\n",
       " [271, 33, 38, 197, 165],\n",
       " [91, 267, 168, 205, 165],\n",
       " [97, 1, 24, 139, 29],\n",
       " [270, 33, 38, 197, 165],\n",
       " [195, 285, 208, 214, 19],\n",
       " [195, 285, 208, 214, 19],\n",
       " [270, 33, 38, 197, 165],\n",
       " [277, 267, 168, 205, 165],\n",
       " [91, 267, 168, 205, 165],\n",
       " [270, 33, 38, 197, 165],\n",
       " [271, 33, 38, 197, 165],\n",
       " [270, 33, 38, 197, 165],\n",
       " [38, 267, 168, 205, 165],\n",
       " [91, 267, 168, 205, 165],\n",
       " [270, 33, 38, 197, 165]]"
      ]
     },
     "execution_count": 261,
     "metadata": {},
     "output_type": "execute_result"
    }
   ],
   "source": [
    "#Se mezcla el material genetico para crear nuevos individuos\n",
    "for i in range(int(pop_size/2)):\n",
    "    punto_corte = random.randint(1,4) #Se elige un punto para hacer el intercambio\n",
    "    padre1=poblacion[i] #Se eligen dos padres\n",
    "    padre2=poblacion[(int(pop_size/2))+i]\n",
    "\n",
    "    poblacion[i][:punto_corte] = padre1[:punto_corte] #Se mezcla el material genetico de los padres en cada nuevo individuo\n",
    "    poblacion[int(pop_size/2)+i][punto_corte:] = padre2[punto_corte:]\n",
    "poblacion"
   ]
  },
  {
   "cell_type": "markdown",
   "metadata": {},
   "source": [
    "# Mutación"
   ]
  },
  {
   "cell_type": "code",
   "execution_count": 234,
   "metadata": {},
   "outputs": [
    {
     "data": {
      "text/plain": [
       "228"
      ]
     },
     "execution_count": 234,
     "metadata": {},
     "output_type": "execute_result"
    }
   ],
   "source": [
    "#####CORREGIR######\n",
    "for individuo in indice_Puertas:\n",
    "    if(random.random()<=prob_mutacion):\n",
    "        pos=random.randint(0,4)\n",
    "        nuevaPuerta=random.randint(0,largo-1)\n",
    "        while(indice_Puertas[individuo][pos]==nuevaPuerta):\n",
    "            nuevaPuerta=random.randint(0,largo-1)\n",
    "        indice_Puertas[individuo][pos]=nuevaPuerta\n",
    "#terminar mutación, corregir posibles errores"
   ]
  },
  {
   "cell_type": "code",
   "execution_count": null,
   "metadata": {},
   "outputs": [],
   "source": [
    "###despues de tooooodo este webeo tendriamos la gen 1 lista para evaluar y asi sucesivamente"
   ]
  },
  {
   "cell_type": "code",
   "execution_count": 15,
   "metadata": {},
   "outputs": [
    {
     "ename": "TypeError",
     "evalue": "list indices must be integers or slices, not str",
     "output_type": "error",
     "traceback": [
      "\u001b[0;31m--------------------------------------------------------------------------\u001b[0m",
      "\u001b[0;31mTypeError\u001b[0m                                Traceback (most recent call last)",
      "\u001b[0;32m<ipython-input-15-487da5d0b77d>\u001b[0m in \u001b[0;36m<module>\u001b[0;34m()\u001b[0m\n\u001b[0;32m----> 1\u001b[0;31m \u001b[0mpop\u001b[0m\u001b[0;34m[\u001b[0m\u001b[0;34m'gen'\u001b[0m\u001b[0;34m]\u001b[0m\u001b[0;34m\u001b[0m\u001b[0m\n\u001b[0m",
      "\u001b[0;31mTypeError\u001b[0m: list indices must be integers or slices, not str"
     ]
    }
   ],
   "source": []
  },
  {
   "cell_type": "code",
   "execution_count": 10,
   "metadata": {},
   "outputs": [],
   "source": [
    "pop=[{'doors': [168, 58, 260, 193, 276], 'gen': 5, 'ticks': 85.4},\n",
    " {'doors': [37, 230, 85, 193, 276], 'gen': 5, 'ticks': 88.0},\n",
    " {'doors': [277, 112, 82, 39, 186], 'gen': 5, 'ticks': 96.4},\n",
    " {'doors': [253, 128, 210, 172, 61], 'gen': 5, 'ticks': 91.6},\n",
    " {'doors': [276, 67, 95, 45, 55], 'gen': 5, 'ticks': 129.4},\n",
    " {'doors': [248, 58, 130, 39, 186], 'gen': 5, 'ticks': 104.2},\n",
    " {'doors': [168, 58, 260, 45, 260], 'gen': 0, 'ticks': 87.8},\n",
    " {'doors': [37, 230, 85, 202, 136], 'gen': 0, 'ticks': 83.4},\n",
    " {'doors': [277, 112, 82, 200, 61], 'gen': 4, 'ticks': 84.0},\n",
    " {'doors': [253, 128, 210, 78, 156], 'gen': 0, 'ticks': 92.0},\n",
    " {'doors': [276, 67, 95, 238, 251], 'gen': 0, 'ticks': 103.2},\n",
    " {'doors': [248, 50, 130, 200, 23], 'gen': 3, 'ticks': 90.2},\n",
    " {'doors': [253, 128, 210, 193, 276], 'gen': 3, 'ticks': 94.0},\n",
    " {'doors': [277, 67, 82, 193, 276], 'gen': 0, 'ticks': 91.0},\n",
    " {'doors': [260, 204, 17, 39, 186], 'gen': 1, 'ticks': 102.2},\n",
    " {'doors': [125, 277, 5, 172, 61], 'gen': 0, 'ticks': 100.6},\n",
    " {'doors': [248, 58, 130, 45, 55], 'gen': 4, 'ticks': 78.2},\n",
    " {'doors': [125, 277, 45, 39, 186], 'gen': 3, 'ticks': 95.2},\n",
    " {'doors': [253, 67, 95, 202, 136], 'gen': 4, 'ticks': 95.6},\n",
    " {'doors': [37, 128, 210, 200, 23], 'gen': 4, 'ticks': 102.6},\n",
    " {'doors': [277, 112, 82, 200, 61], 'gen': 4, 'ticks': 84.0},\n",
    " {'doors': [248, 58, 130, 45, 55], 'gen': 4, 'ticks': 78.2},\n",
    " {'doors': [202, 16, 75, 133, 162], 'gen': 4, 'ticks': 113.2},\n",
    " {'doors': [253, 67, 95, 238, 251], 'gen': 1, 'ticks': 98.2},\n",
    " {'doors': [37, 128, 210, 78, 179], 'gen': 2, 'ticks': 84.2},\n",
    " {'doors': [277, 67, 82, 193, 276], 'gen': 0, 'ticks': 91.0},\n",
    " {'doors': [248, 58, 130, 45, 260], 'gen': 1, 'ticks': 90.8},\n",
    " {'doors': [202, 16, 75, 125, 94], 'gen': 0, 'ticks': 91.6},\n",
    " {'doors': [37, 230, 85, 202, 136], 'gen': 0, 'ticks': 83.4},\n",
    " {'doors': [248, 50, 130, 200, 23], 'gen': 3, 'ticks': 90.2},\n",
    " {'doors': [125, 277, 5, 172, 61], 'gen': 0, 'ticks': 100.6},\n",
    " {'doors': [168, 58, 260, 45, 260], 'gen': 0, 'ticks': 87.8},\n",
    " {'doors': [66, 239, 272, 106, 162], 'gen': 0, 'ticks': 113.0},\n",
    " {'doors': [164, 250, 69, 296, 155], 'gen': 0, 'ticks': 122.6},\n",
    " {'doors': [125, 277, 45, 39, 186], 'gen': 3, 'ticks': 95.2},\n",
    " {'doors': [37, 230, 85, 78, 76], 'gen': 3, 'ticks': 107.2},\n",
    " {'doors': [248, 50, 130, 200, 23], 'gen': 3, 'ticks': 90.2},\n",
    " {'doors': [253, 128, 210, 193, 276], 'gen': 3, 'ticks': 94.0},\n",
    " {'doors': [125, 277, 5, 172, 61], 'gen': 0, 'ticks': 100.6},\n",
    " {'doors': [37, 230, 85, 202, 136], 'gen': 0, 'ticks': 83.4},\n",
    " {'doors': [248, 58, 130, 45, 260], 'gen': 1, 'ticks': 90.8},\n",
    " {'doors': [253, 128, 210, 78, 156], 'gen': 0, 'ticks': 92.0},\n",
    " {'doors': [288, 204, 17, 39, 186], 'gen': 0, 'ticks': 95.6},\n",
    " {'doors': [37, 128, 210, 78, 179], 'gen': 2, 'ticks': 84.2},\n",
    " {'doors': [37, 277, 5, 200, 23], 'gen': 2, 'ticks': 118.8},\n",
    " {'doors': [240, 112, 82, 193, 276], 'gen': 2, 'ticks': 107.4},\n",
    " {'doors': [168, 58, 260, 45, 260], 'gen': 0, 'ticks': 87.8},\n",
    " {'doors': [37, 128, 210, 78, 179], 'gen': 2, 'ticks': 84.2},\n",
    " {'doors': [37, 277, 5, 200, 23], 'gen': 2, 'ticks': 118.8},\n",
    " {'doors': [37, 173, 70, 224, 79], 'gen': 2, 'ticks': 194.2},\n",
    " {'doors': [240, 112, 82, 193, 276], 'gen': 2, 'ticks': 107.4},\n",
    " {'doors': [248, 58, 130, 45, 260], 'gen': 1, 'ticks': 90.8},\n",
    " {'doors': [37, 230, 85, 202, 136], 'gen': 0, 'ticks': 83.4},\n",
    " {'doors': [37, 287, 95, 69, 176], 'gen': 0, 'ticks': 115.6},\n",
    " {'doors': [240, 164, 294, 97, 47], 'gen': 0, 'ticks': 120.0},\n",
    " {'doors': [253, 128, 210, 78, 156], 'gen': 0, 'ticks': 92.0},\n",
    " {'doors': [125, 277, 5, 172, 61], 'gen': 0, 'ticks': 100.6},\n",
    " {'doors': [97, 173, 70, 224, 145], 'gen': 0, 'ticks': 119.8},\n",
    " {'doors': [277, 67, 82, 193, 276], 'gen': 0, 'ticks': 91.0},\n",
    " {'doors': [248, 58, 130, 45, 260], 'gen': 1, 'ticks': 90.8},\n",
    " {'doors': [253, 67, 95, 238, 251], 'gen': 1, 'ticks': 98.2},\n",
    " {'doors': [260, 204, 17, 39, 186], 'gen': 1, 'ticks': 102.2},\n",
    " {'doors': [37, 230, 85, 202, 136], 'gen': 0, 'ticks': 83.4},\n",
    " {'doors': [253, 128, 210, 78, 156], 'gen': 0, 'ticks': 92.0},\n",
    " {'doors': [23, 102, 148, 194, 226], 'gen': 0, 'ticks': 118.2},\n",
    " {'doors': [168, 58, 260, 45, 260], 'gen': 0, 'ticks': 87.8},\n",
    " {'doors': [276, 67, 95, 238, 251], 'gen': 0, 'ticks': 103.2},\n",
    " {'doors': [288, 204, 17, 39, 186], 'gen': 0, 'ticks': 95.6},\n",
    " {'doors': [276, 178, 97, 217, 68], 'gen': 0, 'ticks': 114.2},\n",
    " {'doors': [168, 58, 260, 45, 260], 'gen': 0, 'ticks': 87.8},\n",
    " {'doors': [240, 164, 294, 97, 47], 'gen': 0, 'ticks': 120.0},\n",
    " {'doors': [275, 95, 286, 176, 204], 'gen': 0, 'ticks': 154.8},\n",
    " {'doors': [178, 58, 186, 106, 143], 'gen': 0, 'ticks': 143.0},\n",
    " {'doors': [97, 173, 70, 224, 145], 'gen': 0, 'ticks': 119.8},\n",
    " {'doors': [276, 178, 97, 217, 68], 'gen': 0, 'ticks': 114.2},\n",
    " {'doors': [37, 287, 95, 69, 176], 'gen': 0, 'ticks': 115.6},\n",
    " {'doors': [13, 83, 120, 263, 57], 'gen': 0, 'ticks': 160.2},\n",
    " {'doors': [66, 239, 272, 106, 162], 'gen': 0, 'ticks': 113.0},\n",
    " {'doors': [277, 67, 82, 193, 276], 'gen': 0, 'ticks': 91.0},\n",
    " {'doors': [106, 256, 36, 134, 99], 'gen': 0, 'ticks': 123.2},\n",
    " {'doors': [37, 230, 85, 202, 136], 'gen': 0, 'ticks': 83.4},\n",
    " {'doors': [202, 16, 75, 125, 94], 'gen': 0, 'ticks': 91.6},\n",
    " {'doors': [276, 67, 95, 238, 251], 'gen': 0, 'ticks': 103.2},\n",
    " {'doors': [164, 250, 69, 296, 155], 'gen': 0, 'ticks': 122.6},\n",
    " {'doors': [187, 161, 240, 201, 213], 'gen': 0, 'ticks': 155.0},\n",
    " {'doors': [23, 102, 148, 194, 226], 'gen': 0, 'ticks': 118.2},\n",
    " {'doors': [125, 277, 5, 172, 61], 'gen': 0, 'ticks': 100.6},\n",
    " {'doors': [253, 128, 210, 78, 156], 'gen': 0, 'ticks': 92.0},\n",
    " {'doors': [288, 204, 17, 39, 186], 'gen': 0, 'ticks': 95.6}]"
   ]
  },
  {
   "cell_type": "code",
   "execution_count": 1,
   "metadata": {},
   "outputs": [
    {
     "data": {
      "text/plain": [
       "27"
      ]
     },
     "execution_count": 1,
     "metadata": {},
     "output_type": "execute_result"
    }
   ],
   "source": [
    "pop2=[\n",
    " {'doors': [37, 230, 85, 202, 136], 'gen': 0, 'ticks': 83.4},\n",
    " {'doors': [253, 128, 210, 78, 156], 'gen': 0, 'ticks': 92.0},\n",
    " {'doors': [23, 102, 148, 194, 226], 'gen': 0, 'ticks': 118.2},\n",
    " {'doors': [168, 58, 260, 45, 260], 'gen': 0, 'ticks': 87.8},\n",
    " {'doors': [276, 67, 95, 238, 251], 'gen': 0, 'ticks': 103.2},\n",
    " {'doors': [288, 204, 17, 39, 186], 'gen': 0, 'ticks': 95.6},\n",
    " {'doors': [276, 178, 97, 217, 68], 'gen': 0, 'ticks': 114.2},\n",
    " {'doors': [168, 58, 260, 45, 260], 'gen': 0, 'ticks': 87.8},\n",
    " {'doors': [240, 164, 294, 97, 47], 'gen': 0, 'ticks': 120.0},\n",
    " {'doors': [275, 95, 286, 176, 204], 'gen': 0, 'ticks': 154.8},\n",
    " {'doors': [178, 58, 186, 106, 143], 'gen': 0, 'ticks': 143.0},\n",
    " {'doors': [97, 173, 70, 224, 145], 'gen': 0, 'ticks': 119.8},\n",
    " {'doors': [276, 178, 97, 217, 68], 'gen': 0, 'ticks': 114.2},\n",
    " {'doors': [37, 287, 95, 69, 176], 'gen': 0, 'ticks': 115.6},\n",
    " {'doors': [13, 83, 120, 263, 57], 'gen': 0, 'ticks': 160.2},\n",
    " {'doors': [66, 239, 272, 106, 162], 'gen': 0, 'ticks': 113.0},\n",
    " {'doors': [277, 67, 82, 193, 276], 'gen': 0, 'ticks': 91.0},\n",
    " {'doors': [106, 256, 36, 134, 99], 'gen': 0, 'ticks': 123.2},\n",
    " {'doors': [37, 230, 85, 202, 136], 'gen': 0, 'ticks': 83.4},\n",
    " {'doors': [202, 16, 75, 125, 94], 'gen': 0, 'ticks': 91.6},\n",
    " {'doors': [276, 67, 95, 238, 251], 'gen': 0, 'ticks': 103.2},\n",
    " {'doors': [164, 250, 69, 296, 155], 'gen': 0, 'ticks': 122.6},\n",
    " {'doors': [187, 161, 240, 201, 213], 'gen': 0, 'ticks': 155.0},\n",
    " {'doors': [23, 102, 148, 194, 226], 'gen': 0, 'ticks': 118.2},\n",
    " {'doors': [125, 277, 5, 172, 61], 'gen': 0, 'ticks': 100.6},\n",
    " {'doors': [253, 128, 210, 78, 156], 'gen': 0, 'ticks': 92.0},\n",
    " {'doors': [288, 204, 17, 39, 186], 'gen': 0, 'ticks': 95.6}]\n",
    "len(pop2)"
   ]
  },
  {
   "cell_type": "code",
   "execution_count": 2,
   "metadata": {},
   "outputs": [],
   "source": [
    "import numpy as np\n",
    "def do_tournament(pop,n_players):\n",
    "    result = []\n",
    "    tmp_pop = pop.copy()\n",
    "    if(n_players > len(pop)):\n",
    "        n_players=len(pop)\n",
    "    for i in range(len(tmp_pop)):\n",
    "        players_selection = []\n",
    "        for j in range (n_players):\n",
    "            selection = np.random.choice(tmp_pop)\n",
    "            players_selection.append(selection)\n",
    "        winner = players_selection[np.argmin([ i['ticks'] for i in players_selection])]\n",
    "        result.append(winner)    \n",
    "    return result"
   ]
  },
  {
   "cell_type": "code",
   "execution_count": 3,
   "metadata": {},
   "outputs": [
    {
     "data": {
      "text/plain": [
       "[{'doors': [37, 230, 85, 202, 136], 'gen': 0, 'ticks': 83.4},\n",
       " {'doors': [288, 204, 17, 39, 186], 'gen': 0, 'ticks': 95.6},\n",
       " {'doors': [125, 277, 5, 172, 61], 'gen': 0, 'ticks': 100.6},\n",
       " {'doors': [37, 287, 95, 69, 176], 'gen': 0, 'ticks': 115.6},\n",
       " {'doors': [168, 58, 260, 45, 260], 'gen': 0, 'ticks': 87.8},\n",
       " {'doors': [253, 128, 210, 78, 156], 'gen': 0, 'ticks': 92.0},\n",
       " {'doors': [253, 128, 210, 78, 156], 'gen': 0, 'ticks': 92.0},\n",
       " {'doors': [168, 58, 260, 45, 260], 'gen': 0, 'ticks': 87.8},\n",
       " {'doors': [253, 128, 210, 78, 156], 'gen': 0, 'ticks': 92.0},\n",
       " {'doors': [276, 178, 97, 217, 68], 'gen': 0, 'ticks': 114.2},\n",
       " {'doors': [168, 58, 260, 45, 260], 'gen': 0, 'ticks': 87.8},\n",
       " {'doors': [288, 204, 17, 39, 186], 'gen': 0, 'ticks': 95.6},\n",
       " {'doors': [37, 230, 85, 202, 136], 'gen': 0, 'ticks': 83.4},\n",
       " {'doors': [23, 102, 148, 194, 226], 'gen': 0, 'ticks': 118.2},\n",
       " {'doors': [277, 67, 82, 193, 276], 'gen': 0, 'ticks': 91.0},\n",
       " {'doors': [37, 230, 85, 202, 136], 'gen': 0, 'ticks': 83.4},\n",
       " {'doors': [168, 58, 260, 45, 260], 'gen': 0, 'ticks': 87.8},\n",
       " {'doors': [37, 230, 85, 202, 136], 'gen': 0, 'ticks': 83.4},\n",
       " {'doors': [276, 67, 95, 238, 251], 'gen': 0, 'ticks': 103.2},\n",
       " {'doors': [276, 67, 95, 238, 251], 'gen': 0, 'ticks': 103.2},\n",
       " {'doors': [288, 204, 17, 39, 186], 'gen': 0, 'ticks': 95.6},\n",
       " {'doors': [37, 230, 85, 202, 136], 'gen': 0, 'ticks': 83.4},\n",
       " {'doors': [277, 67, 82, 193, 276], 'gen': 0, 'ticks': 91.0},\n",
       " {'doors': [277, 67, 82, 193, 276], 'gen': 0, 'ticks': 91.0},\n",
       " {'doors': [288, 204, 17, 39, 186], 'gen': 0, 'ticks': 95.6},\n",
       " {'doors': [168, 58, 260, 45, 260], 'gen': 0, 'ticks': 87.8},\n",
       " {'doors': [288, 204, 17, 39, 186], 'gen': 0, 'ticks': 95.6}]"
      ]
     },
     "execution_count": 3,
     "metadata": {},
     "output_type": "execute_result"
    }
   ],
   "source": [
    "winner=do_tournament(pop2,3)\n",
    "winner"
   ]
  },
  {
   "cell_type": "code",
   "execution_count": 173,
   "metadata": {},
   "outputs": [],
   "source": [
    "import random\n",
    "n_doors=5\n",
    "def do_crossover(pop,gen_number):\n",
    "    new_pop = pop.copy()\n",
    "    cross_pop=[]\n",
    "    indexes=[]\n",
    "    for individual in range (len(new_pop)):\n",
    "        if (np.random.random() <= 0.3):\n",
    "#             temp=new_pop.pop(individual)\n",
    "            indexes.append(individual)\n",
    "            cross_pop.append(new_pop[individual])\n",
    "    if(len(cross_pop)%2==1):\n",
    "        r=random.randint(0,len(cross_pop)-1)\n",
    "        cross_pop.pop(r)\n",
    "        indexes.pop(r)\n",
    "\n",
    "    for i in range (int(len(cross_pop)/2)):\n",
    "        punto_corte = random.randint(1,n_doors - 1)\n",
    "        parent1=cross_pop[i]['doors']\n",
    "        parent2=cross_pop[int(len(cross_pop)/2 + i)]['doors']\n",
    "        new_individual_1 = {\n",
    "            'doors':parent1[:punto_corte] + parent2[punto_corte:],\n",
    "            'gen':gen_number,\n",
    "            'ticks':0\n",
    "        }\n",
    "        new_individual_2={\n",
    "            'doors':parent1[punto_corte:]+parent2[:punto_corte],\n",
    "            'gen':gen_number,\n",
    "            'ticks':0\n",
    "        }\n",
    "        cross_pop[i]=new_individual_1\n",
    "        cross_pop[int(len(cross_pop)/2) + i]=new_individual_2\n",
    "        for i in range(len(indexes)):\n",
    "            new_pop[indexes[i]]=cross_pop[i]\n",
    "        \n",
    "    result=new_pop\n",
    "    return result\n",
    "        \n"
   ]
  },
  {
   "cell_type": "code",
   "execution_count": 174,
   "metadata": {},
   "outputs": [
    {
     "name": "stdout",
     "output_type": "stream",
     "text": [
      "[{'doors': [288, 204, 17, 39, 68], 'gen': 1, 'ticks': 0}, {'doors': [168, 58, 260, 45, 260], 'gen': 1, 'ticks': 0}, {'doors': [186, 276, 178, 97, 217], 'gen': 1, 'ticks': 0}, {'doors': [260, 168, 58, 260, 45], 'gen': 1, 'ticks': 0}]\n"
     ]
    },
    {
     "data": {
      "text/plain": [
       "[{'doors': [37, 230, 85, 202, 136], 'gen': 0, 'ticks': 83.4},\n",
       " {'doors': [288, 204, 17, 39, 68], 'gen': 1, 'ticks': 0},\n",
       " {'doors': [125, 277, 5, 172, 61], 'gen': 0, 'ticks': 100.6},\n",
       " {'doors': [37, 287, 95, 69, 176], 'gen': 0, 'ticks': 115.6},\n",
       " {'doors': [168, 58, 260, 45, 260], 'gen': 1, 'ticks': 0},\n",
       " {'doors': [253, 128, 210, 78, 156], 'gen': 0, 'ticks': 92.0},\n",
       " {'doors': [253, 128, 210, 78, 156], 'gen': 0, 'ticks': 92.0},\n",
       " {'doors': [168, 58, 260, 45, 260], 'gen': 0, 'ticks': 87.8},\n",
       " {'doors': [253, 128, 210, 78, 156], 'gen': 0, 'ticks': 92.0},\n",
       " {'doors': [186, 276, 178, 97, 217], 'gen': 1, 'ticks': 0},\n",
       " {'doors': [168, 58, 260, 45, 260], 'gen': 0, 'ticks': 87.8},\n",
       " {'doors': [288, 204, 17, 39, 186], 'gen': 0, 'ticks': 95.6},\n",
       " {'doors': [37, 230, 85, 202, 136], 'gen': 0, 'ticks': 83.4},\n",
       " {'doors': [23, 102, 148, 194, 226], 'gen': 0, 'ticks': 118.2},\n",
       " {'doors': [277, 67, 82, 193, 276], 'gen': 0, 'ticks': 91.0},\n",
       " {'doors': [37, 230, 85, 202, 136], 'gen': 0, 'ticks': 83.4},\n",
       " {'doors': [260, 168, 58, 260, 45], 'gen': 1, 'ticks': 0},\n",
       " {'doors': [37, 230, 85, 202, 136], 'gen': 0, 'ticks': 83.4},\n",
       " {'doors': [276, 67, 95, 238, 251], 'gen': 0, 'ticks': 103.2},\n",
       " {'doors': [276, 67, 95, 238, 251], 'gen': 0, 'ticks': 103.2},\n",
       " {'doors': [288, 204, 17, 39, 186], 'gen': 0, 'ticks': 95.6},\n",
       " {'doors': [37, 230, 85, 202, 136], 'gen': 0, 'ticks': 83.4},\n",
       " {'doors': [277, 67, 82, 193, 276], 'gen': 0, 'ticks': 91.0},\n",
       " {'doors': [277, 67, 82, 193, 276], 'gen': 0, 'ticks': 91.0},\n",
       " {'doors': [288, 204, 17, 39, 186], 'gen': 0, 'ticks': 95.6},\n",
       " {'doors': [168, 58, 260, 45, 260], 'gen': 0, 'ticks': 87.8},\n",
       " {'doors': [288, 204, 17, 39, 186], 'gen': 0, 'ticks': 95.6}]"
      ]
     },
     "execution_count": 174,
     "metadata": {},
     "output_type": "execute_result"
    }
   ],
   "source": [
    "do_crossover(winner,1)"
   ]
  },
  {
   "cell_type": "code",
   "execution_count": null,
   "metadata": {},
   "outputs": [],
   "source": []
  },
  {
   "cell_type": "code",
   "execution_count": null,
   "metadata": {},
   "outputs": [],
   "source": []
  },
  {
   "cell_type": "code",
   "execution_count": 13,
   "metadata": {},
   "outputs": [],
   "source": [
    "netlogo.kill_workspace()"
   ]
  }
 ],
 "metadata": {
  "kernelspec": {
   "display_name": "Python 3",
   "language": "python",
   "name": "python3"
  },
  "language_info": {
   "codemirror_mode": {
    "name": "ipython",
    "version": 3
   },
   "file_extension": ".py",
   "mimetype": "text/x-python",
   "name": "python",
   "nbconvert_exporter": "python",
   "pygments_lexer": "ipython3",
   "version": "3.6.6"
  }
 },
 "nbformat": 4,
 "nbformat_minor": 2
}
