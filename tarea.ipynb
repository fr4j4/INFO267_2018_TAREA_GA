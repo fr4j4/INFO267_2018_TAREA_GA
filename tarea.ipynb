{
 "cells": [
  {
   "cell_type": "markdown",
   "metadata": {},
   "source": [
    "**Apuntes útiles pandas**<br>\n",
    "- https://www.datacamp.com/community/tutorials/pandas-tutorial-dataframe-python#question3\n",
    "- https://stackoverflow.com/questions/15943769/how-do-i-get-the-row-count-of-a-pandas-dataframe\n",
    "- https://chrisalbon.com/python/data_wrangling/pandas_dropping_column_and_rows/\n",
    "\n",
    "Se ha establecido un dataframe con la siguiente estructura\n",
    "\n",
    "|generación|Puerta#1 x| Puerta#1 y|Puerta#2 x| Puerta#2 y|Puerta#3 x| Puerta#3 y|Puerta#4 x| Puerta#4 y|Puerta#5 x| Puerta#5 y|\n",
    "|-|-|-|-|-|-|-|-|-|-|-|\n",
    "|..|..|..|..|..|..|..|..|..|..|..|\n",
    "\n",
    "Donde cada fila corresponderá a un individuo"
   ]
  },
  {
   "cell_type": "code",
   "execution_count": 82,
   "metadata": {
    "scrolled": true
   },
   "outputs": [
    {
     "name": "stdout",
     "output_type": "stream",
     "text": [
      "inicializando, espere...\n",
      "Listo!\n"
     ]
    }
   ],
   "source": [
    "# https://pynetlogo.readthedocs.io/en/latest/_docs/pynetlogo.html\n",
    "# https://pynetlogo.readthedocs.io/en/latest/example1.html\n",
    "import pandas as pd\n",
    "import matplotlib.pyplot as plt\n",
    "import seaborn as sns\n",
    "import platform\n",
    "import pyNetLogo\n",
    "import random\n",
    "gui=False\n",
    "current_gen = 0 #contador de la generación actual\n",
    "\n",
    "print(\"inicializando, espere...\")\n",
    "try:\n",
    "    sistema=platform.system()\n",
    "    if(sistema=='Windows'):\n",
    "        netlogo = pyNetLogo.NetLogoLink(gui=False)\n",
    "    elif(sistema=='Linux'):\n",
    "        netlogo = pyNetLogo.NetLogoLink(gui=gui,netlogo_home='NetLogo 6.0.4/')\n",
    "    else:\n",
    "        netlogo = pyNetLogo.NetLogoLink(gui=gui)\n",
    "    print(\"Listo!\")\n",
    "except:\n",
    "    print(\"Ocurrio un problema al levantar netlogo!\")"
   ]
  },
  {
   "cell_type": "code",
   "execution_count": 30,
   "metadata": {},
   "outputs": [],
   "source": [
    "df=pd.DataFrame(columns=['gen','x1','y1','x2','y2','x3','y3','x4','y4','x5','y5']) #dataframe que representará a los individuos existentes\n",
    "ww=netlogo.report(\"world-width\") #obtener el número de columnas de la grilla\n",
    "wh=netlogo.report(\"world-height\") #obtener el número de filas de la grilla\n",
    "plan_file = \"conference.plan\" #archivo plano \n",
    "world=list() #representación del mundo en una lista multidimensional (filasXcolumnas)\n",
    "\n",
    "wall_val=64 #valor de muralla\n",
    "inner_val=0 #valor espacio interno edificio\n",
    "outer_Val=2 #valor espacio externo edificio\n",
    "door_val=45 #valor para las puertas\n"
   ]
  },
  {
   "cell_type": "code",
   "execution_count": 31,
   "metadata": {},
   "outputs": [],
   "source": [
    "#abrir el archivo de plano para inicializar la representación de listas multidimensionales\n",
    "with open(plan_file) as file:\n",
    "    row=list()\n",
    "    counter=0\n",
    "    for i in file:\n",
    "        patch=i.replace('\\n','').split(' ')\n",
    "        if(counter%ww !=0):\n",
    "            row.append(int(patch[2]))\n",
    "        else:\n",
    "            row=list()\n",
    "            world.append(row)\n",
    "        counter = counter + 1\n",
    "        \n",
    "#cargar el programa en netlogo\n",
    "netlogo.load_model(r'escape4_v6.nlogo')\n",
    "#cargar el plano en netlogo\n",
    "netlogo.command(\"load-plan-file\")"
   ]
  },
  {
   "cell_type": "code",
   "execution_count": 32,
   "metadata": {},
   "outputs": [],
   "source": [
    "#simulate recibe la lista ordenada de coordenadas de puertas, realiza la simulación correspondiente y retorna los ticks que ha demorado\n",
    "#La distribución de puertas debe estar previamente validada, en caso de que las puertas no sean accesibles, la simulación podría quedar atascada en un while infinito\n",
    "def simulate(doors):\n",
    "    netlogo.command(\"set door-data [ [{0} {1}] [{2} {3}] [{4} {5}] [{6} {7}] [{8} {9}] ]\".format(*doors))\n",
    "    netlogo.command(\"show-plan\")\n",
    "    netlogo.command(\"generate-population\")\n",
    "    while(netlogo.report(\"count turtles\")>0):\n",
    "        netlogo.command(\"go\")\n",
    "    return(netlogo.report(\"ticks\"))\n",
    "\n",
    "#retorna una lista ordenadas de puertas seleccionadas al azar (válidas)\n",
    "def pick_random_doors(n):\n",
    "    #falta implementar\n",
    "    doors = [0,0,1,1,2,2,3,3,4,4]\n",
    "    return  doors\n",
    "\n",
    "#reinicia el dataframe y crea la primera generación, recibe la cantidad de individuos a generar\n",
    "def genesis(n):\n",
    "    global df\n",
    "    df=pd.DataFrame(columns=['gen','x1','y1','x2','y2','x3','y3','x4','y4','x5','y5']) #dataframe que representará a los individuos existentes\n",
    "    for i in range(n):\n",
    "        doors_loc=pick_random_doors(5)\n",
    "        df.loc[df.shape[0]]=[current_gen] + doors_loc    \n",
    "def catch_the_good_doors(): #Obtener las coordenadas x e y de todas las puertas que nos sirven\n",
    "    x=netlogo.report(\"listax\")\n",
    "    y=netlogo.report(\"listay\")\n",
    "    arr=[]\n",
    "    for i in range(len(x)):\n",
    "        arr.append([x[i],y[i]])\n",
    "    return arr"
   ]
  },
  {
   "cell_type": "code",
   "execution_count": 6,
   "metadata": {},
   "outputs": [
    {
     "data": {
      "text/plain": [
       "122.0"
      ]
     },
     "execution_count": 6,
     "metadata": {},
     "output_type": "execute_result"
    }
   ],
   "source": [
    "#ejemplo de simulación para conference.plan\n",
    "doors=[20,50,40,10,80,15,95,30,60,100]\n",
    "simulate(doors)\n"
   ]
  },
  {
   "cell_type": "code",
   "execution_count": 7,
   "metadata": {},
   "outputs": [
    {
     "data": {
      "text/html": [
       "<div>\n",
       "<style scoped>\n",
       "    .dataframe tbody tr th:only-of-type {\n",
       "        vertical-align: middle;\n",
       "    }\n",
       "\n",
       "    .dataframe tbody tr th {\n",
       "        vertical-align: top;\n",
       "    }\n",
       "\n",
       "    .dataframe thead th {\n",
       "        text-align: right;\n",
       "    }\n",
       "</style>\n",
       "<table border=\"1\" class=\"dataframe\">\n",
       "  <thead>\n",
       "    <tr style=\"text-align: right;\">\n",
       "      <th></th>\n",
       "      <th>gen</th>\n",
       "      <th>x1</th>\n",
       "      <th>y1</th>\n",
       "      <th>x2</th>\n",
       "      <th>y2</th>\n",
       "      <th>x3</th>\n",
       "      <th>y3</th>\n",
       "      <th>x4</th>\n",
       "      <th>y4</th>\n",
       "      <th>x5</th>\n",
       "      <th>y5</th>\n",
       "    </tr>\n",
       "  </thead>\n",
       "  <tbody>\n",
       "    <tr>\n",
       "      <th>0</th>\n",
       "      <td>0</td>\n",
       "      <td>0</td>\n",
       "      <td>0</td>\n",
       "      <td>1</td>\n",
       "      <td>1</td>\n",
       "      <td>2</td>\n",
       "      <td>2</td>\n",
       "      <td>3</td>\n",
       "      <td>3</td>\n",
       "      <td>4</td>\n",
       "      <td>4</td>\n",
       "    </tr>\n",
       "    <tr>\n",
       "      <th>1</th>\n",
       "      <td>0</td>\n",
       "      <td>0</td>\n",
       "      <td>0</td>\n",
       "      <td>1</td>\n",
       "      <td>1</td>\n",
       "      <td>2</td>\n",
       "      <td>2</td>\n",
       "      <td>3</td>\n",
       "      <td>3</td>\n",
       "      <td>4</td>\n",
       "      <td>4</td>\n",
       "    </tr>\n",
       "    <tr>\n",
       "      <th>2</th>\n",
       "      <td>0</td>\n",
       "      <td>0</td>\n",
       "      <td>0</td>\n",
       "      <td>1</td>\n",
       "      <td>1</td>\n",
       "      <td>2</td>\n",
       "      <td>2</td>\n",
       "      <td>3</td>\n",
       "      <td>3</td>\n",
       "      <td>4</td>\n",
       "      <td>4</td>\n",
       "    </tr>\n",
       "    <tr>\n",
       "      <th>3</th>\n",
       "      <td>0</td>\n",
       "      <td>0</td>\n",
       "      <td>0</td>\n",
       "      <td>1</td>\n",
       "      <td>1</td>\n",
       "      <td>2</td>\n",
       "      <td>2</td>\n",
       "      <td>3</td>\n",
       "      <td>3</td>\n",
       "      <td>4</td>\n",
       "      <td>4</td>\n",
       "    </tr>\n",
       "    <tr>\n",
       "      <th>4</th>\n",
       "      <td>0</td>\n",
       "      <td>0</td>\n",
       "      <td>0</td>\n",
       "      <td>1</td>\n",
       "      <td>1</td>\n",
       "      <td>2</td>\n",
       "      <td>2</td>\n",
       "      <td>3</td>\n",
       "      <td>3</td>\n",
       "      <td>4</td>\n",
       "      <td>4</td>\n",
       "    </tr>\n",
       "    <tr>\n",
       "      <th>5</th>\n",
       "      <td>0</td>\n",
       "      <td>0</td>\n",
       "      <td>0</td>\n",
       "      <td>1</td>\n",
       "      <td>1</td>\n",
       "      <td>2</td>\n",
       "      <td>2</td>\n",
       "      <td>3</td>\n",
       "      <td>3</td>\n",
       "      <td>4</td>\n",
       "      <td>4</td>\n",
       "    </tr>\n",
       "    <tr>\n",
       "      <th>6</th>\n",
       "      <td>0</td>\n",
       "      <td>0</td>\n",
       "      <td>0</td>\n",
       "      <td>1</td>\n",
       "      <td>1</td>\n",
       "      <td>2</td>\n",
       "      <td>2</td>\n",
       "      <td>3</td>\n",
       "      <td>3</td>\n",
       "      <td>4</td>\n",
       "      <td>4</td>\n",
       "    </tr>\n",
       "    <tr>\n",
       "      <th>7</th>\n",
       "      <td>0</td>\n",
       "      <td>0</td>\n",
       "      <td>0</td>\n",
       "      <td>1</td>\n",
       "      <td>1</td>\n",
       "      <td>2</td>\n",
       "      <td>2</td>\n",
       "      <td>3</td>\n",
       "      <td>3</td>\n",
       "      <td>4</td>\n",
       "      <td>4</td>\n",
       "    </tr>\n",
       "    <tr>\n",
       "      <th>8</th>\n",
       "      <td>0</td>\n",
       "      <td>0</td>\n",
       "      <td>0</td>\n",
       "      <td>1</td>\n",
       "      <td>1</td>\n",
       "      <td>2</td>\n",
       "      <td>2</td>\n",
       "      <td>3</td>\n",
       "      <td>3</td>\n",
       "      <td>4</td>\n",
       "      <td>4</td>\n",
       "    </tr>\n",
       "    <tr>\n",
       "      <th>9</th>\n",
       "      <td>0</td>\n",
       "      <td>0</td>\n",
       "      <td>0</td>\n",
       "      <td>1</td>\n",
       "      <td>1</td>\n",
       "      <td>2</td>\n",
       "      <td>2</td>\n",
       "      <td>3</td>\n",
       "      <td>3</td>\n",
       "      <td>4</td>\n",
       "      <td>4</td>\n",
       "    </tr>\n",
       "  </tbody>\n",
       "</table>\n",
       "</div>"
      ],
      "text/plain": [
       "  gen x1 y1 x2 y2 x3 y3 x4 y4 x5 y5\n",
       "0   0  0  0  1  1  2  2  3  3  4  4\n",
       "1   0  0  0  1  1  2  2  3  3  4  4\n",
       "2   0  0  0  1  1  2  2  3  3  4  4\n",
       "3   0  0  0  1  1  2  2  3  3  4  4\n",
       "4   0  0  0  1  1  2  2  3  3  4  4\n",
       "5   0  0  0  1  1  2  2  3  3  4  4\n",
       "6   0  0  0  1  1  2  2  3  3  4  4\n",
       "7   0  0  0  1  1  2  2  3  3  4  4\n",
       "8   0  0  0  1  1  2  2  3  3  4  4\n",
       "9   0  0  0  1  1  2  2  3  3  4  4"
      ]
     },
     "execution_count": 7,
     "metadata": {},
     "output_type": "execute_result"
    }
   ],
   "source": [
    "genesis(10)\n",
    "df"
   ]
  },
  {
   "cell_type": "code",
   "execution_count": 8,
   "metadata": {},
   "outputs": [
    {
     "data": {
      "text/plain": [
       "'set door-data [ [1 11] [2 2] [3 3] [4 4] [5 5] ]'"
      ]
     },
     "execution_count": 8,
     "metadata": {},
     "output_type": "execute_result"
    }
   ],
   "source": [
    "l=[1,11,2,2,3,3,4,4,5,5]\n",
    "s=\"set door-data [ [{0} {1}] [{2} {3}] [{4} {5}] [{6} {7}] [{8} {9}] ]\".format(*l)\n",
    "s\n",
    "#ask patches with [pcolor = 64 and (count other patches in-radius 1 with [pcolor = black]) = 1 and (count other patches in-radius 1 with [pcolor = 2]) = 1 ][set pcolor yellow]"
   ]
  },
  {
   "cell_type": "code",
   "execution_count": 17,
   "metadata": {},
   "outputs": [],
   "source": [
    "netlogo.kill_workspace()"
   ]
  },
  {
   "cell_type": "code",
   "execution_count": 33,
   "metadata": {},
   "outputs": [],
   "source": [
    "tuplas=catch_the_good_doors() "
   ]
  },
  {
   "cell_type": "code",
   "execution_count": 34,
   "metadata": {},
   "outputs": [],
   "source": [
    "largo=len(tuplas)\n",
    "# tuplas"
   ]
  },
  {
   "cell_type": "markdown",
   "metadata": {},
   "source": [
    "# Creación Generación 0"
   ]
  },
  {
   "cell_type": "code",
   "execution_count": 35,
   "metadata": {},
   "outputs": [],
   "source": [
    "pop_size=20\n",
    "coord_puertas_Gen0=[]\n",
    "indice_Puertas=[]\n",
    "for i in range(pop_size):\n",
    "    coordenadas_puertas_Individuo=[]\n",
    "    indice_puertas_Individuo=[]\n",
    "    for x in range(5):\n",
    "        pos=random.randint(0,largo-1)\n",
    "        indice_puertas_Individuo.append(pos)\n",
    "        coordenadas_puertas_Individuo.append(tuplas[pos][0])\n",
    "        coordenadas_puertas_Individuo.append(tuplas[pos][1])\n",
    "    indice_Puertas.append(indice_puertas_Individuo)\n",
    "    coord_puertas_Gen0.append(coordenadas_puertas_Individuo)\n",
    "#     print(puertasIndividuo)\n",
    "#   simulate(puertasIndividuo)"
   ]
  },
  {
   "cell_type": "code",
   "execution_count": 39,
   "metadata": {},
   "outputs": [
    {
     "data": {
      "text/plain": [
       "[[99, 228, 193, 91, 335],\n",
       " [98, 296, 83, 329, 320],\n",
       " [260, 317, 25, 85, 15],\n",
       " [34, 59, 324, 197, 37],\n",
       " [84, 207, 333, 25, 250],\n",
       " [189, 282, 111, 2, 165],\n",
       " [339, 121, 168, 209, 45],\n",
       " [245, 158, 56, 243, 344],\n",
       " [189, 275, 134, 337, 110],\n",
       " [195, 312, 49, 276, 86],\n",
       " [267, 296, 346, 2, 120],\n",
       " [210, 121, 271, 243, 0],\n",
       " [164, 206, 66, 303, 348],\n",
       " [109, 134, 286, 286, 16],\n",
       " [113, 209, 185, 134, 301],\n",
       " [275, 297, 288, 168, 260],\n",
       " [289, 23, 156, 31, 161],\n",
       " [76, 256, 264, 276, 317],\n",
       " [194, 225, 52, 62, 42],\n",
       " [208, 127, 125, 349, 236]]"
      ]
     },
     "execution_count": 39,
     "metadata": {},
     "output_type": "execute_result"
    }
   ],
   "source": [
    "# coord_puertas_Gen0\n",
    "indice_Puertas"
   ]
  },
  {
   "cell_type": "code",
   "execution_count": 37,
   "metadata": {
    "scrolled": true
   },
   "outputs": [
    {
     "data": {
      "text/plain": [
       "[109.4,\n",
       " 109.8,\n",
       " 134.0,\n",
       " 130.0,\n",
       " 93.6,\n",
       " 131.2,\n",
       " 117.2,\n",
       " 83.8,\n",
       " 144.4,\n",
       " 111.0,\n",
       " 111.6,\n",
       " 110.6,\n",
       " 114.8,\n",
       " 193.4,\n",
       " 124.2,\n",
       " 81.6,\n",
       " 116.6,\n",
       " 116.2,\n",
       " 100.6,\n",
       " 160.4]"
      ]
     },
     "execution_count": 37,
     "metadata": {},
     "output_type": "execute_result"
    }
   ],
   "source": [
    "# import time\n",
    "iteraciones=5\n",
    "ticks=[]\n",
    "# t0 = time.time()\n",
    "for i in range(len(coord_puertas_Gen0)):\n",
    "    auxTicks=[]\n",
    "    for itera in range(iteraciones):\n",
    "        auxTicks.append(simulate(coord_puertas_Gen0[i]))\n",
    "#     print(sum(auxTicks)/float(iteraciones))\n",
    "    ticks.append(sum(auxTicks)/float(iteraciones))\n",
    "ticks\n",
    "# print(\"%s  Segundos \"%(time.time()-t0))"
   ]
  },
  {
   "cell_type": "markdown",
   "metadata": {},
   "source": [
    "# Crossover"
   ]
  },
  {
   "cell_type": "code",
   "execution_count": 80,
   "metadata": {},
   "outputs": [
    {
     "name": "stdout",
     "output_type": "stream",
     "text": [
      "uno quedo solo :'c\n"
     ]
    }
   ],
   "source": [
    "\n",
    "criterio=100\n",
    "thaBest=[]\n",
    "for i in range (individuos):\n",
    "    if (ticks[i]<=criterio):\n",
    "        thaBest.append(indice_Puertas[i])\n",
    "if(len(thaBest)%2==0):\n",
    "    print(\"apareence mierda\")\n",
    "else:\n",
    "    print(\"uno quedo solo :'c\")"
   ]
  },
  {
   "cell_type": "markdown",
   "metadata": {},
   "source": [
    "# Mutacion"
   ]
  },
  {
   "cell_type": "code",
   "execution_count": 234,
   "metadata": {},
   "outputs": [
    {
     "data": {
      "text/plain": [
       "228"
      ]
     },
     "execution_count": 234,
     "metadata": {},
     "output_type": "execute_result"
    }
   ],
   "source": [
    "prob_mutacion=0.3\n",
    "for individuo in indice_Puertas:\n",
    "    if(random.random()<=prob_mutacion):\n",
    "        pos=random.randint(0,4)\n",
    "        nuevaPuerta=random.randint(0,largo-1)\n",
    "        if(indice_Puertas[individuo][pos]!=nuevaPuerta):\n",
    "            indice_Puertas[individuo][pos]=nuevaPuerta\n",
    "#terminar mutación, corregir posibles errores"
   ]
  }
 ],
 "metadata": {
  "kernelspec": {
   "display_name": "Python 3",
   "language": "python",
   "name": "python3"
  },
  "language_info": {
   "codemirror_mode": {
    "name": "ipython",
    "version": 3
   },
   "file_extension": ".py",
   "mimetype": "text/x-python",
   "name": "python",
   "nbconvert_exporter": "python",
   "pygments_lexer": "ipython3",
   "version": "3.6.6"
  }
 },
 "nbformat": 4,
 "nbformat_minor": 2
}
