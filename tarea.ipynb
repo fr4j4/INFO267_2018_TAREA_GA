{
 "cells": [
  {
   "cell_type": "markdown",
   "metadata": {},
   "source": [
    "**Apuntes útiles pandas**<br>\n",
    "- https://www.datacamp.com/community/tutorials/pandas-tutorial-dataframe-python#question3\n",
    "- https://stackoverflow.com/questions/15943769/how-do-i-get-the-row-count-of-a-pandas-dataframe\n",
    "- https://chrisalbon.com/python/data_wrangling/pandas_dropping_column_and_rows/\n",
    "\n",
    "Se ha establecido un dataframe con la siguiente estructura\n",
    "\n",
    "|generación|Puerta#1 x| Puerta#1 y|Puerta#2 x| Puerta#2 y|Puerta#3 x| Puerta#3 y|Puerta#4 x| Puerta#4 y|Puerta#5 x| Puerta#5 y|\n",
    "|-|-|-|-|-|-|-|-|-|-|-|\n",
    "|..|..|..|..|..|..|..|..|..|..|..|\n",
    "\n",
    "Donde cada fila corresponderá a un individuo"
   ]
  },
  {
   "cell_type": "code",
   "execution_count": 18,
   "metadata": {
    "scrolled": true
   },
   "outputs": [
    {
     "name": "stdout",
     "output_type": "stream",
     "text": [
      "inicializando, espere...\n",
      "Listo!\n"
     ]
    }
   ],
   "source": [
    "# https://pynetlogo.readthedocs.io/en/latest/_docs/pynetlogo.html\n",
    "# https://pynetlogo.readthedocs.io/en/latest/example1.html\n",
    "import pandas as pd\n",
    "import matplotlib.pyplot as plt\n",
    "import seaborn as sns\n",
    "import platform\n",
    "import pyNetLogo\n",
    "import random\n",
    "gui=False\n",
    "current_gen = 0 #contador de la generación actual\n",
    "\n",
    "print(\"inicializando, espere...\")\n",
    "try:\n",
    "    sistema=platform.system()\n",
    "    if(sistema=='Windows'):\n",
    "        netlogo = pyNetLogo.NetLogoLink(gui=False)\n",
    "    elif(sistema=='Linux'):\n",
    "        netlogo = pyNetLogo.NetLogoLink(gui=gui,netlogo_home='NetLogo 6.0.4/',netlogo_version='6.0.4')\n",
    "    else:\n",
    "        netlogo = pyNetLogo.NetLogoLink(gui=gui)\n",
    "    print(\"Listo!\")\n",
    "except:\n",
    "    print(\"Ocurrio un problema al levantar netlogo!\")"
   ]
  },
  {
   "cell_type": "code",
   "execution_count": 19,
   "metadata": {},
   "outputs": [],
   "source": [
    "df=pd.DataFrame(columns=['gen','x1','y1','x2','y2','x3','y3','x4','y4','x5','y5']) #dataframe que representará a los individuos existentes\n",
    "ww=netlogo.report(\"world-width\") #obtener el número de columnas de la grilla\n",
    "wh=netlogo.report(\"world-height\") #obtener el número de filas de la grilla\n",
    "plan_file = \"conference.plan\" #archivo plano \n",
    "world=list() #representación del mundo en una lista multidimensional (filasXcolumnas)\n",
    "\n",
    "wall_val=64 #valor de muralla\n",
    "inner_val=0 #valor espacio interno edificio\n",
    "outer_Val=2 #valor espacio externo edificio\n",
    "door_val=45 #valor para las puertas\n"
   ]
  },
  {
   "cell_type": "code",
   "execution_count": 20,
   "metadata": {},
   "outputs": [],
   "source": [
    "#abrir el archivo de plano para inicializar la representación de listas multidimensionales\n",
    "with open(plan_file) as file:\n",
    "    row=list()\n",
    "    counter=0\n",
    "    for i in file:\n",
    "        patch=i.replace('\\n','').split(' ')\n",
    "        if(counter%ww !=0):\n",
    "            row.append(int(patch[2]))\n",
    "        else:\n",
    "            row=list()\n",
    "            world.append(row)\n",
    "        counter = counter + 1\n",
    "        \n",
    "#cargar el programa en netlogo\n",
    "netlogo.load_model(r'escape4_v6.nlogo')\n",
    "#cargar el plano en netlogo\n",
    "netlogo.command(\"load-plan-file\")"
   ]
  },
  {
   "cell_type": "code",
   "execution_count": 21,
   "metadata": {},
   "outputs": [],
   "source": [
    "#simulate recibe la lista ordenada de coordenadas de puertas, realiza la simulación correspondiente y retorna los ticks que ha demorado\n",
    "#La distribución de puertas debe estar previamente validada, en caso de que las puertas no sean accesibles, la simulación podría quedar atascada en un while infinito\n",
    "def simulate(doors):\n",
    "    netlogo.command(\"set door-data [ [{0} {1}] [{2} {3}] [{4} {5}] [{6} {7}] [{8} {9}] ]\".format(*doors))\n",
    "    netlogo.command(\"show-plan\")\n",
    "    netlogo.command(\"generate-population\")\n",
    "    while(netlogo.report(\"count turtles\")>0):\n",
    "        netlogo.command(\"go\")\n",
    "    return(netlogo.report(\"ticks\"))\n",
    "\n",
    "#retorna una lista ordenadas de puertas seleccionadas al azar (válidas)\n",
    "def pick_random_doors(n):\n",
    "    #falta implementar\n",
    "    doors = [0,0,1,1,2,2,3,3,4,4]\n",
    "    return  doors\n",
    "\n",
    "#reinicia el dataframe y crea la primera generación, recibe la cantidad de individuos a generar\n",
    "def genesis(n):\n",
    "    global df\n",
    "    df=pd.DataFrame(columns=['gen','x1','y1','x2','y2','x3','y3','x4','y4','x5','y5']) #dataframe que representará a los individuos existentes\n",
    "    for i in range(n):\n",
    "        doors_loc=pick_random_doors(5)\n",
    "        df.loc[df.shape[0]]=[current_gen] + doors_loc    \n",
    "def catch_the_good_doors(): #Obtener las coordenadas x e y de todas las puertas que nos sirven\n",
    "    x=netlogo.report(\"listax\")\n",
    "    y=netlogo.report(\"listay\")\n",
    "    arr=[]\n",
    "    for i in range(len(x)):\n",
    "        arr.append([x[i],y[i]])\n",
    "    return arr"
   ]
  },
  {
   "cell_type": "code",
   "execution_count": 5,
   "metadata": {},
   "outputs": [
    {
     "data": {
      "text/plain": [
       "107.0"
      ]
     },
     "execution_count": 5,
     "metadata": {},
     "output_type": "execute_result"
    }
   ],
   "source": [
    "#ejemplo de simulación para conference.plan\n",
    "doors=[20,50,40,10,80,15,95,30,60,100]\n",
    "simulate(doors)\n"
   ]
  },
  {
   "cell_type": "code",
   "execution_count": 8,
   "metadata": {},
   "outputs": [
    {
     "data": {
      "text/html": [
       "<div>\n",
       "<style scoped>\n",
       "    .dataframe tbody tr th:only-of-type {\n",
       "        vertical-align: middle;\n",
       "    }\n",
       "\n",
       "    .dataframe tbody tr th {\n",
       "        vertical-align: top;\n",
       "    }\n",
       "\n",
       "    .dataframe thead th {\n",
       "        text-align: right;\n",
       "    }\n",
       "</style>\n",
       "<table border=\"1\" class=\"dataframe\">\n",
       "  <thead>\n",
       "    <tr style=\"text-align: right;\">\n",
       "      <th></th>\n",
       "      <th>gen</th>\n",
       "      <th>x1</th>\n",
       "      <th>y1</th>\n",
       "      <th>x2</th>\n",
       "      <th>y2</th>\n",
       "      <th>x3</th>\n",
       "      <th>y3</th>\n",
       "      <th>x4</th>\n",
       "      <th>y4</th>\n",
       "      <th>x5</th>\n",
       "      <th>y5</th>\n",
       "    </tr>\n",
       "  </thead>\n",
       "  <tbody>\n",
       "    <tr>\n",
       "      <th>0</th>\n",
       "      <td>0</td>\n",
       "      <td>0</td>\n",
       "      <td>0</td>\n",
       "      <td>1</td>\n",
       "      <td>1</td>\n",
       "      <td>2</td>\n",
       "      <td>2</td>\n",
       "      <td>3</td>\n",
       "      <td>3</td>\n",
       "      <td>4</td>\n",
       "      <td>4</td>\n",
       "    </tr>\n",
       "    <tr>\n",
       "      <th>1</th>\n",
       "      <td>0</td>\n",
       "      <td>0</td>\n",
       "      <td>0</td>\n",
       "      <td>1</td>\n",
       "      <td>1</td>\n",
       "      <td>2</td>\n",
       "      <td>2</td>\n",
       "      <td>3</td>\n",
       "      <td>3</td>\n",
       "      <td>4</td>\n",
       "      <td>4</td>\n",
       "    </tr>\n",
       "    <tr>\n",
       "      <th>2</th>\n",
       "      <td>0</td>\n",
       "      <td>0</td>\n",
       "      <td>0</td>\n",
       "      <td>1</td>\n",
       "      <td>1</td>\n",
       "      <td>2</td>\n",
       "      <td>2</td>\n",
       "      <td>3</td>\n",
       "      <td>3</td>\n",
       "      <td>4</td>\n",
       "      <td>4</td>\n",
       "    </tr>\n",
       "    <tr>\n",
       "      <th>3</th>\n",
       "      <td>0</td>\n",
       "      <td>0</td>\n",
       "      <td>0</td>\n",
       "      <td>1</td>\n",
       "      <td>1</td>\n",
       "      <td>2</td>\n",
       "      <td>2</td>\n",
       "      <td>3</td>\n",
       "      <td>3</td>\n",
       "      <td>4</td>\n",
       "      <td>4</td>\n",
       "    </tr>\n",
       "    <tr>\n",
       "      <th>4</th>\n",
       "      <td>0</td>\n",
       "      <td>0</td>\n",
       "      <td>0</td>\n",
       "      <td>1</td>\n",
       "      <td>1</td>\n",
       "      <td>2</td>\n",
       "      <td>2</td>\n",
       "      <td>3</td>\n",
       "      <td>3</td>\n",
       "      <td>4</td>\n",
       "      <td>4</td>\n",
       "    </tr>\n",
       "    <tr>\n",
       "      <th>5</th>\n",
       "      <td>0</td>\n",
       "      <td>0</td>\n",
       "      <td>0</td>\n",
       "      <td>1</td>\n",
       "      <td>1</td>\n",
       "      <td>2</td>\n",
       "      <td>2</td>\n",
       "      <td>3</td>\n",
       "      <td>3</td>\n",
       "      <td>4</td>\n",
       "      <td>4</td>\n",
       "    </tr>\n",
       "    <tr>\n",
       "      <th>6</th>\n",
       "      <td>0</td>\n",
       "      <td>0</td>\n",
       "      <td>0</td>\n",
       "      <td>1</td>\n",
       "      <td>1</td>\n",
       "      <td>2</td>\n",
       "      <td>2</td>\n",
       "      <td>3</td>\n",
       "      <td>3</td>\n",
       "      <td>4</td>\n",
       "      <td>4</td>\n",
       "    </tr>\n",
       "    <tr>\n",
       "      <th>7</th>\n",
       "      <td>0</td>\n",
       "      <td>0</td>\n",
       "      <td>0</td>\n",
       "      <td>1</td>\n",
       "      <td>1</td>\n",
       "      <td>2</td>\n",
       "      <td>2</td>\n",
       "      <td>3</td>\n",
       "      <td>3</td>\n",
       "      <td>4</td>\n",
       "      <td>4</td>\n",
       "    </tr>\n",
       "    <tr>\n",
       "      <th>8</th>\n",
       "      <td>0</td>\n",
       "      <td>0</td>\n",
       "      <td>0</td>\n",
       "      <td>1</td>\n",
       "      <td>1</td>\n",
       "      <td>2</td>\n",
       "      <td>2</td>\n",
       "      <td>3</td>\n",
       "      <td>3</td>\n",
       "      <td>4</td>\n",
       "      <td>4</td>\n",
       "    </tr>\n",
       "    <tr>\n",
       "      <th>9</th>\n",
       "      <td>0</td>\n",
       "      <td>0</td>\n",
       "      <td>0</td>\n",
       "      <td>1</td>\n",
       "      <td>1</td>\n",
       "      <td>2</td>\n",
       "      <td>2</td>\n",
       "      <td>3</td>\n",
       "      <td>3</td>\n",
       "      <td>4</td>\n",
       "      <td>4</td>\n",
       "    </tr>\n",
       "  </tbody>\n",
       "</table>\n",
       "</div>"
      ],
      "text/plain": [
       "  gen x1 y1 x2 y2 x3 y3 x4 y4 x5 y5\n",
       "0   0  0  0  1  1  2  2  3  3  4  4\n",
       "1   0  0  0  1  1  2  2  3  3  4  4\n",
       "2   0  0  0  1  1  2  2  3  3  4  4\n",
       "3   0  0  0  1  1  2  2  3  3  4  4\n",
       "4   0  0  0  1  1  2  2  3  3  4  4\n",
       "5   0  0  0  1  1  2  2  3  3  4  4\n",
       "6   0  0  0  1  1  2  2  3  3  4  4\n",
       "7   0  0  0  1  1  2  2  3  3  4  4\n",
       "8   0  0  0  1  1  2  2  3  3  4  4\n",
       "9   0  0  0  1  1  2  2  3  3  4  4"
      ]
     },
     "execution_count": 8,
     "metadata": {},
     "output_type": "execute_result"
    }
   ],
   "source": [
    "genesis(10)\n",
    "df"
   ]
  },
  {
   "cell_type": "code",
   "execution_count": 9,
   "metadata": {},
   "outputs": [
    {
     "data": {
      "text/plain": [
       "'set door-data [ [1 11] [2 2] [3 3] [4 4] [5 5] ]'"
      ]
     },
     "execution_count": 9,
     "metadata": {},
     "output_type": "execute_result"
    }
   ],
   "source": [
    "l=[1,11,2,2,3,3,4,4,5,5]\n",
    "s=\"set door-data [ [{0} {1}] [{2} {3}] [{4} {5}] [{6} {7}] [{8} {9}] ]\".format(*l)\n",
    "s\n",
    "#ask patches with [pcolor = 64 and (count other patches in-radius 1 with [pcolor = black]) = 1 and (count other patches in-radius 1 with [pcolor = 2]) = 1 ][set pcolor yellow]"
   ]
  },
  {
   "cell_type": "code",
   "execution_count": 17,
   "metadata": {},
   "outputs": [],
   "source": [
    "netlogo.kill_workspace()"
   ]
  },
  {
   "cell_type": "code",
   "execution_count": 26,
   "metadata": {},
   "outputs": [],
   "source": [
    "tuplas=catch_the_good_doors() "
   ]
  },
  {
   "cell_type": "code",
   "execution_count": 44,
   "metadata": {},
   "outputs": [],
   "source": [
    "largo=len(tuplas)\n",
    "# tuplas"
   ]
  },
  {
   "cell_type": "code",
   "execution_count": 73,
   "metadata": {},
   "outputs": [
    {
     "data": {
      "text/plain": [
       "[[104.0, 49.0, 104.0, 58.0, 36.0, 27.0, 104.0, 8.0, 78.0, 21.0],\n",
       " [38.0, 37.0, 78.0, 10.0, 104.0, 34.0, 78.0, 11.0, 25.0, 24.0],\n",
       " [31.0, 27.0, 41.0, 62.0, 104.0, 44.0, 104.0, 15.0, 25.0, 37.0],\n",
       " [84.0, 4.0, 35.0, 7.0, 78.0, 15.0, 92.0, 62.0, 53.0, 28.0],\n",
       " [104.0, 26.0, 56.0, 62.0, 78.0, 7.0, 104.0, 7.0, 96.0, 62.0],\n",
       " [51.0, 37.0, 24.0, 37.0, 20.0, 38.0, 22.0, 37.0, 45.0, 62.0],\n",
       " [40.0, 62.0, 32.0, 62.0, 66.0, 62.0, 56.0, 10.0, 76.0, 22.0],\n",
       " [104.0, 23.0, 88.0, 4.0, 104.0, 20.0, 78.0, 6.0, 39.0, 27.0],\n",
       " [99.0, 4.0, 104.0, 23.0, 39.0, 37.0, 20.0, 41.0, 78.0, 9.0],\n",
       " [37.0, 7.0, 104.0, 55.0, 53.0, 33.0, 32.0, 27.0, 25.0, 26.0],\n",
       " [104.0, 61.0, 20.0, 42.0, 56.0, 20.0, 46.0, 37.0, 47.0, 62.0],\n",
       " [104.0, 12.0, 25.0, 19.0, 52.0, 7.0, 28.0, 37.0, 20.0, 38.0],\n",
       " [35.0, 7.0, 25.0, 9.0, 48.0, 27.0, 40.0, 37.0, 40.0, 37.0],\n",
       " [47.0, 7.0, 36.0, 27.0, 30.0, 37.0, 27.0, 37.0, 70.0, 22.0],\n",
       " [54.0, 7.0, 45.0, 37.0, 44.0, 37.0, 77.0, 62.0, 78.0, 20.0],\n",
       " [43.0, 62.0, 86.0, 4.0, 104.0, 58.0, 25.0, 19.0, 104.0, 37.0],\n",
       " [104.0, 23.0, 39.0, 7.0, 33.0, 27.0, 51.0, 7.0, 53.0, 29.0],\n",
       " [93.0, 62.0, 30.0, 62.0, 40.0, 7.0, 20.0, 54.0, 57.0, 62.0],\n",
       " [32.0, 37.0, 78.0, 6.0, 104.0, 40.0, 57.0, 22.0, 104.0, 37.0],\n",
       " [20.0, 40.0, 56.0, 10.0, 95.0, 4.0, 22.0, 62.0, 98.0, 4.0]]"
      ]
     },
     "execution_count": 73,
     "metadata": {},
     "output_type": "execute_result"
    }
   ],
   "source": [
    "individuos=20\n",
    "puertasGen0=[]\n",
    "posPuertas=[]\n",
    "for i in range(individuos):\n",
    "    puertasIndividuo=[]\n",
    "    posPuertaIndividuo=[]\n",
    "    for x in range(5):\n",
    "        pos=random.randint(0,largo-1)\n",
    "        posPuertaIndividuo.append(pos)\n",
    "        puertasIndividuo.append(tuplas[pos][0])\n",
    "        puertasIndividuo.append(tuplas[pos][1])\n",
    "    posPuertas.append(posPuertaIndividuo)\n",
    "    puertasGen0.append(puertasIndividuo)\n",
    "#     print(puertasIndividuo)\n",
    "#   simulate(puertasIndividuo)\n",
    "puertasGen0"
   ]
  },
  {
   "cell_type": "code",
   "execution_count": 74,
   "metadata": {},
   "outputs": [
    {
     "data": {
      "text/plain": [
       "[[181, 158, 247, 184, 338],\n",
       " [153, 232, 224, 203, 310],\n",
       " [177, 55, 273, 204, 122],\n",
       " [127, 14, 39, 35, 324],\n",
       " [125, 344, 215, 95, 298],\n",
       " [10, 230, 83, 174, 183],\n",
       " [15, 100, 276, 252, 99],\n",
       " [56, 23, 105, 86, 285],\n",
       " [77, 56, 193, 334, 143],\n",
       " [251, 194, 209, 61, 322],\n",
       " [345, 144, 295, 58, 317],\n",
       " [327, 349, 341, 239, 83],\n",
       " [14, 33, 130, 238, 238],\n",
       " [347, 247, 286, 129, 34],\n",
       " [243, 216, 225, 134, 222],\n",
       " [133, 311, 158, 349, 182],\n",
       " [56, 118, 46, 91, 312],\n",
       " [250, 214, 329, 18, 323],\n",
       " [291, 86, 206, 307, 182],\n",
       " [93, 252, 44, 47, 19]]"
      ]
     },
     "execution_count": 74,
     "metadata": {},
     "output_type": "execute_result"
    }
   ],
   "source": [
    "posPuertas"
   ]
  },
  {
   "cell_type": "code",
   "execution_count": 75,
   "metadata": {},
   "outputs": [
    {
     "name": "stdout",
     "output_type": "stream",
     "text": [
      "147.8\n",
      "98.4\n",
      "82.4\n",
      "120.6\n",
      "185.8\n",
      "205.0\n",
      "117.4\n",
      "185.0\n",
      "124.2\n",
      "152.2\n",
      "111.6\n",
      "139.0\n",
      "127.6\n",
      "158.6\n",
      "99.6\n",
      "140.4\n",
      "147.0\n",
      "132.8\n",
      "112.4\n",
      "138.4\n"
     ]
    }
   ],
   "source": [
    "iteraciones=5\n",
    "ticks=[]\n",
    "for i in range(len(puertasGen0)):\n",
    "    auxTicks=[]\n",
    "    for itera in range(iteraciones):\n",
    "        auxTicks.append(simulate(puertasGen0[i]))\n",
    "    print(sum(auxTicks)/float(iteraciones))\n",
    "    ticks.append(sum(auxTicks)/float(iteraciones))\n",
    "# ticks"
   ]
  },
  {
   "cell_type": "code",
   "execution_count": null,
   "metadata": {},
   "outputs": [],
   "source": []
  }
 ],
 "metadata": {
  "kernelspec": {
   "display_name": "Python 3",
   "language": "python",
   "name": "python3"
  },
  "language_info": {
   "codemirror_mode": {
    "name": "ipython",
    "version": 3
   },
   "file_extension": ".py",
   "mimetype": "text/x-python",
   "name": "python",
   "nbconvert_exporter": "python",
   "pygments_lexer": "ipython3",
   "version": "3.7.0"
  }
 },
 "nbformat": 4,
 "nbformat_minor": 2
}
