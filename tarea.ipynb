{
 "cells": [
  {
   "cell_type": "markdown",
   "metadata": {},
   "source": [
    "**Apuntes útiles pandas**<br>\n",
    "- https://www.datacamp.com/community/tutorials/pandas-tutorial-dataframe-python#question3\n",
    "- https://stackoverflow.com/questions/15943769/how-do-i-get-the-row-count-of-a-pandas-dataframe\n",
    "- https://chrisalbon.com/python/data_wrangling/pandas_dropping_column_and_rows/\n",
    "\n",
    "Se ha establecido un dataframe con la siguiente estructura\n",
    "\n",
    "|generación|Puerta#1 x| Puerta#1 y|Puerta#2 x| Puerta#2 y|Puerta#3 x| Puerta#3 y|Puerta#4 x| Puerta#4 y|Puerta#5 x| Puerta#5 y|\n",
    "|-|-|-|-|-|-|-|-|-|-|-|\n",
    "|..|..|..|..|..|..|..|..|..|..|..|\n",
    "\n",
    "Donde cada fila corresponderá a un individuo"
   ]
  },
  {
   "cell_type": "code",
   "execution_count": 117,
   "metadata": {
    "scrolled": true
   },
   "outputs": [
    {
     "name": "stdout",
     "output_type": "stream",
     "text": [
      "inicializando, espere...\n",
      "Listo!\n"
     ]
    }
   ],
   "source": [
    "# https://pynetlogo.readthedocs.io/en/latest/_docs/pynetlogo.html\n",
    "# https://pynetlogo.readthedocs.io/en/latest/example1.html\n",
    "# import pandas as pd\n",
    "# import matplotlib.pyplot as plt\n",
    "# import seaborn as sns\n",
    "import platform\n",
    "import pyNetLogo\n",
    "import random\n",
    "import numpy as np\n",
    "gui=False\n",
    "current_gen = 0 #contador de la generación actual\n",
    "max_gen=50\n",
    "pop_size=20\n",
    "iteraciones=5\n",
    "selection_tournament=3\n",
    "prob_mutacion=0.3\n",
    "\n",
    "\n",
    "print(\"inicializando, espere...\")\n",
    "try:\n",
    "    sistema=platform.system()\n",
    "    if(sistema=='Windows'):\n",
    "        netlogo = pyNetLogo.NetLogoLink(gui=True)\n",
    "    elif(sistema=='Linux'):\n",
    "        netlogo = pyNetLogo.NetLogoLink(gui=gui,netlogo_home='NetLogo 6.0.4/')\n",
    "    else:\n",
    "        netlogo = pyNetLogo.NetLogoLink(gui=gui)\n",
    "    print(\"Listo!\")\n",
    "except:\n",
    "    print(\"Ocurrio un problema al levantar netlogo!\")\n",
    "\n"
   ]
  },
  {
   "cell_type": "code",
   "execution_count": 23,
   "metadata": {},
   "outputs": [],
   "source": [
    "# df=pd.DataFrame(columns=['gen','x1','y1','x2','y2','x3','y3','x4','y4','x5','y5']) #dataframe que representará a los individuos existentes\n",
    "# ww=netlogo.report(\"world-width\") #obtener el número de columnas de la grilla\n",
    "# wh=netlogo.report(\"world-height\") #obtener el número de filas de la grilla\n",
    "# plan_file = \"conference.plan\" #archivo plano \n",
    "# world=list() #representación del mundo en una lista multidimensional (filasXcolumnas)\n",
    "\n",
    "# wall_val=64 #valor de muralla\n",
    "# inner_val=0 #valor espacio interno edificio\n",
    "# outer_Val=2 #valor espacio externo edificio\n",
    "# door_val=45 #valor para las puertas\n"
   ]
  },
  {
   "cell_type": "code",
   "execution_count": 118,
   "metadata": {},
   "outputs": [],
   "source": [
    "# #abrir el archivo de plano para inicializar la representación de listas multidimensionales\n",
    "# with open(plan_file) as file:\n",
    "#     row=list()\n",
    "#     counter=0\n",
    "#     for i in file:\n",
    "#         patch=i.replace('\\n','').split(' ')\n",
    "#         if(counter%ww !=0):\n",
    "#             row.append(int(patch[2]))\n",
    "#         else:\n",
    "#             row=list()\n",
    "#             world.append(row)\n",
    "#         counter = counter + 1\n",
    "        \n",
    "#cargar el programa en netlogo\n",
    "netlogo.load_model(r'escape4_v6.nlogo')\n",
    "#cargar el plano en netlogo\n",
    "netlogo.command('set plan-data \"office.plan\"')\n",
    "netlogo.command(\"load-plan-file\")"
   ]
  },
  {
   "cell_type": "code",
   "execution_count": 119,
   "metadata": {},
   "outputs": [],
   "source": [
    "#simulate recibe la lista ordenada de coordenadas de puertas, realiza la simulación correspondiente y retorna los ticks que ha demorado\n",
    "#La distribución de puertas debe estar previamente validada, en caso de que las puertas no sean accesibles, la simulación podría quedar atascada en un while infinito\n",
    "def simulate(doors):\n",
    "    netlogo.command(\"set door-data [ [{0} {1}] [{2} {3}] [{4} {5}] [{6} {7}] [{8} {9}] ]\".format(*doors))\n",
    "    netlogo.command(\"show-plan\")\n",
    "    netlogo.command(\"generate-population\")\n",
    "    while(netlogo.report(\"count turtles\")>0):\n",
    "        netlogo.command(\"go\")\n",
    "    return(netlogo.report(\"ticks\"))\n",
    "\n",
    "#retorna una lista ordenadas de puertas seleccionadas al azar (válidas)\n",
    "def pick_random_doors(n):\n",
    "    #falta implementar\n",
    "    doors = [0,0,1,1,2,2,3,3,4,4]\n",
    "    return  doors\n",
    "\n",
    "#reinicia el dataframe y crea la primera generación, recibe la cantidad de individuos a generar\n",
    "def genesis(n):\n",
    "    global df\n",
    "    df=pd.DataFrame(columns=['gen','x1','y1','x2','y2','x3','y3','x4','y4','x5','y5']) #dataframe que representará a los individuos existentes\n",
    "    for i in range(n):\n",
    "        doors_loc=pick_random_doors(5)\n",
    "        df.loc[df.shape[0]]=[current_gen] + doors_loc    \n",
    "def catch_the_good_doors(): #Obtener las coordenadas x e y de todas las puertas que nos sirven\n",
    "    x=netlogo.report(\"listax\")\n",
    "    y=netlogo.report(\"listay\")\n",
    "    arr=[]\n",
    "    for i in range(len(x)):\n",
    "        arr.append([x[i],y[i]])\n",
    "    return arr\n",
    "\n",
    "def simulate_ind(arr_indexes,gen):\n",
    "    return(simulate([gen[arr_indexes[0]][0],gen[arr_indexes[0]][1],gen[arr_indexes[1]][0],gen[arr_indexes[1]][1],gen[arr_indexes[2]][0],gen[arr_indexes[2]][1],gen[arr_indexes[3]][0],gen[arr_indexes[3]][1],gen[arr_indexes[4]][0],gen[arr_indexes[4]][1]]))"
   ]
  },
  {
   "cell_type": "code",
   "execution_count": 120,
   "metadata": {},
   "outputs": [],
   "source": [
    "tuplas=catch_the_good_doors() #gen"
   ]
  },
  {
   "cell_type": "code",
   "execution_count": 121,
   "metadata": {},
   "outputs": [
    {
     "name": "stdout",
     "output_type": "stream",
     "text": [
      "298\n"
     ]
    }
   ],
   "source": [
    "largo=len(tuplas)\n",
    "# tuplas\n",
    "print(largo)"
   ]
  },
  {
   "cell_type": "markdown",
   "metadata": {},
   "source": [
    "# Creación Generación 0"
   ]
  },
  {
   "cell_type": "code",
   "execution_count": 122,
   "metadata": {},
   "outputs": [],
   "source": [
    "indice_Puertas=[]\n",
    "for i in range(pop_size):\n",
    "    indice_puertas_Individuo=[]\n",
    "    for x in range(5):\n",
    "        indice_puertas_Individuo.append(random.randint(0,largo-1))\n",
    "    indice_Puertas.append(indice_puertas_Individuo)\n",
    "#     print(puertasIndividuo)\n",
    "#   simulate(puertasIndividuo)"
   ]
  },
  {
   "cell_type": "code",
   "execution_count": 123,
   "metadata": {
    "scrolled": true
   },
   "outputs": [
    {
     "data": {
      "text/plain": [
       "[[196, 28, 281, 211, 293],\n",
       " [195, 121, 160, 178, 285],\n",
       " [145, 33, 288, 178, 59],\n",
       " [271, 58, 38, 53, 126],\n",
       " [103, 258, 277, 253, 30],\n",
       " [135, 194, 105, 161, 93],\n",
       " [91, 266, 163, 205, 19],\n",
       " [150, 291, 128, 289, 247],\n",
       " [38, 196, 273, 36, 162],\n",
       " [50, 107, 293, 119, 41],\n",
       " [76, 271, 132, 32, 105],\n",
       " [97, 1, 24, 139, 29],\n",
       " [277, 114, 208, 214, 111],\n",
       " [154, 267, 168, 197, 165],\n",
       " [4, 277, 172, 277, 288],\n",
       " [197, 71, 137, 169, 201],\n",
       " [15, 158, 255, 104, 252],\n",
       " [270, 289, 32, 121, 251],\n",
       " [228, 119, 83, 120, 118],\n",
       " [51, 285, 63, 226, 210]]"
      ]
     },
     "execution_count": 123,
     "metadata": {},
     "output_type": "execute_result"
    }
   ],
   "source": [
    "# coord_puertas_Gen0\n",
    "indice_Puertas"
   ]
  },
  {
   "cell_type": "markdown",
   "metadata": {},
   "source": [
    "# Evaluación"
   ]
  },
  {
   "cell_type": "code",
   "execution_count": 258,
   "metadata": {
    "scrolled": true
   },
   "outputs": [
    {
     "name": "stdout",
     "output_type": "stream",
     "text": [
      "2189.2 109.46\n"
     ]
    }
   ],
   "source": [
    "# import time\n",
    "ticks=[]\n",
    "#t0=time.time()\n",
    "for i in range(len(indice_Puertas)):\n",
    "    auxTicks=[]\n",
    "    for itera in range(iteraciones):\n",
    "        auxTicks.append(simulate_ind(indice_Puertas[i],tuplas))\n",
    "    #print(sum(auxTicks)/float(iteraciones))\n",
    "    ticks.append(np.mean(auxTicks))\n",
    "# ticks\n",
    "total_Fitness=np.sum(ticks)\n",
    "media_Fitness=np.mean(ticks)\n",
    "print(total_Fitness,media_Fitness)\n",
    "# print(\"%s  Segundos \"%(time.time()-t0))"
   ]
  },
  {
   "cell_type": "markdown",
   "metadata": {},
   "source": [
    "# Selección"
   ]
  },
  {
   "cell_type": "code",
   "execution_count": null,
   "metadata": {},
   "outputs": [],
   "source": [
    "# auxiliar=[]\n",
    "# for i in range(len(thaBest)):\n",
    "#     for j in range(5):\n",
    "#         auxiliar.append(thaBest[i][j])\n",
    "\n",
    "# for i in (selection_tournament):\n",
    "#     x=[]\n",
    "#     for j in range(5):\n",
    "#         x.append(a[random.randint(0,len(auxiliar)-1)])\n",
    "    "
   ]
  },
  {
   "cell_type": "code",
   "execution_count": 259,
   "metadata": {
    "scrolled": false
   },
   "outputs": [
    {
     "data": {
      "text/plain": [
       "[[154, 267, 168, 197, 165],\n",
       " [145, 267, 168, 214, 19],\n",
       " [15, 158, 168, 214, 19],\n",
       " [197, 33, 38, 197, 165],\n",
       " [270, 33, 38, 197, 165],\n",
       " [271, 33, 38, 197, 165],\n",
       " [91, 267, 168, 205, 165],\n",
       " [97, 1, 24, 139, 29],\n",
       " [270, 33, 38, 197, 165],\n",
       " [195, 285, 208, 214, 19],\n",
       " [195, 285, 208, 214, 19],\n",
       " [270, 33, 38, 197, 165],\n",
       " [277, 267, 168, 205, 165],\n",
       " [91, 267, 168, 205, 165],\n",
       " [270, 33, 38, 197, 165],\n",
       " [271, 33, 38, 197, 165],\n",
       " [270, 33, 38, 197, 165],\n",
       " [38, 267, 168, 205, 165],\n",
       " [91, 267, 168, 205, 165],\n",
       " [270, 33, 38, 197, 165]]"
      ]
     },
     "execution_count": 259,
     "metadata": {},
     "output_type": "execute_result"
    }
   ],
   "source": [
    "##\n",
    "#ticks\n",
    "poblacion=[]\n",
    "for pop in range (pop_size):\n",
    "    thaBest=[]\n",
    "    bestTicks=[]\n",
    "    for i in range (selection_tournament):\n",
    "        azar=random.randint(0,pop_size-1)\n",
    "        aux1=ticks[azar]\n",
    "        bestTicks.append(int(aux1))\n",
    "        aux2=indice_Puertas[azar]\n",
    "        thaBest.append(aux2)\n",
    "    mejor_ticks=np.amin(bestTicks)\n",
    "    index=bestTicks.index(mejor_ticks)\n",
    "    #print(index)\n",
    "    poblacion.append(thaBest[index])\n",
    "    #print(mejor_ticks)\n",
    "    #print(thaBest)\n",
    "poblacion"
   ]
  },
  {
   "cell_type": "code",
   "execution_count": 260,
   "metadata": {},
   "outputs": [
    {
     "name": "stdout",
     "output_type": "stream",
     "text": [
      "[277, 267, 168, 205, 165]\n",
      "[277, 267]\n",
      "[168, 205, 165]\n"
     ]
    }
   ],
   "source": [
    "temp=poblacion\n",
    "punto_corte= random.randint(1,4) \n",
    "print(temp[12])\n",
    "print(temp[12][:punto_corte])\n",
    "print(temp[12][punto_corte:])"
   ]
  },
  {
   "cell_type": "markdown",
   "metadata": {},
   "source": [
    "# Recombinación"
   ]
  },
  {
   "cell_type": "code",
   "execution_count": 261,
   "metadata": {},
   "outputs": [
    {
     "data": {
      "text/plain": [
       "[[154, 267, 168, 197, 165],\n",
       " [145, 267, 168, 214, 19],\n",
       " [15, 158, 168, 214, 19],\n",
       " [197, 33, 38, 197, 165],\n",
       " [270, 33, 38, 197, 165],\n",
       " [271, 33, 38, 197, 165],\n",
       " [91, 267, 168, 205, 165],\n",
       " [97, 1, 24, 139, 29],\n",
       " [270, 33, 38, 197, 165],\n",
       " [195, 285, 208, 214, 19],\n",
       " [195, 285, 208, 214, 19],\n",
       " [270, 33, 38, 197, 165],\n",
       " [277, 267, 168, 205, 165],\n",
       " [91, 267, 168, 205, 165],\n",
       " [270, 33, 38, 197, 165],\n",
       " [271, 33, 38, 197, 165],\n",
       " [270, 33, 38, 197, 165],\n",
       " [38, 267, 168, 205, 165],\n",
       " [91, 267, 168, 205, 165],\n",
       " [270, 33, 38, 197, 165]]"
      ]
     },
     "execution_count": 261,
     "metadata": {},
     "output_type": "execute_result"
    }
   ],
   "source": [
    "#Se mezcla el material genetico para crear nuevos individuos\n",
    "for i in range(int(pop_size/2)):\n",
    "    punto_corte = random.randint(1,4) #Se elige un punto para hacer el intercambio\n",
    "    padre1=poblacion[i] #Se eligen dos padres\n",
    "    padre2=poblacion[(int(pop_size/2))+i]\n",
    "\n",
    "    poblacion[i][:punto_corte] = padre1[:punto_corte] #Se mezcla el material genetico de los padres en cada nuevo individuo\n",
    "    poblacion[int(pop_size/2)+i][punto_corte:] = padre2[punto_corte:]\n",
    "poblacion"
   ]
  },
  {
   "cell_type": "markdown",
   "metadata": {},
   "source": [
    "# Mutación"
   ]
  },
  {
   "cell_type": "code",
   "execution_count": 234,
   "metadata": {},
   "outputs": [
    {
     "data": {
      "text/plain": [
       "228"
      ]
     },
     "execution_count": 234,
     "metadata": {},
     "output_type": "execute_result"
    }
   ],
   "source": [
    "#####CORREGIR######\n",
    "for individuo in indice_Puertas:\n",
    "    if(random.random()<=prob_mutacion):\n",
    "        pos=random.randint(0,4)\n",
    "        nuevaPuerta=random.randint(0,largo-1)\n",
    "        while(indice_Puertas[individuo][pos]==nuevaPuerta):\n",
    "            nuevaPuerta=random.randint(0,largo-1)\n",
    "        indice_Puertas[individuo][pos]=nuevaPuerta\n",
    "#terminar mutación, corregir posibles errores"
   ]
  },
  {
   "cell_type": "code",
   "execution_count": null,
   "metadata": {},
   "outputs": [],
   "source": [
    "###despues de tooooodo este webeo tendriamos la gen 1 lista para evaluar y asi sucesivamente"
   ]
  },
  {
   "cell_type": "code",
   "execution_count": null,
   "metadata": {},
   "outputs": [],
   "source": []
  },
  {
   "cell_type": "code",
   "execution_count": null,
   "metadata": {},
   "outputs": [],
   "source": []
  },
  {
   "cell_type": "code",
   "execution_count": null,
   "metadata": {},
   "outputs": [],
   "source": []
  },
  {
   "cell_type": "code",
   "execution_count": null,
   "metadata": {},
   "outputs": [],
   "source": [
    "netlogo.kill_workspace()"
   ]
  }
 ],
 "metadata": {
  "kernelspec": {
   "display_name": "Python 3",
   "language": "python",
   "name": "python3"
  },
  "language_info": {
   "codemirror_mode": {
    "name": "ipython",
    "version": 3
   },
   "file_extension": ".py",
   "mimetype": "text/x-python",
   "name": "python",
   "nbconvert_exporter": "python",
   "pygments_lexer": "ipython3",
   "version": "3.6.6"
  }
 },
 "nbformat": 4,
 "nbformat_minor": 2
}
