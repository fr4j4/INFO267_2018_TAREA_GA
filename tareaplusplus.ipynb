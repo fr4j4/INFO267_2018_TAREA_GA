{
 "cells": [
  {
   "cell_type": "markdown",
   "metadata": {},
   "source": [
    "<h1>Algoritmo Genético - Trabajo IA 2018</h1>\n",
    "Integrantes\n",
    "\n",
    "- Sebastian Gaete\n",
    "- Elard Koch\n",
    "- Israel Díaz\n",
    "- Francisco González\n",
    "- Humberto Campos\n",
    "\n",
    "**notas**<br>\n",
    "representación de individuo:\n",
    "diccionario de python, el cual posee las siguientes claves,valores:\n",
    "\n",
    "- **doors**: lista de puertas asociadas\n",
    "- **ticks**: cantidad de ticks promedio del individuo\n",
    "- **gen**: generación del individuo\n",
    "\n",
    "una población de  individuos corresponderá a una lista de diccionarios"
   ]
  },
  {
   "cell_type": "code",
   "execution_count": 69,
   "metadata": {},
   "outputs": [],
   "source": [
    "netlogo = None"
   ]
  },
  {
   "cell_type": "code",
   "execution_count": 70,
   "metadata": {},
   "outputs": [],
   "source": [
    "import platform\n",
    "import pyNetLogo\n",
    "import random\n",
    "import numpy as np\n",
    "\n",
    "netlogo_gui=False #ejecutar netlogo con interfaz grafica (True = si, False = no)\n",
    "current_gen = 0 #contador de la generación actual\n",
    "max_gen=30 #total de generaciones\n",
    "n_doors = 5 #numero de puertas a ubicar\n",
    "pop_size=20 #tamaño poblacion\n",
    "n_iterations=2 #cantidad de iteraciones por individuo\n",
    "n_tournament=3 #cantidad de individuos por torneo\n",
    "p_cross=0.5#probabilidad de recombinacion\n",
    "p_mut=0.1 #probabilidad de mutacion\n",
    "\n",
    "plan_file=\"school.plan\"\n",
    "\n",
    "population = []\n",
    "good_doors=[] #lista de coordenadas que pueden albergar una puerta "
   ]
  },
  {
   "cell_type": "markdown",
   "metadata": {},
   "source": [
    "- Para iniciar netlogo: **launch_netlogo()**\n",
    "- Para iniciar netlogo: **kill_netlogo()**"
   ]
  },
  {
   "cell_type": "code",
   "execution_count": 71,
   "metadata": {},
   "outputs": [],
   "source": [
    "\n",
    "def launch_netlogo():\n",
    "    global netlogo\n",
    "    print(\"Trying to start netlogo, please wait...\")\n",
    "    try:\n",
    "        sistema=platform.system()\n",
    "        if(sistema=='Windows'):\n",
    "            netlogo = pyNetLogo.NetLogoLink(gui=netlogo_gui)\n",
    "        elif(sistema=='Linux'):\n",
    "            netlogo = pyNetLogo.NetLogoLink(gui=netlogo_gui,netlogo_home='NetLogo 6.0.4/')\n",
    "        else:\n",
    "            netlogo = pyNetLogo.NetLogoLink(gui=netlogo_gui)\n",
    "        print(\"Done!\")\n",
    "    except Exception as e:\n",
    "        print(\"Ocurrio un problema al levantar netlogo!\")\n",
    "        print(e)\n",
    "\n",
    "def kill_netlogo():\n",
    "    global netlogo\n",
    "    if netlogo!=None:\n",
    "        try:\n",
    "            netlogo.kill_workspace()\n",
    "            netlogo = None\n",
    "        except Exception as e:\n",
    "            print(\"An exception has ocurred while attempíng to kill NetLogo!\")\n",
    "            print(e)\n",
    "    else:\n",
    "        print(\"Please start netlogo first before kill it\")"
   ]
  },
  {
   "cell_type": "markdown",
   "metadata": {},
   "source": [
    "<h1>Funciones para algoritmo genético</h1>"
   ]
  },
  {
   "cell_type": "code",
   "execution_count": 72,
   "metadata": {},
   "outputs": [],
   "source": [
    "#simulate recibe la lista ordenada de coordenadas de puertas, realiza la simulación correspondiente y retorna los ticks que ha demorado\n",
    "#La distribución de puertas debe estar previamente validada, en caso de que las puertas no sean accesibles, la simulación podría quedar atascada en un while infinito\n",
    "def simulate(doors):\n",
    "    str_command = \"set door-data {0}\".format(str(doors).replace(',','').replace(\"[\",\"[ \").replace(\"]\",\" ]\")).replace(\"(\",\"[\").replace(\")\",\"]\")\n",
    "    netlogo.command(str_command)\n",
    "    netlogo.command(\"show-plan\")\n",
    "    netlogo.command(\"generate-population\")\n",
    "    while(netlogo.report(\"count turtles\")>0):\n",
    "        netlogo.command(\"go\")\n",
    "    return(netlogo.report(\"ticks\"))\n",
    "\n",
    "def simulate_ind(individual):\n",
    "    doors = list(map(lambda i:[good_doors[i][0],good_doors[i][1]],individual['doors']))\n",
    "    return simulate(doors)\n",
    "    \n",
    "def get_good_doors(): #Obtener las coordenadas x e y de todas las puertas(posibles) que nos sirven\n",
    "    x=list(map(lambda i:int(i),netlogo.report(\"listax\")))\n",
    "    y=list(map(lambda i:int(i),netlogo.report(\"listay\")))\n",
    "    return list(map(lambda i:(x[i],y[i]),range(len(x))))\n",
    "\n",
    "def gen_zero(): #crea la generacion 0\n",
    "    tmp_population=[]\n",
    "    for i in range(pop_size):\n",
    "        individual = {\n",
    "            'doors':[],\n",
    "            'gen':0,\n",
    "            'ticks':0\n",
    "        }\n",
    "        tmp_population.append(individual)\n",
    "        for j in range(n_doors):\n",
    "            random_door_index = random.randint(0,len(good_doors) - 1)\n",
    "            individual['doors'].append(random_door_index)\n",
    "    return tmp_population\n",
    "        \n",
    "\n",
    "def evaluate_population(pop):\n",
    "    for individual in pop:\n",
    "        if(individual[\"ticks\"]==0):\n",
    "            simulations_ticks=[]\n",
    "            for i in range(n_iterations):\n",
    "                ticks = simulate_ind(individual)\n",
    "                simulations_ticks.append(ticks)\n",
    "            individual['ticks'] = np.mean(simulations_ticks)\n",
    "    \n",
    "    \n",
    "# def do_tournament(pop,n_players):\n",
    "#     result = []\n",
    "#     tmp_pop = pop.copy()\n",
    "#     if(n_players > len(pop)):\n",
    "#         n_players=len(pop)\n",
    "#     while len(tmp_pop) >= n_players:\n",
    "#         players_selection = []\n",
    "#         while(len(players_selection)<n_players):\n",
    "#             selection = np.random.choice(tmp_pop)\n",
    "#             if(selection not in players_selection):\n",
    "#                 players_selection.append(selection)\n",
    "#         players_doors=list(map(lambda p:p['doors'],players_selection))\n",
    "#         winner = players_selection[np.argmin([ i['ticks'] for i in players_selection])]\n",
    "#         tmp_pop=list(filter(lambda p:p['doors'] not in players_doors,tmp_pop))\n",
    "#         result.append(winner)\n",
    "#     if(len(tmp_pop)>0):\n",
    "#         winner = tmp_pop[np.argmin([ i['ticks'] for i in tmp_pop])]\n",
    "#         result.append(winner)\n",
    "#         tmp_pop=list(filter(lambda p:p['doors'] not in players_doors,tmp_pop))\n",
    "#     return result\n",
    "def do_tournament(pop,n_players):\n",
    "    result = []\n",
    "    tmp_pop = pop.copy()\n",
    "    if(n_players > len(pop)):\n",
    "        n_players=len(pop)\n",
    "    for i in range(len(tmp_pop)):\n",
    "        players_selection = []\n",
    "        for j in range (n_players):\n",
    "            selection = np.random.choice(tmp_pop)\n",
    "            players_selection.append(selection)\n",
    "        winner = players_selection[np.argmin([ i['ticks'] for i in players_selection])]\n",
    "        result.append(winner)    \n",
    "    return result\n",
    "\n",
    "# def do_crossover(pop,gen_number=0):\n",
    "#     new_pop=[]\n",
    "#     punto_corte = random.randint(1,n_doors - 1)\n",
    "#     for i in range(len(pop)//2):\n",
    "#         parent1=pop[i]['doors']\n",
    "#         parent2=pop[len(pop)//2 + i]['doors']\n",
    "#         new_individual = {\n",
    "#             'doors':parent1[:punto_corte] + parent2[punto_corte:],\n",
    "#             'gen':gen_number,\n",
    "#             'ticks':0\n",
    "#         }\n",
    "#         new_pop.append(new_individual)\n",
    "#     return new_pop\n",
    "def do_crossover(pop,gen_number):\n",
    "    new_pop = pop.copy()\n",
    "    cross_pop=[]\n",
    "    indexes=[]\n",
    "    for individual in range (len(new_pop)):\n",
    "        if (np.random.random() <= p_cross):\n",
    "#             temp=new_pop.pop(individual)\n",
    "            indexes.append(individual)\n",
    "            cross_pop.append(new_pop[individual])\n",
    "    if(len(cross_pop)%2==1):\n",
    "        r=random.randint(0,len(cross_pop)-1)\n",
    "        cross_pop.pop(r)\n",
    "        indexes.pop(r)\n",
    "\n",
    "    for i in range (int(len(cross_pop)/2)):\n",
    "        punto_corte = random.randint(1,n_doors - 1)\n",
    "        parent1=cross_pop[i]['doors']\n",
    "        parent2=cross_pop[int(len(cross_pop)/2 + i)]['doors']\n",
    "        new_individual_1 = {\n",
    "            'doors':parent1[:punto_corte] + parent2[punto_corte:],\n",
    "            'gen':gen_number,\n",
    "            'ticks':0\n",
    "        }\n",
    "        new_individual_2={\n",
    "            'doors':parent1[punto_corte:]+parent2[:punto_corte],\n",
    "            'gen':gen_number,\n",
    "            'ticks':0\n",
    "        }\n",
    "        cross_pop[i]=new_individual_1\n",
    "        cross_pop[int(len(cross_pop)/2) + i]=new_individual_2\n",
    "        for i in range(len(indexes)):\n",
    "            new_pop[indexes[i]]=cross_pop[i]\n",
    "        \n",
    "    result=new_pop\n",
    "    return result\n",
    "\n",
    "def do_mutate(pop,prob):\n",
    "    new_pop = pop.copy()\n",
    "    for individual in new_pop:\n",
    "        if np.random.random() <= prob:\n",
    "            random_index = random.randint(0,n_doors - 1)\n",
    "            new_door = np.random.randint(len(good_doors))\n",
    "            while(new_door == individual['doors'][random_index]):\n",
    "                new_door = np.random.randint( len(good_doors))\n",
    "            individual['doors'][random_index] = new_door\n",
    "            individual['ticks']=0\n",
    "    return new_pop\n",
    "\n",
    "def get_best_from_pop(pop):\n",
    "    best_index = np.argmin(list(map(lambda p:p['ticks'],pop)))\n",
    "    best = pop[best_index]\n",
    "    return best\n",
    "\n",
    "def get_mean(pop):\n",
    "    media = np.mean(np.array(list(map(lambda p:p['ticks'],pop))))\n",
    "    return media"
   ]
  },
  {
   "cell_type": "code",
   "execution_count": 73,
   "metadata": {},
   "outputs": [
    {
     "name": "stdout",
     "output_type": "stream",
     "text": [
      "Please start netlogo first before kill it\n",
      "Trying to start netlogo, please wait...\n",
      "Done!\n"
     ]
    }
   ],
   "source": [
    "kill_netlogo()\n",
    "launch_netlogo()"
   ]
  },
  {
   "cell_type": "code",
   "execution_count": 74,
   "metadata": {},
   "outputs": [],
   "source": [
    "netlogo.load_model(r'escape4_v6.nlogo')"
   ]
  },
  {
   "cell_type": "markdown",
   "metadata": {},
   "source": [
    "<h1>Bucle evolutivo</h1>"
   ]
  },
  {
   "cell_type": "code",
   "execution_count": 75,
   "metadata": {},
   "outputs": [
    {
     "name": "stdout",
     "output_type": "stream",
     "text": [
      "Generating population...\n",
      "Done!\n",
      "##Gen 0###\n",
      "Gen analysis finished\n",
      "##Gen 1###\n",
      "Gen analysis finished\n",
      "##Gen 2###\n",
      "Gen analysis finished\n",
      "##Gen 3###\n",
      "Gen analysis finished\n",
      "##Gen 4###\n",
      "Gen analysis finished\n",
      "##Gen 5###\n",
      "Gen analysis finished\n",
      "##Gen 6###\n",
      "Gen analysis finished\n",
      "##Gen 7###\n",
      "Gen analysis finished\n",
      "##Gen 8###\n",
      "Gen analysis finished\n",
      "##Gen 9###\n",
      "Gen analysis finished\n",
      "##Gen 10##\n",
      "Gen analysis finished\n",
      "##Gen 11##\n",
      "Gen analysis finished\n",
      "##Gen 12##\n",
      "Gen analysis finished\n",
      "##Gen 13##\n",
      "Gen analysis finished\n",
      "##Gen 14##\n",
      "Gen analysis finished\n",
      "##Gen 15##\n",
      "Gen analysis finished\n",
      "##Gen 16##\n",
      "Gen analysis finished\n",
      "##Gen 17##\n",
      "Gen analysis finished\n",
      "##Gen 18##\n",
      "Gen analysis finished\n",
      "##Gen 19##\n",
      "Gen analysis finished\n",
      "##Gen 20##\n",
      "Gen analysis finished\n",
      "##Gen 21##\n",
      "Gen analysis finished\n",
      "##Gen 22##\n",
      "Gen analysis finished\n",
      "##Gen 23##\n",
      "Gen analysis finished\n",
      "##Gen 24##\n",
      "Gen analysis finished\n",
      "##Gen 25##\n",
      "Gen analysis finished\n",
      "##Gen 26##\n",
      "Gen analysis finished\n",
      "##Gen 27##\n",
      "Gen analysis finished\n",
      "##Gen 28##\n",
      "Gen analysis finished\n",
      "##Gen 29##\n",
      "Gen analysis finished\n",
      "##Gen 30##\n",
      "Gen analysis finished\n",
      "Total elapsed time: 1031.660609960556\n"
     ]
    }
   ],
   "source": [
    "import time\n",
    "\n",
    "\n",
    "netlogo.command('set plan-data \"{0}\"'.format(plan_file))\n",
    "netlogo.command(\"load-plan-file\")\n",
    "\n",
    "good_doors = get_good_doors() #guardar las puertas posibles en good_doors\n",
    "\n",
    "start_time = time.time()\n",
    "print(\"Generating population...\")\n",
    "pop2 = gen_zero()\n",
    "print(\"Done!\")\n",
    "#print(\"|{0:_^5}|\".format(\"Gen\"))\n",
    "\n",
    "best_of = []\n",
    "all_mean=[]\n",
    "while current_gen <= max_gen:\n",
    "#     iter_time = time.time()\n",
    "    print(\"{0:#^10}\".format(\"Gen \" + str(current_gen)))\n",
    "#     print(\"Population size: {0}\".format(len(pop2)))\n",
    "#     print(\"Evaluating...\",end=\"\")\n",
    "    \n",
    "    evaluate_population(list(filter(lambda p:p['ticks'] ==0,pop2)))\n",
    "    population.append(pop2)\n",
    "    best_of_this_gen = get_best_from_pop(pop2)#encontrar el mejor (para realizar el grafico)\n",
    "    best_of.append( (current_gen,best_of_this_gen))#guardarlo en una lista junto con la genereacion (para el grafico)\n",
    "    gen_mean=get_mean(pop2)\n",
    "    all_mean.append((current_gen,gen_mean))\n",
    "    \n",
    "#     print(\"Done!\")\n",
    "    if(current_gen < max_gen):\n",
    "#         print(\"Tournament...\",end=\"\")\n",
    "        winners = do_tournament(pop2,n_tournament)\n",
    "#         print(\"Done!\")\n",
    "#         print(\"Crossing...\",end=\"\")\n",
    "        cross = do_crossover(winners, current_gen + 1)\n",
    "#         print(\"Done!\")\n",
    "#         print(\"Mutation phase...\",end=\"\")\n",
    "        result = do_mutate(cross,p_mut)\n",
    "#         print(\"Done!\")\n",
    "        pop2=result\n",
    "\n",
    "    \n",
    "    print(\"Gen analysis finished\")\n",
    "#     elapsed_time = time.time() - iter_time\n",
    "#     print(\"Elapsed time: {0}\".format(elapsed_time))\n",
    "    current_gen = current_gen + 1\n",
    "# print(pop2)\n",
    "elapsed_time = time.time() - start_time\n",
    "print(\"Total elapsed time: {0}\".format(elapsed_time))\n",
    "\n"
   ]
  },
  {
   "cell_type": "code",
   "execution_count": 76,
   "metadata": {
    "scrolled": false
   },
   "outputs": [
    {
     "name": "stdout",
     "output_type": "stream",
     "text": [
      "Best door combination:\n",
      "[(43, 7), (48, 37), (44, 37), (66, 22), (104, 26)]\n",
      "ticks:63.5\n",
      "Generation:26\n"
     ]
    },
    {
     "data": {
      "image/png": "[encoded data removed]",
      "text/plain": [
       "<Figure size 432x288 with 1 Axes>"
      ]
     },
     "metadata": {
      "needs_background": "light"
     },
     "output_type": "display_data"
    }
   ],
   "source": [
    "import matplotlib.pyplot as plt\n",
    "\n",
    "x_points=list(map(lambda x:x[0],best_of))\n",
    "y_points=list(map(lambda x:x[1]['ticks'],best_of))\n",
    "z_points=list(map(lambda x:x[1],all_mean))\n",
    "\n",
    "best_of_all_time_index = np.argmin(y_points)\n",
    "best_of_all_time = best_of[best_of_all_time_index][1]\n",
    "best_doors = list(map(lambda i:good_doors[i] ,best_of_all_time['doors']))\n",
    "\n",
    "print(\"Best door combination:\\n{0}\\nticks:{1}\\nGeneration:{2}\".format(best_doors,best_of_all_time['ticks'],best_of_all_time['gen']))\n",
    "\n",
    "plt.plot(x_points,y_points,z_points)\n",
    "plt.legend((\"Generation's Best\",\"Generation's Mean\"))\n",
    "plt.show()"
   ]
  },
  {
   "cell_type": "code",
   "execution_count": 77,
   "metadata": {},
   "outputs": [
    {
     "data": {
      "image/png": "[encoded data removed]",
      "text/plain": [
       "<Figure size 432x288 with 1 Axes>"
      ]
     },
     "metadata": {
      "needs_background": "light"
     },
     "output_type": "display_data"
    }
   ],
   "source": [
    "import matplotlib.pyplot as plt\n",
    "\n",
    "x_points=list(map(lambda x:x[0],best_of))\n",
    "y_points=list(map(lambda x:x[1]['ticks'],best_of))\n",
    "\n",
    "plt.plot(x_points,y_points)\n",
    "plt.show()"
   ]
  },
  {
   "cell_type": "code",
   "execution_count": 78,
   "metadata": {},
   "outputs": [
    {
     "data": {
      "image/png": "[encoded data removed]",
      "text/plain": [
       "<Figure size 432x288 with 1 Axes>"
      ]
     },
     "metadata": {
      "needs_background": "light"
     },
     "output_type": "display_data"
    }
   ],
   "source": [
    "x_points=list(map(lambda x:x[0],all_mean))\n",
    "y_points=list(map(lambda x:x[1],all_mean))\n",
    "\n",
    "# print(\"Best door combination:\\n{0}\\nticks:{1}\".format(best_doors,best_of_all_time['ticks']))\n",
    "\n",
    "plt.plot(x_points,y_points)\n",
    "plt.show()"
   ]
  },
  {
   "cell_type": "code",
   "execution_count": 79,
   "metadata": {},
   "outputs": [
    {
     "data": {
      "text/plain": [
       "[(0, {'doors': [168, 73, 85, 148, 147], 'gen': 0, 'ticks': 119.0}),\n",
       " (1, {'doors': [168, 73, 85, 148, 147], 'gen': 0, 'ticks': 119.0}),\n",
       " (2, {'doors': [168, 73, 85, 148, 147], 'gen': 0, 'ticks': 119.0}),\n",
       " (3, {'doors': [178, 168, 73, 85, 112], 'gen': 3, 'ticks': 88.5}),\n",
       " (4, {'doors': [168, 73, 85, 148, 178], 'gen': 4, 'ticks': 76.0}),\n",
       " (5, {'doors': [168, 73, 85, 148, 178], 'gen': 5, 'ticks': 73.5}),\n",
       " (6, {'doors': [168, 73, 85, 148, 178], 'gen': 4, 'ticks': 76.0}),\n",
       " (7, {'doors': [85, 148, 178, 201, 168], 'gen': 7, 'ticks': 72.5}),\n",
       " (8, {'doors': [85, 148, 178, 201, 168], 'gen': 7, 'ticks': 72.5}),\n",
       " (9, {'doors': [85, 234, 178, 52, 109], 'gen': 9, 'ticks': 102.0}),\n",
       " (10, {'doors': [85, 234, 178, 52, 109], 'gen': 9, 'ticks': 102.0}),\n",
       " (11, {'doors': [246, 178, 52, 168, 85], 'gen': 11, 'ticks': 106.5}),\n",
       " (12, {'doors': [246, 178, 52, 168, 85], 'gen': 11, 'ticks': 106.5}),\n",
       " (13, {'doors': [246, 178, 52, 168, 85], 'gen': 11, 'ticks': 106.5}),\n",
       " (14, {'doors': [331, 201, 168, 118, 148], 'gen': 12, 'ticks': 115.5}),\n",
       " (15, {'doors': [178, 201, 114, 85, 22], 'gen': 14, 'ticks': 84.5}),\n",
       " (16, {'doors': [178, 201, 114, 85, 22], 'gen': 14, 'ticks': 84.5}),\n",
       " (17, {'doors': [178, 201, 114, 85, 22], 'gen': 14, 'ticks': 84.5}),\n",
       " (18, {'doors': [178, 201, 114, 85, 22], 'gen': 14, 'ticks': 84.5}),\n",
       " (19, {'doors': [178, 201, 12, 85, 148], 'gen': 19, 'ticks': 87.5}),\n",
       " (20, {'doors': [201, 144, 80, 148, 178], 'gen': 20, 'ticks': 81.5}),\n",
       " (21, {'doors': [201, 144, 80, 148, 178], 'gen': 20, 'ticks': 81.5}),\n",
       " (22, {'doors': [201, 144, 80, 148, 178], 'gen': 20, 'ticks': 81.5}),\n",
       " (23, {'doors': [201, 144, 80, 148, 178], 'gen': 20, 'ticks': 81.5}),\n",
       " (24, {'doors': [178, 201, 144, 85, 148], 'gen': 24, 'ticks': 67.0}),\n",
       " (25, {'doors': [201, 144, 85, 148, 320], 'gen': 25, 'ticks': 108.0}),\n",
       " (26, {'doors': [201, 144, 85, 148, 178], 'gen': 26, 'ticks': 63.5}),\n",
       " (27, {'doors': [201, 144, 85, 148, 178], 'gen': 26, 'ticks': 63.5}),\n",
       " (28, {'doors': [85, 148, 178, 201, 144], 'gen': 26, 'ticks': 68.0}),\n",
       " (29, {'doors': [85, 148, 178, 201, 144], 'gen': 26, 'ticks': 68.0}),\n",
       " (30, {'doors': [85, 148, 178, 201, 144], 'gen': 26, 'ticks': 68.0})]"
      ]
     },
     "execution_count": 79,
     "metadata": {},
     "output_type": "execute_result"
    }
   ],
   "source": [
    "best_of"
   ]
  },
  {
   "cell_type": "code",
   "execution_count": 80,
   "metadata": {
    "scrolled": true
   },
   "outputs": [
    {
     "data": {
      "text/plain": [
       "[(0, 117.65),\n",
       " (1, 108.85),\n",
       " (2, 95.475),\n",
       " (3, 95.375),\n",
       " (4, 91.575),\n",
       " (5, 86.95),\n",
       " (6, 96.25),\n",
       " (7, 93.375),\n",
       " (8, 89.375),\n",
       " (9, 94.1),\n",
       " (10, 87.9),\n",
       " (11, 88.525),\n",
       " (12, 90.875),\n",
       " (13, 105.275),\n",
       " (14, 90.475),\n",
       " (15, 106.325),\n",
       " (16, 108.55),\n",
       " (17, 95.125),\n",
       " (18, 87.225),\n",
       " (19, 84.4),\n",
       " (20, 96.5),\n",
       " (21, 91.175),\n",
       " (22, 85.575),\n",
       " (23, 96.05),\n",
       " (24, 76.125),\n",
       " (25, 76.425),\n",
       " (26, 76.175),\n",
       " (27, 89.1),\n",
       " (28, 93.125),\n",
       " (29, 85.7),\n",
       " (30, 85.625)]"
      ]
     },
     "execution_count": 80,
     "metadata": {},
     "output_type": "execute_result"
    }
   ],
   "source": [
    "all_mean"
   ]
  },
  {
   "cell_type": "code",
   "execution_count": 81,
   "metadata": {},
   "outputs": [
    {
     "name": "stdout",
     "output_type": "stream",
     "text": [
      "[{'doors': [307, 311, 343, 2, 349], 'gen': 0, 'ticks': 99.0}, {'doors': [307, 146, 84, 68, 295], 'gen': 0, 'ticks': 142.0}, {'doors': [116, 181, 81, 208, 194], 'gen': 0, 'ticks': 125.5}, {'doors': [167, 113, 89, 291, 263], 'gen': 0, 'ticks': 99.5}, {'doors': [98, 265, 342, 25, 299], 'gen': 0, 'ticks': 147.0}, {'doors': [302, 32, 44, 172, 5], 'gen': 0, 'ticks': 111.0}, {'doors': [232, 145, 139, 231, 255], 'gen': 0, 'ticks': 90.0}, {'doors': [281, 289, 180, 182, 138], 'gen': 0, 'ticks': 117.0}, {'doors': [75, 44, 117, 263, 89], 'gen': 0, 'ticks': 85.5}, {'doors': [284, 31, 76, 274, 246], 'gen': 0, 'ticks': 124.0}, {'doors': [105, 41, 37, 299, 268], 'gen': 0, 'ticks': 156.0}, {'doors': [127, 147, 225, 325, 239], 'gen': 0, 'ticks': 131.0}, {'doors': [242, 51, 128, 272, 346], 'gen': 0, 'ticks': 112.0}, {'doors': [124, 138, 130, 345, 89], 'gen': 0, 'ticks': 93.5}, {'doors': [316, 138, 81, 95, 65], 'gen': 0, 'ticks': 141.5}, {'doors': [122, 243, 183, 19, 263], 'gen': 0, 'ticks': 110.0}, {'doors': [99, 13, 260, 62, 326], 'gen': 0, 'ticks': 93.5}, {'doors': [234, 339, 238, 45, 59], 'gen': 0, 'ticks': 128.0}, {'doors': [168, 73, 85, 148, 147], 'gen': 0, 'ticks': 119.0}, {'doors': [241, 342, 49, 137, 301], 'gen': 0, 'ticks': 169.5}]\n",
      "[{'doors': [281, 289, 180, 182, 138], 'gen': 0, 'ticks': 117.0}, {'doors': [168, 73, 85, 148, 147], 'gen': 0, 'ticks': 119.0}, {'doors': [168, 73, 85, 148, 147], 'gen': 0, 'ticks': 119.0}, {'doors': [122, 243, 183, 19, 59], 'gen': 1, 'ticks': 97.5}, {'doors': [168, 73, 85, 148, 147], 'gen': 0, 'ticks': 119.0}, {'doors': [122, 243, 130, 345, 89], 'gen': 1, 'ticks': 156.5}, {'doors': [124, 138, 117, 263, 89], 'gen': 1, 'ticks': 133.5}, {'doors': [242, 51, 128, 272, 138], 'gen': 1, 'ticks': 102.0}, {'doors': [307, 311, 343, 263, 89], 'gen': 1, 'ticks': 120.5}, {'doors': [263, 234, 339, 238, 45], 'gen': 1, 'ticks': 130.5}, {'doors': [281, 289, 180, 182, 138], 'gen': 0, 'ticks': 117.0}, {'doors': [183, 19, 263, 124, 138], 'gen': 1, 'ticks': 144.0}, {'doors': [75, 44, 117, 263, 89], 'gen': 0, 'ticks': 85.5}, {'doors': [130, 345, 89, 75, 6], 'gen': 1, 'ticks': 89.5}, {'doors': [346, 281, 289, 180, 182], 'gen': 1, 'ticks': 134.5}, {'doors': [232, 145, 139, 231, 255], 'gen': 0, 'ticks': 90.0}, {'doors': [168, 73, 85, 148, 147], 'gen': 0, 'ticks': 119.0}, {'doors': [2, 349, 75, 44, 117], 'gen': 1, 'ticks': 96.5}, {'doors': [302, 32, 44, 172, 5], 'gen': 0, 'ticks': 111.0}, {'doors': [316, 138, 81, 95, 65], 'gen': 0, 'ticks': 141.5}]\n",
      "[{'doors': [168, 73, 343, 263, 89], 'gen': 2, 'ticks': 119.5}, {'doors': [168, 73, 85, 148, 178], 'gen': 2, 'ticks': 82.0}, {'doors': [168, 73, 85, 148, 147], 'gen': 0, 'ticks': 119.0}, {'doors': [168, 73, 85, 148, 268], 'gen': 2, 'ticks': 102.5}, {'doors': [168, 73, 85, 148, 117], 'gen': 2, 'ticks': 110.0}, {'doors': [302, 32, 44, 172, 5], 'gen': 2, 'ticks': 121.5}, {'doors': [168, 73, 85, 172, 5], 'gen': 2, 'ticks': 114.5}, {'doors': [168, 73, 85, 148, 178], 'gen': 2, 'ticks': 79.0}, {'doors': [302, 32, 75, 44, 117], 'gen': 2, 'ticks': 99.0}, {'doors': [85, 278, 178, 307, 311], 'gen': 2, 'ticks': 124.5}, {'doors': [178, 168, 73, 85, 148], 'gen': 2, 'ticks': 82.5}, {'doors': [73, 85, 148, 78, 201], 'gen': 2, 'ticks': 97.5}, {'doors': [178, 2, 349, 75, 44], 'gen': 2, 'ticks': 90.0}, {'doors': [168, 73, 85, 148, 147], 'gen': 0, 'ticks': 119.0}, {'doors': [168, 73, 85, 148, 147], 'gen': 0, 'ticks': 119.0}, {'doors': [168, 73, 85, 148, 147], 'gen': 0, 'ticks': 119.0}, {'doors': [32, 44, 172, 5, 302], 'gen': 2, 'ticks': 108.0}, {'doors': [148, 178, 302, 32, 44], 'gen': 2, 'ticks': 104.0}, {'doors': [85, 148, 144, 168, 73], 'gen': 2, 'ticks': 115.0}, {'doors': [44, 172, 5, 2, 349], 'gen': 2, 'ticks': 123.5}]\n",
      "[{'doors': [168, 73, 85, 148, 147], 'gen': 0, 'ticks': 119.0}, {'doors': [168, 73, 85, 148, 147], 'gen': 0, 'ticks': 119.0}, {'doors': [168, 73, 85, 148, 268], 'gen': 2, 'ticks': 102.5}, {'doors': [73, 85, 148, 78, 201], 'gen': 2, 'ticks': 97.5}, {'doors': [168, 73, 85, 148, 178], 'gen': 3, 'ticks': 88.5}, {'doors': [168, 73, 85, 148, 268], 'gen': 2, 'ticks': 102.5}, {'doors': [168, 168, 73, 85, 148], 'gen': 3, 'ticks': 117.5}, {'doors': [32, 44, 172, 5, 302], 'gen': 2, 'ticks': 108.0}, {'doors': [168, 73, 85, 148, 147], 'gen': 0, 'ticks': 119.0}, {'doors': [168, 73, 85, 148, 178], 'gen': 3, 'ticks': 83.5}, {'doors': [323, 73, 85, 148, 178], 'gen': 3, 'ticks': 83.5}, {'doors': [85, 148, 144, 168, 73], 'gen': 2, 'ticks': 115.0}, {'doors': [168, 73, 85, 148, 147], 'gen': 0, 'ticks': 119.0}, {'doors': [178, 168, 73, 85, 112], 'gen': 3, 'ticks': 88.5}, {'doors': [168, 73, 85, 148, 117], 'gen': 2, 'ticks': 110.0}, {'doors': [168, 73, 85, 148, 268], 'gen': 2, 'ticks': 102.5}, {'doors': [73, 85, 148, 178, 178], 'gen': 3, 'ticks': 84.5}, {'doors': [85, 148, 178, 329, 73], 'gen': 3, 'ticks': 86.5}, {'doors': [117, 168, 73, 85, 148], 'gen': 3, 'ticks': 113.0}, {'doors': [73, 85, 148, 78, 201], 'gen': 2, 'ticks': 97.5}]\n",
      "[{'doors': [168, 73, 85, 148, 178], 'gen': 4, 'ticks': 76.0}, {'doors': [73, 85, 148, 178, 178], 'gen': 4, 'ticks': 85.0}, {'doors': [73, 73, 85, 148, 169], 'gen': 4, 'ticks': 117.0}, {'doors': [178, 192, 85, 148, 117], 'gen': 4, 'ticks': 100.5}, {'doors': [73, 85, 148, 78, 201], 'gen': 2, 'ticks': 97.5}, {'doors': [168, 73, 178, 168, 73], 'gen': 4, 'ticks': 137.5}, {'doors': [168, 73, 85, 148, 268], 'gen': 2, 'ticks': 102.5}, {'doors': [178, 168, 73, 85, 112], 'gen': 3, 'ticks': 88.5}, {'doors': [73, 85, 148, 78, 201], 'gen': 2, 'ticks': 97.5}, {'doors': [178, 168, 73, 85, 112], 'gen': 3, 'ticks': 88.5}, {'doors': [85, 148, 178, 168, 73], 'gen': 4, 'ticks': 87.5}, {'doors': [168, 73, 85, 148, 178], 'gen': 3, 'ticks': 83.5}, {'doors': [178, 168, 73, 85, 112], 'gen': 3, 'ticks': 88.5}, {'doors': [85, 148, 144, 168, 73], 'gen': 2, 'ticks': 115.0}, {'doors': [178, 168, 73, 85, 148], 'gen': 4, 'ticks': 79.5}, {'doors': [85, 148, 178, 201, 168], 'gen': 4, 'ticks': 82.0}, {'doors': [168, 73, 85, 148, 168], 'gen': 4, 'ticks': 118.0}, {'doors': [168, 73, 85, 148, 268], 'gen': 2, 'ticks': 102.5}, {'doors': [85, 148, 178, 85, 148], 'gen': 4, 'ticks': 110.5}, {'doors': [178, 168, 73, 85, 112], 'gen': 3, 'ticks': 88.5}]\n",
      "[{'doors': [85, 148, 144, 168, 73], 'gen': 2, 'ticks': 115.0}, {'doors': [178, 168, 73, 85, 148], 'gen': 4, 'ticks': 79.5}, {'doors': [73, 85, 148, 178, 178], 'gen': 4, 'ticks': 85.0}, {'doors': [168, 73, 85, 148, 178], 'gen': 5, 'ticks': 73.5}, {'doors': [178, 168, 73, 85, 148], 'gen': 4, 'ticks': 79.5}, {'doors': [85, 148, 144, 168, 73], 'gen': 2, 'ticks': 115.0}, {'doors': [168, 73, 85, 168, 73], 'gen': 5, 'ticks': 122.5}, {'doors': [73, 85, 18, 178, 201], 'gen': 5, 'ticks': 104.5}, {'doors': [168, 73, 85, 148, 178], 'gen': 4, 'ticks': 76.0}, {'doors': [283, 73, 85, 148, 178], 'gen': 5, 'ticks': 89.0}, {'doors': [73, 85, 148, 148, 178], 'gen': 5, 'ticks': 89.0}, {'doors': [85, 148, 178, 201, 168], 'gen': 4, 'ticks': 82.0}, {'doors': [247, 168, 73, 85, 148], 'gen': 5, 'ticks': 123.0}, {'doors': [73, 85, 148, 78, 201], 'gen': 2, 'ticks': 97.5}, {'doors': [168, 73, 85, 148, 268], 'gen': 2, 'ticks': 102.5}, {'doors': [246, 178, 85, 148, 178], 'gen': 5, 'ticks': 82.0}, {'doors': [201, 73, 85, 148, 178], 'gen': 5, 'ticks': 86.0}, {'doors': [148, 178, 201, 168, 168], 'gen': 5, 'ticks': 96.5}, {'doors': [178, 201, 168, 73, 85], 'gen': 5, 'ticks': 83.5}, {'doors': [168, 73, 85, 148, 178], 'gen': 4, 'ticks': 76.0}]\n",
      "[{'doors': [73, 85, 18, 178, 201], 'gen': 5, 'ticks': 104.5}, {'doors': [168, 178, 85, 148, 178], 'gen': 6, 'ticks': 98.5}, {'doors': [73, 85, 148, 85, 148], 'gen': 6, 'ticks': 127.5}, {'doors': [85, 148, 85, 148, 178], 'gen': 6, 'ticks': 106.0}, {'doors': [178, 168, 73, 85, 178], 'gen': 6, 'ticks': 113.5}, {'doors': [85, 148, 144, 168, 73], 'gen': 2, 'ticks': 115.0}, {'doors': [85, 85, 148, 178, 201], 'gen': 6, 'ticks': 81.0}, {'doors': [168, 73, 85, 148, 178], 'gen': 4, 'ticks': 76.0}, {'doors': [246, 178, 85, 148, 178], 'gen': 6, 'ticks': 83.5}, {'doors': [283, 73, 85, 148, 178], 'gen': 5, 'ticks': 89.0}, {'doors': [168, 73, 85, 148, 178], 'gen': 6, 'ticks': 84.5}, {'doors': [73, 85, 148, 178, 246], 'gen': 6, 'ticks': 76.5}, {'doors': [178, 201, 178, 168, 84], 'gen': 6, 'ticks': 124.0}, {'doors': [178, 168, 73, 168, 73], 'gen': 6, 'ticks': 143.5}, {'doors': [168, 73, 85, 148, 178], 'gen': 4, 'ticks': 76.0}, {'doors': [148, 168, 73, 85, 148], 'gen': 6, 'ticks': 120.5}, {'doors': [148, 178, 201, 168, 73], 'gen': 6, 'ticks': 90.0}, {'doors': [148, 178, 168, 73, 85], 'gen': 6, 'ticks': 83.0}, {'doors': [148, 178, 168, 73, 85], 'gen': 6, 'ticks': 80.0}, {'doors': [73, 85, 148, 78, 201], 'gen': 2, 'ticks': 97.5}]\n",
      "[{'doors': [73, 85, 148, 178, 246], 'gen': 6, 'ticks': 76.5}, {'doors': [73, 85, 18, 178, 201], 'gen': 5, 'ticks': 104.5}, {'doors': [73, 85, 18, 178, 201], 'gen': 5, 'ticks': 104.5}, {'doors': [73, 73, 85, 148, 178], 'gen': 7, 'ticks': 90.5}, {'doors': [168, 73, 168, 73, 85], 'gen': 7, 'ticks': 110.0}, {'doors': [168, 85, 32, 178, 246], 'gen': 7, 'ticks': 112.0}, {'doors': [148, 178, 168, 73, 85], 'gen': 6, 'ticks': 80.0}, {'doors': [36, 148, 85, 148, 178], 'gen': 7, 'ticks': 88.5}, {'doors': [148, 178, 148, 178, 201], 'gen': 7, 'ticks': 163.5}, {'doors': [148, 178, 168, 73, 85], 'gen': 6, 'ticks': 80.0}, {'doors': [85, 148, 178, 201, 168], 'gen': 7, 'ticks': 72.5}, {'doors': [73, 85, 18, 178, 201], 'gen': 5, 'ticks': 104.5}, {'doors': [168, 73, 85, 148, 178], 'gen': 4, 'ticks': 76.0}, {'doors': [73, 85, 148, 178, 246], 'gen': 6, 'ticks': 76.5}, {'doors': [73, 85, 148, 78, 201], 'gen': 2, 'ticks': 97.5}, {'doors': [73, 85, 148, 178, 246], 'gen': 6, 'ticks': 76.5}, {'doors': [85, 148, 178, 148, 178], 'gen': 7, 'ticks': 99.0}, {'doors': [73, 85, 148, 178, 73], 'gen': 7, 'ticks': 94.5}, {'doors': [148, 178, 246, 178, 85], 'gen': 7, 'ticks': 85.0}, {'doors': [201, 168, 73, 73, 85], 'gen': 7, 'ticks': 93.5}]\n",
      "[{'doors': [148, 178, 178, 201, 168], 'gen': 8, 'ticks': 101.0}, {'doors': [73, 85, 178, 201, 168], 'gen': 8, 'ticks': 76.5}, {'doors': [73, 85, 178, 201, 168], 'gen': 8, 'ticks': 85.0}, {'doors': [73, 85, 148, 178, 246], 'gen': 6, 'ticks': 76.5}, {'doors': [201, 168, 73, 73, 85], 'gen': 7, 'ticks': 93.5}, {'doors': [36, 148, 85, 148, 178], 'gen': 7, 'ticks': 88.5}, {'doors': [73, 178, 168, 73, 85], 'gen': 8, 'ticks': 117.0}, {'doors': [73, 85, 148, 178, 246], 'gen': 8, 'ticks': 80.0}, {'doors': [73, 85, 148, 178, 246], 'gen': 6, 'ticks': 76.5}, {'doors': [36, 148, 85, 148, 178], 'gen': 7, 'ticks': 88.5}, {'doors': [168, 73, 85, 85, 148], 'gen': 8, 'ticks': 117.5}, {'doors': [18, 178, 201, 85, 148], 'gen': 8, 'ticks': 81.5}, {'doors': [73, 85, 148, 78, 201], 'gen': 2, 'ticks': 97.5}, {'doors': [148, 178, 246, 85, 148], 'gen': 8, 'ticks': 84.5}, {'doors': [85, 148, 178, 246, 126], 'gen': 8, 'ticks': 80.5}, {'doors': [73, 85, 148, 178, 246], 'gen': 6, 'ticks': 76.5}, {'doors': [148, 178, 246, 73, 186], 'gen': 8, 'ticks': 147.5}, {'doors': [73, 85, 148, 78, 201], 'gen': 2, 'ticks': 97.5}, {'doors': [148, 178, 246, 178, 85], 'gen': 7, 'ticks': 85.0}, {'doors': [85, 148, 178, 201, 168], 'gen': 7, 'ticks': 72.5}]\n",
      "[{'doors': [85, 85, 148, 178, 246], 'gen': 9, 'ticks': 91.0}, {'doors': [201, 168, 73, 73, 85], 'gen': 7, 'ticks': 93.5}, {'doors': [148, 178, 246, 85, 148], 'gen': 9, 'ticks': 82.0}, {'doors': [148, 178, 246, 178, 85], 'gen': 7, 'ticks': 85.0}, {'doors': [73, 85, 148, 78, 201], 'gen': 2, 'ticks': 97.5}, {'doors': [85, 234, 178, 52, 109], 'gen': 9, 'ticks': 102.0}, {'doors': [73, 85, 148, 178, 246], 'gen': 6, 'ticks': 76.5}, {'doors': [148, 178, 246, 178, 85], 'gen': 7, 'ticks': 85.0}, {'doors': [73, 85, 178, 201, 168], 'gen': 9, 'ticks': 93.0}, {'doors': [18, 178, 201, 178, 201], 'gen': 9, 'ticks': 157.0}, {'doors': [73, 85, 148, 178, 246], 'gen': 9, 'ticks': 83.0}, {'doors': [85, 148, 178, 246, 246], 'gen': 9, 'ticks': 85.0}, {'doors': [148, 178, 246, 126, 73], 'gen': 9, 'ticks': 142.0}, {'doors': [178, 85, 148, 178, 246], 'gen': 9, 'ticks': 86.5}, {'doors': [73, 85, 178, 201, 168], 'gen': 8, 'ticks': 76.5}, {'doors': [168, 85, 148, 178, 201], 'gen': 9, 'ticks': 79.5}, {'doors': [203, 178, 246, 73, 85], 'gen': 9, 'ticks': 104.5}, {'doors': [85, 148, 73, 85, 148], 'gen': 9, 'ticks': 125.5}, {'doors': [148, 178, 246, 73, 85], 'gen': 9, 'ticks': 85.0}, {'doors': [126, 73, 85, 148, 178], 'gen': 9, 'ticks': 89.5}]\n",
      "[{'doors': [85, 234, 178, 52, 109], 'gen': 9, 'ticks': 102.0}, {'doors': [73, 85, 178, 201, 168], 'gen': 8, 'ticks': 76.5}, {'doors': [148, 178, 246, 178, 85], 'gen': 7, 'ticks': 85.0}, {'doors': [85, 148, 178, 73, 85], 'gen': 10, 'ticks': 82.0}, {'doors': [203, 178, 246, 73, 85], 'gen': 9, 'ticks': 104.5}, {'doors': [148, 148, 178, 201, 168], 'gen': 10, 'ticks': 106.0}, {'doors': [85, 148, 178, 246, 246], 'gen': 9, 'ticks': 85.0}, {'doors': [73, 85, 246, 73, 85], 'gen': 10, 'ticks': 102.5}, {'doors': [148, 85, 178, 201, 168], 'gen': 10, 'ticks': 82.5}, {'doors': [201, 168, 148, 178, 246], 'gen': 10, 'ticks': 103.5}, {'doors': [85, 148, 178, 246, 246], 'gen': 9, 'ticks': 85.0}, {'doors': [85, 234, 178, 52, 109], 'gen': 9, 'ticks': 102.0}, {'doors': [126, 73, 85, 148, 178], 'gen': 9, 'ticks': 89.5}, {'doors': [178, 246, 73, 85, 85], 'gen': 10, 'ticks': 97.0}, {'doors': [73, 85, 178, 201, 168], 'gen': 8, 'ticks': 76.5}, {'doors': [73, 85, 178, 201, 168], 'gen': 8, 'ticks': 76.5}, {'doors': [178, 201, 168, 148, 178], 'gen': 10, 'ticks': 106.0}, {'doors': [85, 234, 178, 52, 109], 'gen': 9, 'ticks': 102.0}, {'doors': [85, 148, 178, 246, 246], 'gen': 9, 'ticks': 85.0}, {'doors': [178, 246, 85, 318, 73], 'gen': 10, 'ticks': 87.0}]\n",
      "[{'doors': [85, 234, 178, 52, 109], 'gen': 9, 'ticks': 102.0}, {'doors': [73, 85, 178, 201, 168], 'gen': 11, 'ticks': 87.5}, {'doors': [85, 148, 178, 246, 246], 'gen': 9, 'ticks': 85.0}, {'doors': [85, 234, 178, 52, 109], 'gen': 9, 'ticks': 102.0}, {'doors': [85, 234, 178, 52, 109], 'gen': 9, 'ticks': 102.0}, {'doors': [73, 85, 178, 201, 168], 'gen': 11, 'ticks': 86.5}, {'doors': [85, 234, 178, 52, 109], 'gen': 9, 'ticks': 102.0}, {'doors': [85, 234, 178, 52, 109], 'gen': 9, 'ticks': 102.0}, {'doors': [85, 148, 178, 52, 168], 'gen': 11, 'ticks': 75.5}, {'doors': [85, 148, 178, 52, 168], 'gen': 11, 'ticks': 76.0}, {'doors': [85, 148, 178, 73, 85], 'gen': 10, 'ticks': 82.0}, {'doors': [85, 234, 178, 52, 109], 'gen': 9, 'ticks': 102.0}, {'doors': [201, 168, 73, 85, 178], 'gen': 11, 'ticks': 82.5}, {'doors': [73, 85, 178, 201, 168], 'gen': 8, 'ticks': 76.5}, {'doors': [85, 234, 178, 52, 109], 'gen': 9, 'ticks': 102.0}, {'doors': [168, 85, 148, 178, 52], 'gen': 11, 'ticks': 73.5}, {'doors': [178, 52, 168, 85, 148], 'gen': 11, 'ticks': 75.0}, {'doors': [85, 148, 178, 246, 246], 'gen': 9, 'ticks': 85.0}, {'doors': [85, 234, 178, 52, 109], 'gen': 9, 'ticks': 102.0}, {'doors': [246, 178, 52, 168, 85], 'gen': 11, 'ticks': 106.5}]\n",
      "[{'doors': [85, 148, 178, 73, 85], 'gen': 10, 'ticks': 82.0}, {'doors': [73, 85, 178, 246, 246], 'gen': 12, 'ticks': 99.5}, {'doors': [201, 168, 73, 85, 184], 'gen': 12, 'ticks': 96.5}, {'doors': [85, 148, 178, 73, 148], 'gen': 12, 'ticks': 89.0}, {'doors': [246, 178, 52, 168, 85], 'gen': 11, 'ticks': 106.5}, {'doors': [246, 178, 52, 168, 85], 'gen': 11, 'ticks': 106.5}, {'doors': [73, 85, 178, 246, 246], 'gen': 12, 'ticks': 96.5}, {'doors': [168, 85, 148, 178, 168], 'gen': 12, 'ticks': 104.0}, {'doors': [178, 52, 168, 246, 246], 'gen': 12, 'ticks': 113.5}, {'doors': [85, 148, 178, 52, 109], 'gen': 12, 'ticks': 83.0}, {'doors': [85, 148, 178, 52, 168], 'gen': 11, 'ticks': 76.0}, {'doors': [178, 201, 168, 85, 148], 'gen': 12, 'ticks': 79.5}, {'doors': [178, 85, 148, 178, 246], 'gen': 12, 'ticks': 90.0}, {'doors': [85, 178, 52, 168, 85], 'gen': 12, 'ticks': 114.0}, {'doors': [331, 201, 168, 118, 148], 'gen': 12, 'ticks': 115.5}, {'doors': [52, 85, 148, 345, 52], 'gen': 12, 'ticks': 107.5}, {'doors': [85, 148, 178, 52, 168], 'gen': 11, 'ticks': 75.5}, {'doors': [85, 148, 85, 148, 178], 'gen': 12, 'ticks': 98.0}, {'doors': [246, 246, 85, 234, 178], 'gen': 12, 'ticks': 129.5}, {'doors': [201, 168, 73, 85, 178], 'gen': 11, 'ticks': 82.5}]\n",
      "[{'doors': [178, 148, 178, 52, 109], 'gen': 13, 'ticks': 161.5}, {'doors': [178, 148, 178, 52, 232], 'gen': 13, 'ticks': 175.0}, {'doors': [85, 148, 178, 52, 168], 'gen': 11, 'ticks': 76.0}, {'doors': [148, 178, 52, 168, 148], 'gen': 13, 'ticks': 104.5}, {'doors': [178, 201, 168, 85, 85], 'gen': 13, 'ticks': 111.5}, {'doors': [331, 201, 168, 118, 148], 'gen': 12, 'ticks': 115.5}, {'doors': [331, 201, 168, 118, 148], 'gen': 12, 'ticks': 115.5}, {'doors': [73, 85, 178, 246, 246], 'gen': 12, 'ticks': 96.5}, {'doors': [331, 201, 168, 118, 148], 'gen': 12, 'ticks': 115.5}, {'doors': [148, 178, 148, 178, 246], 'gen': 13, 'ticks': 180.0}, {'doors': [331, 201, 168, 118, 148], 'gen': 12, 'ticks': 115.5}, {'doors': [201, 168, 85, 148, 85], 'gen': 13, 'ticks': 122.0}, {'doors': [201, 168, 73, 85, 178], 'gen': 11, 'ticks': 82.5}, {'doors': [201, 168, 85, 148, 85], 'gen': 13, 'ticks': 119.5}, {'doors': [85, 178, 201, 168, 85], 'gen': 13, 'ticks': 109.0}, {'doors': [201, 168, 73, 85, 178], 'gen': 11, 'ticks': 82.5}, {'doors': [246, 178, 52, 168, 85], 'gen': 11, 'ticks': 106.5}, {'doors': [148, 148, 178, 52, 168], 'gen': 13, 'ticks': 104.0}, {'doors': [52, 168, 85, 178, 85], 'gen': 13, 'ticks': 110.0}, {'doors': [52, 85, 148, 345, 52], 'gen': 12, 'ticks': 107.5}]\n",
      "[{'doors': [178, 201, 114, 85, 22], 'gen': 14, 'ticks': 84.5}, {'doors': [246, 178, 52, 168, 85], 'gen': 11, 'ticks': 106.5}, {'doors': [148, 148, 178, 52, 168], 'gen': 13, 'ticks': 104.0}, {'doors': [331, 201, 168, 118, 148], 'gen': 12, 'ticks': 115.5}, {'doors': [331, 201, 168, 118, 148], 'gen': 12, 'ticks': 115.5}, {'doors': [85, 201, 168, 85, 148], 'gen': 14, 'ticks': 108.0}, {'doors': [331, 201, 168, 118, 148], 'gen': 12, 'ticks': 115.5}, {'doors': [331, 201, 168, 118, 148], 'gen': 12, 'ticks': 115.5}, {'doors': [201, 168, 85, 148, 85], 'gen': 13, 'ticks': 119.5}, {'doors': [246, 178, 52, 168, 85], 'gen': 11, 'ticks': 106.5}, {'doors': [331, 201, 168, 118, 148], 'gen': 12, 'ticks': 115.5}, {'doors': [201, 168, 73, 85, 178], 'gen': 11, 'ticks': 82.5}, {'doors': [246, 178, 52, 168, 85], 'gen': 11, 'ticks': 106.5}, {'doors': [148, 178, 201, 168, 85], 'gen': 14, 'ticks': 75.5}, {'doors': [331, 201, 168, 118, 148], 'gen': 12, 'ticks': 115.5}, {'doors': [331, 201, 168, 118, 148], 'gen': 12, 'ticks': 115.5}, {'doors': [246, 178, 52, 168, 85], 'gen': 11, 'ticks': 106.5}, {'doors': [171, 178, 52, 168, 178], 'gen': 14, 'ticks': 116.5}, {'doors': [246, 178, 52, 168, 85], 'gen': 11, 'ticks': 106.5}, {'doors': [201, 168, 73, 85, 178], 'gen': 11, 'ticks': 82.5}]\n",
      "[{'doors': [178, 201, 114, 85, 22], 'gen': 14, 'ticks': 84.5}, {'doors': [171, 201, 168, 85, 148], 'gen': 15, 'ticks': 118.5}, {'doors': [331, 201, 168, 118, 148], 'gen': 12, 'ticks': 115.5}, {'doors': [331, 201, 168, 118, 148], 'gen': 12, 'ticks': 115.5}, {'doors': [178, 201, 168, 85, 148], 'gen': 15, 'ticks': 85.0}, {'doors': [148, 148, 178, 85, 148], 'gen': 15, 'ticks': 104.5}, {'doors': [331, 201, 168, 118, 148], 'gen': 12, 'ticks': 115.5}, {'doors': [178, 201, 168, 85, 148], 'gen': 15, 'ticks': 81.0}, {'doors': [331, 201, 168, 118, 148], 'gen': 12, 'ticks': 115.5}, {'doors': [168, 85, 148, 178, 201], 'gen': 15, 'ticks': 79.0}, {'doors': [331, 201, 168, 118, 148], 'gen': 12, 'ticks': 115.5}, {'doors': [85, 148, 178, 201, 168], 'gen': 15, 'ticks': 75.0}, {'doors': [52, 168, 178, 201, 168], 'gen': 15, 'ticks': 123.0}, {'doors': [331, 201, 168, 118, 148], 'gen': 12, 'ticks': 115.5}, {'doors': [331, 201, 168, 118, 148], 'gen': 12, 'ticks': 115.5}, {'doors': [331, 201, 168, 118, 148], 'gen': 12, 'ticks': 115.5}, {'doors': [331, 201, 168, 118, 148], 'gen': 12, 'ticks': 115.5}, {'doors': [331, 201, 168, 118, 148], 'gen': 12, 'ticks': 115.5}, {'doors': [168, 85, 148, 178, 201], 'gen': 15, 'ticks': 77.5}, {'doors': [331, 201, 168, 118, 148], 'gen': 12, 'ticks': 115.5}]\n",
      "[{'doors': [85, 148, 168, 85, 148], 'gen': 16, 'ticks': 146.0}, {'doors': [85, 148, 178, 85, 148], 'gen': 16, 'ticks': 100.5}, {'doors': [168, 85, 148, 178, 201], 'gen': 15, 'ticks': 77.5}, {'doors': [331, 201, 168, 118, 148], 'gen': 12, 'ticks': 115.5}, {'doors': [178, 201, 114, 85, 22], 'gen': 14, 'ticks': 84.5}, {'doors': [168, 85, 148, 178, 201], 'gen': 15, 'ticks': 77.5}, {'doors': [178, 201, 168, 85, 148], 'gen': 16, 'ticks': 81.0}, {'doors': [331, 201, 168, 118, 148], 'gen': 12, 'ticks': 115.5}, {'doors': [178, 201, 168, 85, 148], 'gen': 16, 'ticks': 83.5}, {'doors': [178, 201, 178, 85, 148], 'gen': 16, 'ticks': 82.0}, {'doors': [85, 148, 178, 201, 148], 'gen': 16, 'ticks': 85.0}, {'doors': [178, 201, 168, 331, 201], 'gen': 16, 'ticks': 126.0}, {'doors': [201, 279, 331, 201, 168], 'gen': 16, 'ticks': 195.5}, {'doors': [168, 85, 148, 331, 201], 'gen': 16, 'ticks': 116.5}, {'doors': [168, 85, 148, 178, 201], 'gen': 15, 'ticks': 79.0}, {'doors': [331, 201, 168, 118, 148], 'gen': 12, 'ticks': 115.5}, {'doors': [148, 331, 201, 168, 85], 'gen': 16, 'ticks': 115.0}, {'doors': [178, 201, 114, 85, 22], 'gen': 14, 'ticks': 84.5}, {'doors': [168, 85, 61, 148, 148], 'gen': 16, 'ticks': 148.0}, {'doors': [168, 331, 201, 168, 85], 'gen': 16, 'ticks': 163.5}]\n",
      "[{'doors': [178, 201, 178, 85, 148], 'gen': 16, 'ticks': 82.0}, {'doors': [178, 201, 178, 85, 148], 'gen': 16, 'ticks': 82.0}, {'doors': [178, 201, 178, 85, 148], 'gen': 17, 'ticks': 81.5}, {'doors': [178, 201, 168, 85, 148], 'gen': 16, 'ticks': 83.5}, {'doors': [178, 201, 178, 85, 148], 'gen': 16, 'ticks': 82.0}, {'doors': [178, 201, 114, 85, 22], 'gen': 14, 'ticks': 84.5}, {'doors': [331, 201, 168, 178, 201], 'gen': 17, 'ticks': 121.0}, {'doors': [178, 201, 114, 85, 22], 'gen': 14, 'ticks': 84.5}, {'doors': [168, 85, 148, 178, 148], 'gen': 17, 'ticks': 96.0}, {'doors': [168, 85, 148, 178, 201], 'gen': 15, 'ticks': 77.5}, {'doors': [178, 201, 148, 331, 201], 'gen': 17, 'ticks': 174.5}, {'doors': [85, 148, 178, 201, 168], 'gen': 17, 'ticks': 79.5}, {'doors': [118, 148, 168, 85, 148], 'gen': 17, 'ticks': 119.5}, {'doors': [168, 85, 148, 178, 201], 'gen': 15, 'ticks': 77.5}, {'doors': [85, 148, 178, 201, 148], 'gen': 16, 'ticks': 85.0}, {'doors': [331, 201, 168, 118, 148], 'gen': 12, 'ticks': 115.5}, {'doors': [168, 85, 148, 178, 201], 'gen': 15, 'ticks': 77.5}, {'doors': [201, 178, 201, 168, 85], 'gen': 17, 'ticks': 127.0}, {'doors': [178, 201, 178, 85, 148], 'gen': 16, 'ticks': 82.0}, {'doors': [178, 85, 148, 168, 85], 'gen': 17, 'ticks': 111.0}]\n",
      "[{'doors': [168, 85, 148, 178, 201], 'gen': 15, 'ticks': 77.5}, {'doors': [178, 201, 114, 85, 22], 'gen': 14, 'ticks': 84.5}, {'doors': [178, 201, 168, 178, 201], 'gen': 18, 'ticks': 124.5}, {'doors': [85, 148, 178, 201, 148], 'gen': 18, 'ticks': 92.5}, {'doors': [168, 85, 148, 178, 201], 'gen': 15, 'ticks': 77.5}, {'doors': [168, 85, 148, 178, 201], 'gen': 18, 'ticks': 74.5}, {'doors': [85, 85, 148, 178, 201], 'gen': 18, 'ticks': 79.5}, {'doors': [168, 85, 148, 178, 201], 'gen': 15, 'ticks': 77.5}, {'doors': [168, 85, 148, 178, 201], 'gen': 15, 'ticks': 77.5}, {'doors': [168, 85, 148, 178, 201], 'gen': 15, 'ticks': 77.5}, {'doors': [178, 201, 114, 85, 22], 'gen': 14, 'ticks': 84.5}, {'doors': [300, 85, 148, 178, 201], 'gen': 18, 'ticks': 85.0}, {'doors': [85, 148, 168, 85, 148], 'gen': 18, 'ticks': 153.0}, {'doors': [178, 201, 114, 85, 22], 'gen': 14, 'ticks': 84.5}, {'doors': [168, 178, 201, 178, 85], 'gen': 18, 'ticks': 99.0}, {'doors': [178, 201, 168, 85, 148], 'gen': 18, 'ticks': 76.0}, {'doors': [148, 178, 201, 168, 168], 'gen': 18, 'ticks': 96.0}, {'doors': [178, 201, 114, 85, 22], 'gen': 14, 'ticks': 84.5}, {'doors': [178, 201, 114, 85, 22], 'gen': 14, 'ticks': 84.5}, {'doors': [201, 168, 85, 148, 168], 'gen': 18, 'ticks': 114.5}]\n",
      "[{'doors': [178, 201, 114, 85, 22], 'gen': 14, 'ticks': 84.5}, {'doors': [168, 85, 148, 178, 201], 'gen': 15, 'ticks': 77.5}, {'doors': [178, 201, 114, 85, 22], 'gen': 14, 'ticks': 84.5}, {'doors': [178, 201, 101, 85, 148], 'gen': 19, 'ticks': 86.5}, {'doors': [178, 201, 114, 85, 22], 'gen': 14, 'ticks': 84.5}, {'doors': [178, 201, 168, 85, 148], 'gen': 19, 'ticks': 78.5}, {'doors': [178, 201, 114, 85, 22], 'gen': 14, 'ticks': 84.5}, {'doors': [168, 85, 148, 178, 201], 'gen': 15, 'ticks': 77.5}, {'doors': [178, 201, 114, 85, 22], 'gen': 14, 'ticks': 84.5}, {'doors': [178, 201, 12, 85, 148], 'gen': 19, 'ticks': 87.5}, {'doors': [178, 201, 114, 178, 201], 'gen': 19, 'ticks': 106.5}, {'doors': [178, 201, 168, 85, 148], 'gen': 18, 'ticks': 76.0}, {'doors': [178, 201, 114, 85, 22], 'gen': 14, 'ticks': 84.5}, {'doors': [148, 178, 201, 168, 85], 'gen': 19, 'ticks': 81.5}, {'doors': [178, 201, 168, 85, 148], 'gen': 18, 'ticks': 76.0}, {'doors': [114, 85, 148, 178, 201], 'gen': 19, 'ticks': 75.0}, {'doors': [178, 201, 114, 85, 22], 'gen': 14, 'ticks': 84.5}, {'doors': [85, 148, 178, 201, 114], 'gen': 19, 'ticks': 74.5}, {'doors': [178, 201, 114, 85, 22], 'gen': 14, 'ticks': 84.5}, {'doors': [85, 148, 168, 85, 148], 'gen': 19, 'ticks': 145.0}]\n",
      "[{'doors': [168, 85, 168, 85, 148], 'gen': 20, 'ticks': 144.5}, {'doors': [148, 178, 201, 168, 85], 'gen': 19, 'ticks': 81.5}, {'doors': [114, 85, 148, 178, 201], 'gen': 19, 'ticks': 75.0}, {'doors': [178, 201, 101, 85, 148], 'gen': 19, 'ticks': 86.5}, {'doors': [178, 201, 101, 85, 148], 'gen': 19, 'ticks': 86.5}, {'doors': [178, 201, 101, 85, 148], 'gen': 19, 'ticks': 86.5}, {'doors': [178, 201, 114, 85, 22], 'gen': 20, 'ticks': 92.5}, {'doors': [168, 85, 148, 178, 22], 'gen': 20, 'ticks': 104.0}, {'doors': [150, 201, 114, 85, 148], 'gen': 20, 'ticks': 101.5}, {'doors': [178, 85, 148, 178, 201], 'gen': 20, 'ticks': 89.5}, {'doors': [148, 178, 201, 168, 148], 'gen': 20, 'ticks': 102.5}, {'doors': [148, 178, 201, 178, 201], 'gen': 20, 'ticks': 161.0}, {'doors': [22, 178, 201, 114, 85], 'gen': 20, 'ticks': 92.0}, {'doors': [201, 178, 201, 114, 85], 'gen': 20, 'ticks': 117.5}, {'doors': [201, 144, 80, 148, 178], 'gen': 20, 'ticks': 81.5}, {'doors': [178, 201, 12, 85, 148], 'gen': 19, 'ticks': 87.5}, {'doors': [201, 162, 85, 148, 168], 'gen': 20, 'ticks': 117.0}, {'doors': [85, 178, 201, 114, 85], 'gen': 20, 'ticks': 109.5}, {'doors': [168, 85, 148, 178, 201], 'gen': 15, 'ticks': 77.5}, {'doors': [178, 201, 168, 85, 148], 'gen': 18, 'ticks': 76.0}]\n",
      "[{'doors': [178, 85, 148, 178, 201], 'gen': 21, 'ticks': 94.5}, {'doors': [178, 201, 114, 85, 148], 'gen': 21, 'ticks': 76.5}, {'doors': [114, 85, 148, 178, 201], 'gen': 19, 'ticks': 75.0}, {'doors': [178, 201, 101, 85, 148], 'gen': 19, 'ticks': 86.5}, {'doors': [178, 201, 231, 178, 201], 'gen': 21, 'ticks': 115.5}, {'doors': [150, 201, 114, 85, 148], 'gen': 20, 'ticks': 101.5}, {'doors': [22, 201, 114, 85, 148], 'gen': 21, 'ticks': 95.5}, {'doors': [168, 85, 148, 178, 201], 'gen': 15, 'ticks': 77.5}, {'doors': [178, 85, 148, 178, 201], 'gen': 21, 'ticks': 91.5}, {'doors': [236, 85, 148, 178, 201], 'gen': 21, 'ticks': 86.0}, {'doors': [150, 201, 114, 85, 148], 'gen': 20, 'ticks': 101.5}, {'doors': [201, 101, 85, 148, 168], 'gen': 21, 'ticks': 99.5}, {'doors': [114, 85, 148, 178, 201], 'gen': 21, 'ticks': 83.5}, {'doors': [101, 85, 148, 114, 85], 'gen': 21, 'ticks': 107.5}, {'doors': [178, 201, 114, 85, 22], 'gen': 20, 'ticks': 92.5}, {'doors': [178, 201, 114, 85, 178], 'gen': 21, 'ticks': 116.0}, {'doors': [201, 114, 85, 350, 168], 'gen': 21, 'ticks': 150.5}, {'doors': [85, 148, 178, 201, 178], 'gen': 21, 'ticks': 81.0}, {'doors': [201, 144, 80, 148, 178], 'gen': 20, 'ticks': 81.5}, {'doors': [148, 178, 201, 168, 85], 'gen': 19, 'ticks': 81.5}]\n",
      "[{'doors': [178, 85, 148, 178, 201], 'gen': 21, 'ticks': 91.5}, {'doors': [201, 144, 85, 148, 201], 'gen': 22, 'ticks': 102.5}, {'doors': [236, 85, 148, 178, 201], 'gen': 21, 'ticks': 86.0}, {'doors': [19, 144, 85, 85, 148], 'gen': 22, 'ticks': 95.5}, {'doors': [178, 201, 85, 148, 178], 'gen': 22, 'ticks': 82.0}, {'doors': [178, 85, 148, 178, 201], 'gen': 21, 'ticks': 94.5}, {'doors': [150, 201, 114, 85, 148], 'gen': 20, 'ticks': 101.5}, {'doors': [85, 148, 178, 201, 178], 'gen': 21, 'ticks': 81.0}, {'doors': [148, 178, 201, 168, 85], 'gen': 19, 'ticks': 81.5}, {'doors': [178, 201, 114, 85, 281], 'gen': 22, 'ticks': 112.5}, {'doors': [150, 201, 114, 85, 148], 'gen': 20, 'ticks': 101.5}, {'doors': [150, 201, 114, 85, 148], 'gen': 20, 'ticks': 101.5}, {'doors': [178, 114, 85, 148, 178], 'gen': 22, 'ticks': 101.0}, {'doors': [148, 178, 178, 201, 114], 'gen': 22, 'ticks': 80.5}, {'doors': [114, 85, 148, 201, 144], 'gen': 22, 'ticks': 107.5}, {'doors': [150, 201, 114, 85, 148], 'gen': 20, 'ticks': 101.5}, {'doors': [150, 201, 114, 85, 148], 'gen': 20, 'ticks': 101.5}, {'doors': [168, 85, 148, 178, 201], 'gen': 15, 'ticks': 77.5}, {'doors': [201, 144, 80, 148, 178], 'gen': 20, 'ticks': 81.5}, {'doors': [148, 85, 148, 178, 201], 'gen': 22, 'ticks': 81.5}]\n",
      "[{'doors': [178, 201, 114, 178, 201], 'gen': 23, 'ticks': 112.5}, {'doors': [150, 201, 114, 85, 148], 'gen': 20, 'ticks': 101.5}, {'doors': [178, 201, 114, 85, 178], 'gen': 23, 'ticks': 116.0}, {'doors': [201, 144, 85, 148, 178], 'gen': 23, 'ticks': 69.5}, {'doors': [150, 201, 114, 85, 148], 'gen': 20, 'ticks': 101.5}, {'doors': [148, 85, 148, 178, 148], 'gen': 23, 'ticks': 103.0}, {'doors': [150, 201, 114, 85, 148], 'gen': 20, 'ticks': 101.5}, {'doors': [150, 201, 114, 85, 148], 'gen': 20, 'ticks': 101.5}, {'doors': [85, 148, 168, 85, 148], 'gen': 23, 'ticks': 153.0}, {'doors': [236, 85, 148, 178, 201], 'gen': 21, 'ticks': 86.0}, {'doors': [150, 201, 114, 85, 148], 'gen': 20, 'ticks': 101.5}, {'doors': [148, 85, 148, 178, 201], 'gen': 23, 'ticks': 89.5}, {'doors': [150, 201, 114, 85, 148], 'gen': 20, 'ticks': 101.5}, {'doors': [178, 201, 144, 85, 148], 'gen': 23, 'ticks': 75.0}, {'doors': [150, 201, 114, 85, 148], 'gen': 20, 'ticks': 101.5}, {'doors': [201, 178, 201, 114, 85], 'gen': 23, 'ticks': 103.5}, {'doors': [201, 144, 80, 148, 178], 'gen': 20, 'ticks': 81.5}, {'doors': [201, 144, 80, 148, 178], 'gen': 20, 'ticks': 81.5}, {'doors': [150, 201, 114, 85, 148], 'gen': 20, 'ticks': 101.5}, {'doors': [201, 144, 80, 148, 178], 'gen': 20, 'ticks': 81.5}]\n",
      "[{'doors': [201, 144, 80, 148, 178], 'gen': 20, 'ticks': 81.5}, {'doors': [148, 85, 148, 178, 201], 'gen': 23, 'ticks': 89.5}, {'doors': [201, 144, 85, 148, 178], 'gen': 24, 'ticks': 75.0}, {'doors': [236, 85, 148, 178, 201], 'gen': 21, 'ticks': 86.0}, {'doors': [201, 144, 80, 148, 178], 'gen': 20, 'ticks': 81.5}, {'doors': [201, 144, 85, 148, 178], 'gen': 24, 'ticks': 68.5}, {'doors': [178, 201, 144, 85, 148], 'gen': 23, 'ticks': 75.0}, {'doors': [150, 201, 114, 178, 201], 'gen': 24, 'ticks': 78.0}, {'doors': [236, 85, 148, 178, 201], 'gen': 21, 'ticks': 86.0}, {'doors': [201, 144, 85, 148, 178], 'gen': 24, 'ticks': 75.5}, {'doors': [178, 201, 144, 85, 148], 'gen': 24, 'ticks': 67.0}, {'doors': [201, 144, 85, 148, 178], 'gen': 23, 'ticks': 69.5}, {'doors': [178, 201, 144, 85, 148], 'gen': 24, 'ticks': 75.5}, {'doors': [85, 148, 178, 85, 148], 'gen': 24, 'ticks': 99.5}, {'doors': [178, 201, 144, 85, 148], 'gen': 23, 'ticks': 75.0}, {'doors': [148, 85, 148, 178, 201], 'gen': 23, 'ticks': 89.5}, {'doors': [178, 201, 144, 85, 148], 'gen': 24, 'ticks': 69.5}, {'doors': [201, 144, 85, 148, 178], 'gen': 23, 'ticks': 69.5}, {'doors': [201, 144, 80, 148, 178], 'gen': 20, 'ticks': 81.5}, {'doors': [201, 144, 80, 148, 178], 'gen': 20, 'ticks': 81.5}]\n",
      "[{'doors': [201, 144, 85, 148, 178], 'gen': 23, 'ticks': 69.5}, {'doors': [201, 144, 85, 148, 178], 'gen': 24, 'ticks': 68.5}, {'doors': [178, 201, 144, 85, 148], 'gen': 23, 'ticks': 75.0}, {'doors': [201, 144, 85, 148, 148], 'gen': 25, 'ticks': 97.0}, {'doors': [201, 144, 80, 148, 178], 'gen': 20, 'ticks': 81.5}, {'doors': [178, 201, 144, 148, 178], 'gen': 25, 'ticks': 82.5}, {'doors': [201, 144, 80, 148, 178], 'gen': 20, 'ticks': 81.5}, {'doors': [201, 144, 85, 148, 178], 'gen': 25, 'ticks': 75.0}, {'doors': [178, 201, 144, 85, 148], 'gen': 24, 'ticks': 69.5}, {'doors': [201, 144, 85, 148, 178], 'gen': 24, 'ticks': 75.0}, {'doors': [201, 144, 85, 148, 320], 'gen': 25, 'ticks': 108.0}, {'doors': [178, 178, 201, 144, 85], 'gen': 25, 'ticks': 102.0}, {'doors': [85, 148, 201, 144, 85], 'gen': 25, 'ticks': 110.0}, {'doors': [201, 144, 80, 148, 178], 'gen': 20, 'ticks': 81.5}, {'doors': [201, 144, 80, 148, 178], 'gen': 20, 'ticks': 81.5}, {'doors': [201, 144, 80, 148, 178], 'gen': 20, 'ticks': 81.5}, {'doors': [178, 201, 144, 85, 148], 'gen': 24, 'ticks': 75.5}, {'doors': [148, 178, 201, 144, 85], 'gen': 25, 'ticks': 73.0}, {'doors': [201, 144, 85, 148, 178], 'gen': 24, 'ticks': 68.5}, {'doors': [85, 148, 178, 201, 144], 'gen': 25, 'ticks': 77.0}]\n",
      "[{'doors': [201, 207, 85, 148, 178], 'gen': 26, 'ticks': 75.0}, {'doors': [201, 144, 80, 148, 178], 'gen': 20, 'ticks': 81.5}, {'doors': [201, 144, 85, 148, 178], 'gen': 26, 'ticks': 73.5}, {'doors': [178, 144, 85, 148, 178], 'gen': 26, 'ticks': 99.5}, {'doors': [201, 144, 85, 148, 178], 'gen': 24, 'ticks': 68.5}, {'doors': [201, 144, 85, 148, 178], 'gen': 26, 'ticks': 74.5}, {'doors': [201, 144, 80, 148, 178], 'gen': 20, 'ticks': 81.5}, {'doors': [201, 144, 85, 148, 178], 'gen': 26, 'ticks': 63.5}, {'doors': [85, 148, 178, 201, 144], 'gen': 26, 'ticks': 72.5}, {'doors': [178, 345, 144, 85, 148], 'gen': 26, 'ticks': 77.5}, {'doors': [201, 144, 80, 148, 178], 'gen': 20, 'ticks': 81.5}, {'doors': [201, 144, 85, 148, 283], 'gen': 26, 'ticks': 92.5}, {'doors': [201, 144, 85, 148, 178], 'gen': 25, 'ticks': 75.0}, {'doors': [178, 201, 144, 85, 148], 'gen': 24, 'ticks': 69.5}, {'doors': [85, 148, 178, 201, 144], 'gen': 26, 'ticks': 68.0}, {'doors': [201, 144, 85, 148, 320], 'gen': 25, 'ticks': 108.0}, {'doors': [201, 144, 80, 148, 178], 'gen': 20, 'ticks': 81.5}, {'doors': [201, 144, 80, 148, 178], 'gen': 20, 'ticks': 81.5}, {'doors': [201, 144, 80, 148, 178], 'gen': 20, 'ticks': 81.5}, {'doors': [144, 85, 148, 178, 201], 'gen': 26, 'ticks': 66.0}]\n",
      "[{'doors': [178, 148, 178, 201, 144], 'gen': 27, 'ticks': 89.0}, {'doors': [201, 144, 85, 148, 178], 'gen': 26, 'ticks': 63.5}, {'doors': [85, 144, 85, 148, 178], 'gen': 27, 'ticks': 105.0}, {'doors': [201, 144, 85, 148, 320], 'gen': 25, 'ticks': 108.0}, {'doors': [85, 148, 178, 201, 178], 'gen': 27, 'ticks': 80.0}, {'doors': [201, 144, 85, 148, 178], 'gen': 24, 'ticks': 68.5}, {'doors': [144, 144, 85, 148, 178], 'gen': 27, 'ticks': 103.0}, {'doors': [201, 144, 85, 148, 178], 'gen': 26, 'ticks': 74.5}, {'doors': [85, 201, 144, 85, 148], 'gen': 27, 'ticks': 117.5}, {'doors': [201, 144, 144, 345, 148], 'gen': 27, 'ticks': 107.5}, {'doors': [201, 144, 85, 148, 85], 'gen': 27, 'ticks': 111.0}, {'doors': [178, 345, 144, 85, 148], 'gen': 26, 'ticks': 77.5}, {'doors': [148, 178, 201, 144, 201], 'gen': 27, 'ticks': 90.0}, {'doors': [144, 85, 148, 178, 201], 'gen': 26, 'ticks': 66.0}, {'doors': [144, 201, 144, 85, 148], 'gen': 27, 'ticks': 99.0}, {'doors': [85, 148, 178, 201, 201], 'gen': 27, 'ticks': 82.5}, {'doors': [85, 148, 178, 201, 144], 'gen': 26, 'ticks': 68.0}, {'doors': [201, 144, 85, 148, 320], 'gen': 25, 'ticks': 108.0}, {'doors': [148, 178, 201, 113, 178], 'gen': 27, 'ticks': 146.0}, {'doors': [85, 148, 178, 178, 201], 'gen': 27, 'ticks': 89.0}]\n",
      "[{'doors': [148, 178, 201, 148, 178], 'gen': 28, 'ticks': 157.0}, {'doors': [85, 148, 178, 201, 201], 'gen': 28, 'ticks': 82.0}, {'doors': [144, 148, 178, 201, 144], 'gen': 28, 'ticks': 81.0}, {'doors': [85, 148, 178, 178, 201], 'gen': 27, 'ticks': 89.0}, {'doors': [85, 148, 178, 201, 178], 'gen': 27, 'ticks': 80.0}, {'doors': [85, 148, 178, 201, 178], 'gen': 27, 'ticks': 80.0}, {'doors': [144, 85, 178, 201, 178], 'gen': 28, 'ticks': 93.0}, {'doors': [201, 144, 85, 148, 178], 'gen': 28, 'ticks': 76.0}, {'doors': [144, 85, 148, 178, 201], 'gen': 28, 'ticks': 78.5}, {'doors': [144, 178, 9, 144, 85], 'gen': 28, 'ticks': 101.5}, {'doors': [85, 148, 178, 201, 144], 'gen': 26, 'ticks': 68.0}, {'doors': [201, 144, 85, 148, 178], 'gen': 28, 'ticks': 73.0}, {'doors': [144, 85, 328, 178, 85], 'gen': 28, 'ticks': 128.0}, {'doors': [148, 178, 201, 113, 178], 'gen': 27, 'ticks': 146.0}, {'doors': [148, 178, 201, 113, 178], 'gen': 27, 'ticks': 146.0}, {'doors': [85, 148, 178, 201, 144], 'gen': 26, 'ticks': 68.0}, {'doors': [148, 178, 201, 85, 148], 'gen': 28, 'ticks': 84.0}, {'doors': [85, 148, 178, 201, 144], 'gen': 28, 'ticks': 72.0}, {'doors': [201, 144, 85, 148, 178], 'gen': 28, 'ticks': 70.0}, {'doors': [178, 345, 144, 85, 148], 'gen': 26, 'ticks': 77.5}]\n",
      "[{'doors': [85, 148, 178, 201, 144], 'gen': 28, 'ticks': 72.0}, {'doors': [85, 148, 178, 201, 144], 'gen': 26, 'ticks': 68.0}, {'doors': [144, 148, 178, 201, 144], 'gen': 29, 'ticks': 80.5}, {'doors': [201, 144, 178, 201, 178], 'gen': 29, 'ticks': 107.0}, {'doors': [144, 85, 148, 178, 144], 'gen': 29, 'ticks': 96.0}, {'doors': [201, 148, 178, 201, 144], 'gen': 29, 'ticks': 89.0}, {'doors': [144, 178, 9, 144, 85], 'gen': 28, 'ticks': 101.5}, {'doors': [178, 345, 144, 201, 144], 'gen': 29, 'ticks': 117.0}, {'doors': [201, 144, 85, 148, 178], 'gen': 28, 'ticks': 76.0}, {'doors': [144, 85, 178, 201, 178], 'gen': 28, 'ticks': 93.0}, {'doors': [85, 148, 178, 201, 144], 'gen': 28, 'ticks': 72.0}, {'doors': [201, 144, 85, 148, 178], 'gen': 28, 'ticks': 70.0}, {'doors': [201, 144, 85, 148, 178], 'gen': 29, 'ticks': 74.0}, {'doors': [85, 148, 178, 201, 144], 'gen': 26, 'ticks': 68.0}, {'doors': [85, 148, 178, 258, 148], 'gen': 29, 'ticks': 89.5}, {'doors': [201, 144, 85, 148, 178], 'gen': 28, 'ticks': 70.0}, {'doors': [201, 85, 148, 178, 201], 'gen': 29, 'ticks': 87.0}, {'doors': [201, 144, 85, 148, 178], 'gen': 28, 'ticks': 76.0}, {'doors': [144, 85, 148, 178, 85], 'gen': 29, 'ticks': 99.0}, {'doors': [85, 148, 85, 66, 178], 'gen': 29, 'ticks': 108.5}]\n",
      "[{'doors': [85, 148, 178, 201, 144], 'gen': 26, 'ticks': 68.0}, {'doors': [85, 148, 178, 201, 144], 'gen': 26, 'ticks': 68.0}, {'doors': [289, 148, 178, 201, 144], 'gen': 30, 'ticks': 85.0}, {'doors': [85, 148, 178, 201, 144], 'gen': 26, 'ticks': 68.0}, {'doors': [201, 144, 85, 148, 178], 'gen': 28, 'ticks': 70.0}, {'doors': [201, 144, 178, 201, 144], 'gen': 30, 'ticks': 116.0}, {'doors': [201, 148, 178, 201, 144], 'gen': 30, 'ticks': 83.5}, {'doors': [201, 144, 85, 148, 178], 'gen': 28, 'ticks': 70.0}, {'doors': [144, 85, 148, 178, 85], 'gen': 29, 'ticks': 99.0}, {'doors': [201, 85, 174, 178, 201], 'gen': 30, 'ticks': 106.5}, {'doors': [85, 144, 85, 148, 178], 'gen': 30, 'ticks': 103.5}, {'doors': [178, 201, 144, 85, 148], 'gen': 30, 'ticks': 71.0}, {'doors': [85, 148, 178, 85, 148], 'gen': 30, 'ticks': 105.5}, {'doors': [144, 85, 148, 178, 85], 'gen': 30, 'ticks': 104.5}, {'doors': [201, 85, 148, 178, 201], 'gen': 29, 'ticks': 87.0}, {'doors': [201, 144, 85, 148, 178], 'gen': 28, 'ticks': 70.0}, {'doors': [85, 148, 178, 201, 144], 'gen': 28, 'ticks': 72.0}, {'doors': [144, 85, 148, 178, 235], 'gen': 30, 'ticks': 106.5}, {'doors': [148, 178, 201, 144, 201], 'gen': 30, 'ticks': 88.5}, {'doors': [201, 144, 85, 148, 178], 'gen': 28, 'ticks': 70.0}]\n"
     ]
    }
   ],
   "source": [
    "for x  in population:\n",
    "    print(x)"
   ]
  },
  {
   "cell_type": "code",
   "execution_count": 84,
   "metadata": {},
   "outputs": [
    {
     "data": {
      "text/plain": [
       "[{'doors': [201, 207, 85, 148, 178], 'gen': 26, 'ticks': 75.0},\n",
       " {'doors': [201, 144, 80, 148, 178], 'gen': 20, 'ticks': 81.5},\n",
       " {'doors': [201, 144, 85, 148, 178], 'gen': 26, 'ticks': 73.5},\n",
       " {'doors': [178, 144, 85, 148, 178], 'gen': 26, 'ticks': 99.5},\n",
       " {'doors': [201, 144, 85, 148, 178], 'gen': 24, 'ticks': 68.5},\n",
       " {'doors': [201, 144, 85, 148, 178], 'gen': 26, 'ticks': 74.5},\n",
       " {'doors': [201, 144, 80, 148, 178], 'gen': 20, 'ticks': 81.5},\n",
       " {'doors': [201, 144, 85, 148, 178], 'gen': 26, 'ticks': 63.5},\n",
       " {'doors': [85, 148, 178, 201, 144], 'gen': 26, 'ticks': 72.5},\n",
       " {'doors': [178, 345, 144, 85, 148], 'gen': 26, 'ticks': 77.5},\n",
       " {'doors': [201, 144, 80, 148, 178], 'gen': 20, 'ticks': 81.5},\n",
       " {'doors': [201, 144, 85, 148, 283], 'gen': 26, 'ticks': 92.5},\n",
       " {'doors': [201, 144, 85, 148, 178], 'gen': 25, 'ticks': 75.0},\n",
       " {'doors': [178, 201, 144, 85, 148], 'gen': 24, 'ticks': 69.5},\n",
       " {'doors': [85, 148, 178, 201, 144], 'gen': 26, 'ticks': 68.0},\n",
       " {'doors': [201, 144, 85, 148, 320], 'gen': 25, 'ticks': 108.0},\n",
       " {'doors': [201, 144, 80, 148, 178], 'gen': 20, 'ticks': 81.5},\n",
       " {'doors': [201, 144, 80, 148, 178], 'gen': 20, 'ticks': 81.5},\n",
       " {'doors': [201, 144, 80, 148, 178], 'gen': 20, 'ticks': 81.5},\n",
       " {'doors': [144, 85, 148, 178, 201], 'gen': 26, 'ticks': 66.0}]"
      ]
     },
     "execution_count": 84,
     "metadata": {},
     "output_type": "execute_result"
    }
   ],
   "source": [
    "population[26]"
   ]
  },
  {
   "cell_type": "code",
   "execution_count": null,
   "metadata": {},
   "outputs": [],
   "source": []
  },
  {
   "cell_type": "code",
   "execution_count": 19,
   "metadata": {},
   "outputs": [],
   "source": [
    "kill_netlogo()"
   ]
  },
  {
   "cell_type": "code",
   "execution_count": 75,
   "metadata": {},
   "outputs": [
    {
     "data": {
      "text/plain": [
       "128.8"
      ]
     },
     "execution_count": 75,
     "metadata": {},
     "output_type": "execute_result"
    }
   ],
   "source": []
  }
 ],
 "metadata": {
  "kernelspec": {
   "display_name": "Python 3",
   "language": "python",
   "name": "python3"
  },
  "language_info": {
   "codemirror_mode": {
    "name": "ipython",
    "version": 3
   },
   "file_extension": ".py",
   "mimetype": "text/x-python",
   "name": "python",
   "nbconvert_exporter": "python",
   "pygments_lexer": "ipython3",
   "version": "3.6.6"
  }
 },
 "nbformat": 4,
 "nbformat_minor": 2
}
