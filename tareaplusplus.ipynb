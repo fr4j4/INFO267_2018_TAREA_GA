{
 "cells": [
  {
   "cell_type": "markdown",
   "metadata": {},
   "source": [
    "<h1>Algoritmo Genético - Trabajo IA 2018</h1>\n",
    "Integrantes\n",
    "\n",
    "- Sebastian Gaete\n",
    "- Elard Koch\n",
    "- Israel Díaz\n",
    "- Francisco González\n",
    "\n",
    "**notas**<br>\n",
    "representación de individuo:\n",
    "diccionario de python, el cual posee las siguientes claves,valores:\n",
    "\n",
    "- **doors**: lista de puertas asociadas\n",
    "- **ticks**: cantidad de ticks promedio del individuo\n",
    "- **gen**: generación del individuo\n",
    "\n",
    "una población de  individuos corresponderá a una lista de diccionarios"
   ]
  },
  {
   "cell_type": "code",
   "execution_count": 1,
   "metadata": {},
   "outputs": [],
   "source": [
    "netlogo = None"
   ]
  },
  {
   "cell_type": "code",
   "execution_count": 2,
   "metadata": {},
   "outputs": [],
   "source": [
    "import platform\n",
    "import pyNetLogo\n",
    "import random\n",
    "import numpy as np\n",
    "\n",
    "netlogo_gui=False #ejecutar netlogo con interfaz grafica (True = si, False = no)\n",
    "current_gen = 0 #contador de la generación actual\n",
    "max_gen=50 #total de generaciones\n",
    "n_doors = 5 #numero de puertas a ubicar\n",
    "pop_size=20 #tamaño poblacion\n",
    "n_iterations=5 #cantidad de iteraciones por individuo\n",
    "n_tournament=3 #cantidad de individuos por torneo\n",
    "p_mut=0.3 #probabilidad de mutacion\n",
    "\n",
    "plan_file=\"office.plan\"\n",
    "\n",
    "population = []\n",
    "good_doors=[] #lista de coordenadas que pueden albergar una puerta "
   ]
  },
  {
   "cell_type": "markdown",
   "metadata": {},
   "source": [
    "- Para iniciar netlogo: **launch_netlogo()**\n",
    "- Para iniciar netlogo: **kill_netlogo()**"
   ]
  },
  {
   "cell_type": "code",
   "execution_count": 3,
   "metadata": {},
   "outputs": [],
   "source": [
    "\n",
    "def launch_netlogo():\n",
    "    global netlogo\n",
    "    print(\"Trying to start netlogo, please wait...\")\n",
    "    try:\n",
    "        sistema=platform.system()\n",
    "        if(sistema=='Windows'):\n",
    "            netlogo = pyNetLogo.NetLogoLink(gui=netlogo_gui)\n",
    "        elif(sistema=='Linux'):\n",
    "            netlogo = pyNetLogo.NetLogoLink(gui=netlogo_gui,netlogo_home='NetLogo 6.0.4/')\n",
    "        else:\n",
    "            netlogo = pyNetLogo.NetLogoLink(gui=netlogo_gui)\n",
    "        print(\"Done!\")\n",
    "    except Exception as e:\n",
    "        print(\"Ocurrio un problema al levantar netlogo!\")\n",
    "        print(e)\n",
    "\n",
    "def kill_netlogo():\n",
    "    global netlogo\n",
    "    if netlogo!=None:\n",
    "        try:\n",
    "            netlogo.kill_workspace()\n",
    "            netlogo = None\n",
    "        except Exception as e:\n",
    "            print(\"An exception has ocurred while attempíng to kill NetLogo!\")\n",
    "            print(e)\n",
    "    else:\n",
    "        print(\"Please start netlogo first before kill it\")"
   ]
  },
  {
   "cell_type": "code",
   "execution_count": 4,
   "metadata": {},
   "outputs": [
    {
     "name": "stdout",
     "output_type": "stream",
     "text": [
      "Trying to start netlogo, please wait...\n",
      "Done!\n"
     ]
    }
   ],
   "source": [
    "#iniciar netlogo\n",
    "launch_netlogo()"
   ]
  },
  {
   "cell_type": "code",
   "execution_count": 5,
   "metadata": {},
   "outputs": [],
   "source": [
    "netlogo.load_model(r'escape4_v6.nlogo')\n",
    "netlogo.command('set plan-data \"{0}\"'.format(plan_file))\n",
    "netlogo.command(\"load-plan-file\")"
   ]
  },
  {
   "cell_type": "code",
   "execution_count": 6,
   "metadata": {},
   "outputs": [],
   "source": [
    "#detener netlogo\n",
    "#kill_netlogo()"
   ]
  },
  {
   "cell_type": "markdown",
   "metadata": {},
   "source": [
    "<h1>Funciones para algoritmo genético</h1>"
   ]
  },
  {
   "cell_type": "code",
   "execution_count": 23,
   "metadata": {},
   "outputs": [],
   "source": [
    "\n",
    "#simulate recibe la lista ordenada de coordenadas de puertas, realiza la simulación correspondiente y retorna los ticks que ha demorado\n",
    "#La distribución de puertas debe estar previamente validada, en caso de que las puertas no sean accesibles, la simulación podría quedar atascada en un while infinito\n",
    "def simulate(doors):\n",
    "    str_command = \"set door-data {0}\".format(str(doors).replace(',','').replace(\"[\",\"[ \").replace(\"]\",\" ]\")).replace(\"(\",\"[\").replace(\")\",\"]\")\n",
    "    netlogo.command(str_command)\n",
    "    netlogo.command(\"show-plan\")\n",
    "    netlogo.command(\"generate-population\")\n",
    "    while(netlogo.report(\"count turtles\")>0):\n",
    "        netlogo.command(\"go\")\n",
    "    return(netlogo.report(\"ticks\"))\n",
    "\n",
    "def simulate_ind(individual):\n",
    "    doors = list(map(lambda i:[good_doors[i][0],good_doors[i][1]],individual['doors']))\n",
    "    return simulate(doors)\n",
    "    \n",
    "def get_good_doors(): #Obtener las coordenadas x e y de todas las puertas(posibles) que nos sirven\n",
    "    x=list(map(lambda i:int(i),netlogo.report(\"listax\")))\n",
    "    y=list(map(lambda i:int(i),netlogo.report(\"listay\")))\n",
    "    return list(map(lambda i:(x[i],y[i]),range(len(x))))\n",
    "\n",
    "def gen_zero(): #crea la generacion 0\n",
    "    tmp_population=[]\n",
    "    for i in range(pop_size):\n",
    "        individual = {\n",
    "            'doors':[],\n",
    "            'gen':0,\n",
    "            'ticks':0\n",
    "        }\n",
    "        tmp_population.append(individual)\n",
    "        for j in range(n_doors):\n",
    "            random_door_index = random.randint(0,len(good_doors) - 1)\n",
    "            individual['doors'].append(random_door_index)\n",
    "    return tmp_population\n",
    "        \n",
    "\n",
    "def evaluate_population(pop):\n",
    "    for individual in pop:\n",
    "        simulations_ticks=[]\n",
    "        for i in range(n_iterations):\n",
    "            ticks = simulate_ind(individual)\n",
    "            simulations_ticks.append(ticks)\n",
    "        individual['ticks'] = np.mean(simulations_ticks)\n",
    "        \n",
    "def do_tournament(pop,n_players):\n",
    "    result = []\n",
    "    tmp_pop = pop.copy()\n",
    "    if(n_players > len(pop)):\n",
    "        n_players=len(pop)\n",
    "    while len(tmp_pop) >= n_players:\n",
    "#        print(\"#\")\n",
    "#        print(\"len: {0}\".format(len(tmp_pop)))\n",
    "#        for i in tmp_pop:\n",
    "#            print(i)\n",
    "         \n",
    "        players_selection = []\n",
    "        while(len(players_selection)<n_players):\n",
    "            selection = np.random.choice(tmp_pop)\n",
    "            if(selection not in players_selection):\n",
    "                players_selection.append(selection)\n",
    "        #players_selection = list(map( lambda i: np.random.choice(tmp_pop) , range(n_players) ))\n",
    "        \n",
    "        players_doors=list(map(lambda p:p['doors'],players_selection))\n",
    "        \n",
    "        winner = players_selection[np.argmin([ i['ticks'] for i in players_selection])]\n",
    "        tmp_pop=list(filter(lambda p:p['doors'] not in players_doors,tmp_pop))\n",
    "#        print(\"players_selection\")\n",
    "        \n",
    "#        for i in players_selection:\n",
    "#            print(i)\n",
    "        \n",
    "#        print(\"winner\")\n",
    "#        print(winner)\n",
    "        result.append(winner)\n",
    "        \n",
    "    if(len(tmp_pop)>0):\n",
    "#        print(\"len: {0}\".format(len(tmp_pop)))\n",
    "#        print(\"#last\")\n",
    "        \n",
    "#        for i in tmp_pop:\n",
    "#            print(i)\n",
    "        \n",
    "        winner = tmp_pop[np.argmin([ i['ticks'] for i in tmp_pop])]\n",
    "        result.append(winner)\n",
    "#        print(\"players_selection\")\n",
    "#        for i in tmp_pop:\n",
    "#            print(i)\n",
    "#        print(\"winner\")\n",
    "#        print(winner)\n",
    "        tmp_pop=list(filter(lambda p:p['doors'] not in players_doors,tmp_pop))\n",
    "    return result\n",
    "\n",
    "\n",
    "def do_crossover(pop,gen_number=0):\n",
    "    new_pop=[]\n",
    "    punto_corte = random.randint(1,n_doors - 1)\n",
    "    for i in range(len(pop)//2):\n",
    "        parent1=pop[i]['doors']\n",
    "        parent2=pop[len(pop)//2 + i]['doors']\n",
    "        new_individual = {\n",
    "            'doors':parent1[:punto_corte] + parent2[punto_corte:],\n",
    "            'gen':gen_number,\n",
    "            'ticks':0\n",
    "        }\n",
    "        new_pop.append(new_individual)\n",
    "        \"\"\"\n",
    "        print(\"#\")\n",
    "        print(\"pto_corte:\",end=\" \")\n",
    "        print(punto_corte)\n",
    "        print(\"padre1:\",end=\" \")\n",
    "        print(parent1)\n",
    "        print(\"padre2:\",end=\" \")\n",
    "        print(parent2)\n",
    "        print(\"hijo:\",end=\" \")\n",
    "        print(new_individual)\n",
    "        \"\"\"\n",
    "    return new_pop\n",
    "        \n",
    "def do_mutate(pop,prob=p_mut):\n",
    "    new_pop = pop.copy()\n",
    "    for individual in new_pop:\n",
    "        if np.random.random() <= prob:\n",
    "            random_index = random.randint(0,n_doors - 1)\n",
    "            new_door = np.random.randint(len(good_doors))\n",
    "            while(new_door == individual['doors'][random_index]):\n",
    "                new_door = np.random.randint( len(good_doors))\n",
    "            individual['doors'][random_index] = new_door\n",
    "            individual['ticks']=0\n",
    "    return new_pop\n",
    "            \n",
    "        \n",
    "def get_best_from_pop(pop):\n",
    "    best_index = np.argmin(list(map(lambda p:p['ticks'],pop)))\n",
    "    best = pop2[best_index]\n",
    "    return best\n",
    "        "
   ]
  },
  {
   "cell_type": "code",
   "execution_count": 10,
   "metadata": {},
   "outputs": [
    {
     "data": {
      "text/plain": [
       "298"
      ]
     },
     "execution_count": 10,
     "metadata": {},
     "output_type": "execute_result"
    }
   ],
   "source": [
    "good_doors = get_good_doors() #guardar las puertas posibles en good_doors\n",
    "len(good_doors)"
   ]
  },
  {
   "cell_type": "markdown",
   "metadata": {},
   "source": [
    "<h1>Inicializar la población</h1>"
   ]
  },
  {
   "cell_type": "code",
   "execution_count": null,
   "metadata": {},
   "outputs": [],
   "source": [
    "#inicialización\n",
    "population = gen_zero()\n",
    "evaluate_population(population)\n",
    "population"
   ]
  },
  {
   "cell_type": "markdown",
   "metadata": {},
   "source": [
    "<h1>Seleccion</h1>"
   ]
  },
  {
   "cell_type": "code",
   "execution_count": 293,
   "metadata": {},
   "outputs": [
    {
     "data": {
      "text/plain": [
       "[{'doors': [101, 208, 285, 222, 147], 'gen': 0, 'ticks': 105.4},\n",
       " {'doors': [214, 45, 267, 296, 52], 'gen': 0, 'ticks': 115.0},\n",
       " {'doors': [192, 197, 256, 255, 46], 'gen': 0, 'ticks': 91.2},\n",
       " {'doors': [51, 193, 103, 211, 58], 'gen': 0, 'ticks': 103.2},\n",
       " {'doors': [13, 86, 280, 28, 110], 'gen': 0, 'ticks': 70.8},\n",
       " {'doors': [243, 232, 198, 290, 122], 'gen': 0, 'ticks': 97.0},\n",
       " {'doors': [99, 21, 23, 207, 5], 'gen': 0, 'ticks': 102.4},\n",
       " {'doors': [111, 161, 269, 233, 266], 'gen': 0, 'ticks': 97.6},\n",
       " {'doors': [242, 28, 206, 213, 73], 'gen': 0, 'ticks': 126.4},\n",
       " {'doors': [152, 202, 167, 119, 131], 'gen': 0, 'ticks': 101.6}]"
      ]
     },
     "execution_count": 293,
     "metadata": {},
     "output_type": "execute_result"
    }
   ],
   "source": [
    "winners = do_tournament(population,2)\n",
    "winners\n"
   ]
  },
  {
   "cell_type": "markdown",
   "metadata": {},
   "source": [
    "<h1>Cruzamiento</h1>"
   ]
  },
  {
   "cell_type": "code",
   "execution_count": 294,
   "metadata": {},
   "outputs": [
    {
     "data": {
      "text/plain": [
       "[{'doors': [101, 208, 285, 290, 122], 'gen': 1, 'ticks': 0},\n",
       " {'doors': [214, 45, 267, 207, 5], 'gen': 1, 'ticks': 0},\n",
       " {'doors': [192, 197, 256, 233, 266], 'gen': 1, 'ticks': 0},\n",
       " {'doors': [51, 193, 103, 213, 73], 'gen': 1, 'ticks': 0},\n",
       " {'doors': [13, 86, 280, 119, 131], 'gen': 1, 'ticks': 0}]"
      ]
     },
     "execution_count": 294,
     "metadata": {},
     "output_type": "execute_result"
    }
   ],
   "source": [
    "cross = do_crossover(winners,1)\n",
    "cross"
   ]
  },
  {
   "cell_type": "markdown",
   "metadata": {},
   "source": [
    "<h1>Mutacion</h1>"
   ]
  },
  {
   "cell_type": "code",
   "execution_count": 295,
   "metadata": {},
   "outputs": [
    {
     "data": {
      "text/plain": [
       "[{'doors': [101, 208, 285, 222, 147], 'gen': 0, 'ticks': 105.4},\n",
       " {'doors': [214, 45, 267, 296, 52], 'gen': 0, 'ticks': 115.0},\n",
       " {'doors': [192, 197, 256, 255, 46], 'gen': 0, 'ticks': 91.2},\n",
       " {'doors': [51, 193, 103, 211, 58], 'gen': 0, 'ticks': 103.2},\n",
       " {'doors': [13, 86, 280, 28, 110], 'gen': 0, 'ticks': 70.8},\n",
       " {'doors': [243, 232, 198, 290, 122], 'gen': 0, 'ticks': 97.0},\n",
       " {'doors': [99, 21, 23, 207, 5], 'gen': 0, 'ticks': 102.4},\n",
       " {'doors': [111, 161, 269, 233, 266], 'gen': 0, 'ticks': 97.6},\n",
       " {'doors': [242, 28, 206, 213, 73], 'gen': 0, 'ticks': 126.4},\n",
       " {'doors': [152, 202, 167, 119, 131], 'gen': 0, 'ticks': 101.6},\n",
       " {'doors': [101, 208, 285, 290, 122], 'gen': 1, 'ticks': 0},\n",
       " {'doors': [214, 45, 267, 207, 5], 'gen': 1, 'ticks': 0},\n",
       " {'doors': [192, 197, 256, 233, 266], 'gen': 1, 'ticks': 0},\n",
       " {'doors': [51, 193, 103, 213, 73], 'gen': 1, 'ticks': 0},\n",
       " {'doors': [13, 86, 280, 119, 131], 'gen': 1, 'ticks': 0}]"
      ]
     },
     "execution_count": 295,
     "metadata": {},
     "output_type": "execute_result"
    }
   ],
   "source": [
    "test_pop = winners + cross\n",
    "test_pop"
   ]
  },
  {
   "cell_type": "code",
   "execution_count": 296,
   "metadata": {},
   "outputs": [
    {
     "data": {
      "text/plain": [
       "[{'doors': [101, 208, 285, 222, 147], 'gen': 0, 'ticks': 105.4},\n",
       " {'doors': [214, 45, 267, 296, 52], 'gen': 0, 'ticks': 115.0},\n",
       " {'doors': [192, 197, 256, 255, 46], 'gen': 0, 'ticks': 91.2},\n",
       " {'doors': [51, 193, 103, 211, 58], 'gen': 0, 'ticks': 103.2},\n",
       " {'doors': [13, 86, 280, 28, 110], 'gen': 0, 'ticks': 70.8},\n",
       " {'doors': [243, 232, 198, 290, 122], 'gen': 0, 'ticks': 97.0},\n",
       " {'doors': [99, 21, 23, 207, 5], 'gen': 0, 'ticks': 102.4},\n",
       " {'doors': [111, 161, 269, 233, 266], 'gen': 0, 'ticks': 97.6},\n",
       " {'doors': [166, 28, 206, 213, 73], 'gen': 0, 'ticks': 126.4},\n",
       " {'doors': [152, 202, 167, 119, 131], 'gen': 0, 'ticks': 101.6},\n",
       " {'doors': [101, 158, 285, 290, 122], 'gen': 1, 'ticks': 0},\n",
       " {'doors': [214, 45, 267, 207, 5], 'gen': 1, 'ticks': 0},\n",
       " {'doors': [192, 197, 256, 233, 266], 'gen': 1, 'ticks': 0},\n",
       " {'doors': [51, 193, 103, 213, 269], 'gen': 1, 'ticks': 0},\n",
       " {'doors': [13, 86, 280, 119, 131], 'gen': 1, 'ticks': 0}]"
      ]
     },
     "execution_count": 296,
     "metadata": {},
     "output_type": "execute_result"
    }
   ],
   "source": [
    "do_mutate(test_pop)"
   ]
  },
  {
   "cell_type": "code",
   "execution_count": 297,
   "metadata": {},
   "outputs": [
    {
     "data": {
      "text/plain": [
       "[{'doors': [214, 45, 267, 296, 52], 'gen': 0, 'ticks': 115.0},\n",
       " {'doors': [13, 86, 280, 28, 110], 'gen': 0, 'ticks': 70.8},\n",
       " {'doors': [243, 232, 198, 290, 122], 'gen': 0, 'ticks': 97.0},\n",
       " {'doors': [138, 254, 117, 52, 90], 'gen': 0, 'ticks': 156.2},\n",
       " {'doors': [103, 189, 38, 99, 37], 'gen': 0, 'ticks': 134.0},\n",
       " {'doors': [254, 84, 159, 92, 287], 'gen': 0, 'ticks': 108.2},\n",
       " {'doors': [152, 202, 167, 119, 131], 'gen': 0, 'ticks': 101.6},\n",
       " {'doors': [43, 244, 82, 134, 134], 'gen': 0, 'ticks': 123.6},\n",
       " {'doors': [101, 208, 285, 222, 147], 'gen': 0, 'ticks': 105.4},\n",
       " {'doors': [192, 197, 256, 255, 46], 'gen': 0, 'ticks': 91.2},\n",
       " {'doors': [255, 159, 211, 283, 60], 'gen': 0, 'ticks': 141.6},\n",
       " {'doors': [129, 73, 107, 247, 231], 'gen': 0, 'ticks': 165.0},\n",
       " {'doors': [141, 207, 264, 44, 254], 'gen': 0, 'ticks': 103.4},\n",
       " {'doors': [150, 175, 9, 104, 101], 'gen': 0, 'ticks': 147.0},\n",
       " {'doors': [51, 193, 103, 211, 58], 'gen': 0, 'ticks': 103.2},\n",
       " {'doors': [166, 28, 206, 213, 73], 'gen': 0, 'ticks': 126.4},\n",
       " {'doors': [43, 115, 227, 68, 235], 'gen': 0, 'ticks': 150.4},\n",
       " {'doors': [257, 141, 190, 41, 225], 'gen': 0, 'ticks': 108.8},\n",
       " {'doors': [111, 161, 269, 233, 266], 'gen': 0, 'ticks': 97.6},\n",
       " {'doors': [99, 21, 23, 207, 5], 'gen': 0, 'ticks': 102.4}]"
      ]
     },
     "execution_count": 297,
     "metadata": {},
     "output_type": "execute_result"
    }
   ],
   "source": [
    "population"
   ]
  },
  {
   "cell_type": "code",
   "execution_count": 38,
   "metadata": {},
   "outputs": [
    {
     "name": "stdout",
     "output_type": "stream",
     "text": [
      "Please start netlogo first before kill it\n",
      "Trying to start netlogo, please wait...\n",
      "Done!\n"
     ]
    }
   ],
   "source": [
    "kill_netlogo()\n",
    "launch_netlogo()"
   ]
  },
  {
   "cell_type": "code",
   "execution_count": 39,
   "metadata": {},
   "outputs": [],
   "source": [
    "netlogo.load_model(r'escape4_v6.nlogo')"
   ]
  },
  {
   "cell_type": "markdown",
   "metadata": {},
   "source": [
    "<h1>Bucle evolutivo</h1>"
   ]
  },
  {
   "cell_type": "code",
   "execution_count": 42,
   "metadata": {},
   "outputs": [
    {
     "name": "stdout",
     "output_type": "stream",
     "text": [
      "Generating population...\n",
      "Done!\n",
      "##Gen 0###\n",
      "Population size: 10\n",
      "Evaluating...Done!\n",
      "Tournament...Done!\n",
      "Crossing...Done!\n",
      "Mutation phase...Done!\n",
      "Gen analysis finished\n",
      "Elapsed time: 15.021904468536377\n",
      "##Gen 1###\n",
      "Population size: 16\n",
      "Evaluating...Done!\n",
      "Tournament...Done!\n",
      "Crossing...Done!\n",
      "Mutation phase...Done!\n",
      "Gen analysis finished\n",
      "Elapsed time: 5.795800685882568\n",
      "##Gen 2###\n",
      "Population size: 22\n",
      "Evaluating...Done!\n",
      "Tournament...Done!\n",
      "Crossing...Done!\n",
      "Mutation phase...Done!\n",
      "Gen analysis finished\n",
      "Elapsed time: 2.634580373764038\n",
      "##Gen 3###\n",
      "Population size: 29\n",
      "Evaluating...Done!\n",
      "Tournament...Done!\n",
      "Crossing...Done!\n",
      "Mutation phase...Done!\n",
      "Gen analysis finished\n",
      "Elapsed time: 14.390471458435059\n",
      "##Gen 4###\n",
      "Population size: 38\n",
      "Evaluating...Done!\n",
      "Tournament...Done!\n",
      "Crossing...Done!\n",
      "Mutation phase...Done!\n",
      "Gen analysis finished\n",
      "Elapsed time: 10.318253993988037\n",
      "##Gen 5###\n",
      "Population size: 48\n",
      "Evaluating...Done!\n",
      "Gen analysis finished\n",
      "Elapsed time: 5.262775897979736\n",
      "[{'doors': [151, 204, 174, 216, 146], 'gen': 5, 'ticks': 95.0}, {'doors': [14, 214, 218, 99, 259], 'gen': 5, 'ticks': 107.0}, {'doors': [151, 18, 36, 58, 53], 'gen': 5, 'ticks': 119.0}, {'doors': [151, 25, 73, 53, 171], 'gen': 1, 'ticks': 97.0}, {'doors': [14, 294, 41, 99, 146], 'gen': 4, 'ticks': 91.0}, {'doors': [151, 25, 73, 290, 75], 'gen': 4, 'ticks': 88.0}, {'doors': [276, 204, 174, 99, 146], 'gen': 0, 'ticks': 94.0}, {'doors': [194, 214, 218, 99, 259], 'gen': 4, 'ticks': 105.0}, {'doors': [198, 18, 36, 58, 53], 'gen': 0, 'ticks': 122.0}, {'doors': [44, 33, 97, 53, 171], 'gen': 3, 'ticks': 132.0}, {'doors': [194, 214, 218, 99, 259], 'gen': 4, 'ticks': 105.0}, {'doors': [14, 294, 41, 99, 146], 'gen': 4, 'ticks': 91.0}, {'doors': [151, 25, 73, 290, 75], 'gen': 4, 'ticks': 88.0}, {'doors': [194, 214, 218, 233, 259], 'gen': 0, 'ticks': 115.0}, {'doors': [14, 294, 41, 244, 291], 'gen': 0, 'ticks': 141.0}, {'doors': [151, 25, 73, 53, 171], 'gen': 1, 'ticks': 97.0}, {'doors': [276, 204, 159, 99, 259], 'gen': 2, 'ticks': 110.0}, {'doors': [276, 204, 174, 99, 146], 'gen': 0, 'ticks': 94.0}, {'doors': [44, 33, 97, 290, 75], 'gen': 1, 'ticks': 139.0}, {'doors': [276, 204, 209, 85, 171], 'gen': 3, 'ticks': 102.0}, {'doors': [44, 33, 97, 53, 171], 'gen': 3, 'ticks': 132.0}, {'doors': [276, 204, 174, 99, 146], 'gen': 0, 'ticks': 94.0}, {'doors': [44, 118, 97, 290, 116], 'gen': 0, 'ticks': 127.0}, {'doors': [9, 65, 232, 85, 171], 'gen': 0, 'ticks': 107.0}, {'doors': [151, 25, 73, 53, 171], 'gen': 1, 'ticks': 97.0}, {'doors': [166, 150, 206, 189, 208], 'gen': 0, 'ticks': 114.0}, {'doors': [44, 81, 97, 290, 171], 'gen': 2, 'ticks': 103.0}, {'doors': [276, 204, 159, 99, 259], 'gen': 2, 'ticks': 110.0}, {'doors': [44, 118, 97, 290, 116], 'gen': 0, 'ticks': 127.0}, {'doors': [276, 204, 174, 99, 146], 'gen': 0, 'ticks': 94.0}, {'doors': [151, 25, 73, 53, 171], 'gen': 1, 'ticks': 97.0}, {'doors': [194, 214, 218, 233, 259], 'gen': 0, 'ticks': 115.0}, {'doors': [151, 25, 73, 53, 171], 'gen': 1, 'ticks': 97.0}, {'doors': [44, 33, 97, 290, 75], 'gen': 1, 'ticks': 139.0}, {'doors': [151, 25, 73, 53, 58], 'gen': 0, 'ticks': 106.0}, {'doors': [44, 118, 97, 290, 116], 'gen': 0, 'ticks': 127.0}, {'doors': [9, 65, 232, 85, 171], 'gen': 0, 'ticks': 107.0}, {'doors': [14, 294, 41, 244, 291], 'gen': 0, 'ticks': 141.0}, {'doors': [228, 7, 166, 248, 34], 'gen': 0, 'ticks': 127.0}, {'doors': [9, 65, 232, 85, 171], 'gen': 0, 'ticks': 107.0}, {'doors': [151, 25, 73, 53, 58], 'gen': 0, 'ticks': 106.0}, {'doors': [19, 169, 268, 269, 207], 'gen': 0, 'ticks': 132.0}, {'doors': [14, 294, 41, 244, 291], 'gen': 0, 'ticks': 141.0}, {'doors': [166, 150, 206, 189, 208], 'gen': 0, 'ticks': 114.0}, {'doors': [44, 118, 97, 290, 116], 'gen': 0, 'ticks': 127.0}, {'doors': [276, 204, 174, 99, 146], 'gen': 0, 'ticks': 94.0}, {'doors': [194, 214, 218, 233, 259], 'gen': 0, 'ticks': 115.0}, {'doors': [198, 18, 36, 58, 53], 'gen': 0, 'ticks': 122.0}]\n",
      "Total elapsed time: 53.4394109249115\n"
     ]
    }
   ],
   "source": [
    "import time\n",
    "\n",
    "\n",
    "netlogo.command('set plan-data \"{0}\"'.format(plan_file))\n",
    "netlogo.command(\"load-plan-file\")\n",
    "\n",
    "current_gen = 0\n",
    "max_gen = 5\n",
    "pop_size = 10\n",
    "n_iterations = 1\n",
    "good_doors = get_good_doors() #guardar las puertas posibles en good_doors\n",
    "\n",
    "start_time = time.time()\n",
    "print(\"Generating population...\")\n",
    "pop2 = gen_zero()\n",
    "print(\"Done!\")\n",
    "#print(\"|{0:_^5}|\".format(\"Gen\"))\n",
    "\n",
    "best_of = []\n",
    "\n",
    "while current_gen <= max_gen:\n",
    "    iter_time = time.time()\n",
    "    print(\"{0:#^10}\".format(\"Gen \" + str(current_gen)))\n",
    "    print(\"Population size: {0}\".format(len(pop2)))\n",
    "    print(\"Evaluating...\",end=\"\")\n",
    "    \n",
    "    evaluate_population(list(filter(lambda p:p['ticks'] ==0,pop2)))\n",
    "        \n",
    "    print(\"Done!\")\n",
    "    if(current_gen < max_gen):\n",
    "        print(\"Tournament...\",end=\"\")\n",
    "        winners = do_tournament(pop2,3)\n",
    "        print(\"Done!\")\n",
    "        print(\"Crossing...\",end=\"\")\n",
    "        cross = do_crossover(winners, current_gen + 1)\n",
    "        print(\"Done!\")\n",
    "        print(\"Mutation phase...\",end=\"\")\n",
    "        result = do_mutate(cross+winners)\n",
    "        print(\"Done!\")\n",
    "\n",
    "        \"\"\"\n",
    "        print(\"Tournament (again)...\",end=\"\")\n",
    "        pop2 = do_tournament(result + pop2,3)\n",
    "        print(\"Done!\")\n",
    "        \"\"\"\n",
    "\n",
    "        pop2=result + pop2\n",
    "        \n",
    "    best_of_this_gen = get_best_from_pop(pop2)#encontrar el mejor (para realizar el grafico)\n",
    "    best_of.append( (current_gen,best_of_this_gen,best_of_this_gen))#guardarlo en una lista junto con la genereacion (para el grafico)                                     \n",
    "    \n",
    "    print(\"Gen analysis finished\")\n",
    "    elapsed_time = time.time() - iter_time\n",
    "    print(\"Elapsed time: {0}\".format(elapsed_time))\n",
    "    current_gen = current_gen + 1\n",
    "print(pop2)\n",
    "elapsed_time = time.time() - start_time\n",
    "print(\"Total elapsed time: {0}\".format(elapsed_time))\n",
    "\n",
    "kill_netlogo()"
   ]
  },
  {
   "cell_type": "code",
   "execution_count": 51,
   "metadata": {},
   "outputs": [
    {
     "data": {
      "image/png": "[encoded data removed]",
      "text/plain": [
       "<Figure size 432x288 with 1 Axes>"
      ]
     },
     "metadata": {
      "needs_background": "light"
     },
     "output_type": "display_data"
    }
   ],
   "source": [
    "import matplotlib.pyplot as plt\n",
    "\n",
    "x_points=list(map(lambda x:x[0],best_of))\n",
    "y_points=list(map(lambda x:x[1]['ticks'],best_of))\n",
    "\n",
    "#print(x_points)\n",
    "#print(y_points)\n",
    "plt.plot(x_points,y_points)\n",
    "plt.show()"
   ]
  },
  {
   "cell_type": "code",
   "execution_count": null,
   "metadata": {},
   "outputs": [],
   "source": [
    "\n"
   ]
  }
 ],
 "metadata": {
  "kernelspec": {
   "display_name": "Python 3",
   "language": "python",
   "name": "python3"
  },
  "language_info": {
   "codemirror_mode": {
    "name": "ipython",
    "version": 3
   },
   "file_extension": ".py",
   "mimetype": "text/x-python",
   "name": "python",
   "nbconvert_exporter": "python",
   "pygments_lexer": "ipython3",
   "version": "3.6.6"
  }
 },
 "nbformat": 4,
 "nbformat_minor": 2
}
