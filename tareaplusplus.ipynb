{
 "cells": [
  {
   "cell_type": "markdown",
   "metadata": {},
   "source": [
    "<h1>Algoritmo Genético - Trabajo IA 2018</h1>\n",
    "Integrantes\n",
    "\n",
    "- Sebastian Gaete\n",
    "- Elard Koch\n",
    "- Israel Díaz\n",
    "- Francisco González\n",
    "\n",
    "**notas**<br>\n",
    "representación de individuo:\n",
    "diccionario de python, el cual posee las siguientes claves,valores:\n",
    "\n",
    "- **doors**: lista de puertas asociadas\n",
    "- **ticks**: cantidad de ticks promedio del individuo\n",
    "- **gen**: generación del individuo\n",
    "\n",
    "una población de  individuos corresponderá a una lista de diccionarios"
   ]
  },
  {
   "cell_type": "code",
   "execution_count": 1,
   "metadata": {},
   "outputs": [],
   "source": [
    "netlogo = None"
   ]
  },
  {
   "cell_type": "code",
   "execution_count": 2,
   "metadata": {},
   "outputs": [],
   "source": [
    "import platform\n",
    "import pyNetLogo\n",
    "import random\n",
    "import numpy as np\n",
    "\n",
    "netlogo_gui=False #ejecutar netlogo con interfaz grafica (True = si, False = no)\n",
    "current_gen = 0 #contador de la generación actual\n",
    "max_gen=50 #total de generaciones\n",
    "n_doors = 5 #numero de puertas a ubicar\n",
    "pop_size=20 #tamaño poblacion\n",
    "n_iterations=5 #cantidad de iteraciones por individuo\n",
    "n_tournament=3 #cantidad de individuos por torneo\n",
    "p_mut=0.3 #probabilidad de mutacion\n",
    "\n",
    "plan_file=\"office.plan\"\n",
    "\n",
    "population = []\n",
    "good_doors=[] #lista de coordenadas que pueden albergar una puerta "
   ]
  },
  {
   "cell_type": "markdown",
   "metadata": {},
   "source": [
    "- Para iniciar netlogo: **launch_netlogo()**\n",
    "- Para iniciar netlogo: **kill_netlogo()**"
   ]
  },
  {
   "cell_type": "code",
   "execution_count": 3,
   "metadata": {},
   "outputs": [],
   "source": [
    "\n",
    "def launch_netlogo():\n",
    "    global netlogo\n",
    "    print(\"Trying to start netlogo, please wait...\")\n",
    "    try:\n",
    "        sistema=platform.system()\n",
    "        if(sistema=='Windows'):\n",
    "            netlogo = pyNetLogo.NetLogoLink(gui=netlogo_gui)\n",
    "        elif(sistema=='Linux'):\n",
    "            netlogo = pyNetLogo.NetLogoLink(gui=netlogo_gui,netlogo_home='NetLogo 6.0.4/')\n",
    "        else:\n",
    "            netlogo = pyNetLogo.NetLogoLink(gui=netlogo_gui)\n",
    "        print(\"Done!\")\n",
    "    except Exception as e:\n",
    "        print(\"Ocurrio un problema al levantar netlogo!\")\n",
    "        print(e)\n",
    "\n",
    "def kill_netlogo():\n",
    "    global netlogo\n",
    "    if netlogo!=None:\n",
    "        try:\n",
    "            netlogo.kill_workspace()\n",
    "            netlogo = None\n",
    "        except Exception as e:\n",
    "            print(\"An exception has ocurred while attempíng to kill NetLogo!\")\n",
    "            print(e)\n",
    "    else:\n",
    "        print(\"Please start netlogo first before kill it\")"
   ]
  },
  {
   "cell_type": "code",
   "execution_count": 4,
   "metadata": {},
   "outputs": [
    {
     "name": "stdout",
     "output_type": "stream",
     "text": [
      "Trying to start netlogo, please wait...\n",
      "Done!\n"
     ]
    }
   ],
   "source": [
    "#iniciar netlogo\n",
    "launch_netlogo()"
   ]
  },
  {
   "cell_type": "code",
   "execution_count": 5,
   "metadata": {},
   "outputs": [],
   "source": [
    "netlogo.load_model(r'escape4_v6.nlogo')\n",
    "netlogo.command('set plan-data \"{0}\"'.format(plan_file))\n",
    "netlogo.command(\"load-plan-file\")"
   ]
  },
  {
   "cell_type": "code",
   "execution_count": 6,
   "metadata": {},
   "outputs": [],
   "source": [
    "#detener netlogo\n",
    "#kill_netlogo()"
   ]
  },
  {
   "cell_type": "markdown",
   "metadata": {},
   "source": [
    "<h1>Funciones para algoritmo genético</h1>"
   ]
  },
  {
   "cell_type": "code",
   "execution_count": 207,
   "metadata": {},
   "outputs": [],
   "source": [
    "\n",
    "#simulate recibe la lista ordenada de coordenadas de puertas, realiza la simulación correspondiente y retorna los ticks que ha demorado\n",
    "#La distribución de puertas debe estar previamente validada, en caso de que las puertas no sean accesibles, la simulación podría quedar atascada en un while infinito\n",
    "def simulate(doors):\n",
    "    str_command = \"set door-data {0}\".format(str(doors).replace(',','').replace(\"[\",\"[ \").replace(\"]\",\" ]\")).replace(\"(\",\"[\").replace(\")\",\"]\")\n",
    "    netlogo.command(str_command)\n",
    "    netlogo.command(\"show-plan\")\n",
    "    netlogo.command(\"generate-population\")\n",
    "    while(netlogo.report(\"count turtles\")>0):\n",
    "        netlogo.command(\"go\")\n",
    "    return(netlogo.report(\"ticks\"))\n",
    "\n",
    "def simulate_ind(individual):\n",
    "    doors = list(map(lambda i:[good_doors[i][0],good_doors[i][1]],individual['doors']))\n",
    "    return simulate(doors)\n",
    "    \n",
    "def get_good_doors(): #Obtener las coordenadas x e y de todas las puertas(posibles) que nos sirven\n",
    "    x=list(map(lambda i:int(i),netlogo.report(\"listax\")))\n",
    "    y=list(map(lambda i:int(i),netlogo.report(\"listay\")))\n",
    "    return list(map(lambda i:(x[i],y[i]),range(len(x))))\n",
    "\n",
    "def gen_zero(): #crea la generacion 0\n",
    "    tmp_population=[]\n",
    "    for i in range(pop_size):\n",
    "        individual = {\n",
    "            'doors':[],\n",
    "            'gen':0,\n",
    "            'ticks':0\n",
    "        }\n",
    "        tmp_population.append(individual)\n",
    "        for j in range(n_doors):\n",
    "            random_door_index = random.randint(0,len(good_doors))\n",
    "            individual['doors'].append(random_door_index)\n",
    "    return tmp_population\n",
    "        \n",
    "\n",
    "def evaluate_population(pop):\n",
    "    for individual in pop:\n",
    "        simulations_ticks=[]\n",
    "        for i in range(n_iterations):\n",
    "            simulations_ticks.append(simulate_ind(individual))\n",
    "        individual['ticks'] = np.mean(simulations_ticks)\n",
    "        \n",
    "def do_tournament(pop,n_players):\n",
    "    result = []\n",
    "    tmp_pop = pop.copy()\n",
    "    if(n_players > len(pop)):\n",
    "        n_players=len(pop)\n",
    "    while len(tmp_pop) >= n_players:\n",
    "#        print(\"#\")\n",
    "#        print(\"len: {0}\".format(len(tmp_pop)))\n",
    "#        for i in tmp_pop:\n",
    "#            print(i)\n",
    "         \n",
    "        players_selection = []\n",
    "        while(len(players_selection)<n_players):\n",
    "            selection = np.random.choice(tmp_pop)\n",
    "            if(selection not in players_selection):\n",
    "                players_selection.append(selection)\n",
    "        #players_selection = list(map( lambda i: np.random.choice(tmp_pop) , range(n_players) ))\n",
    "        \n",
    "        players_doors=list(map(lambda p:p['doors'],players_selection))\n",
    "        \n",
    "        winner = players_selection[np.argmin([ i['ticks'] for i in players_selection])]\n",
    "        tmp_pop=list(filter(lambda p:p['doors'] not in players_doors,tmp_pop))\n",
    "#        print(\"players_selection\")\n",
    "        \n",
    "#        for i in players_selection:\n",
    "#            print(i)\n",
    "        \n",
    "#        print(\"winner\")\n",
    "#        print(winner)\n",
    "        result.append(winner)\n",
    "        \n",
    "    if(len(tmp_pop)>0):\n",
    "#        print(\"len: {0}\".format(len(tmp_pop)))\n",
    "#        print(\"#last\")\n",
    "        \n",
    "#        for i in tmp_pop:\n",
    "#            print(i)\n",
    "        \n",
    "        winner = tmp_pop[np.argmin([ i['ticks'] for i in tmp_pop])]\n",
    "        result.append(winner)\n",
    "#        print(\"players_selection\")\n",
    "#        for i in tmp_pop:\n",
    "#            print(i)\n",
    "#        print(\"winner\")\n",
    "#        print(winner)\n",
    "        tmp_pop=list(filter(lambda p:p['doors'] not in players_doors,tmp_pop))\n",
    "    return result\n",
    "\n",
    "\n",
    "def do_crossover(pop):\n",
    "    new_pop=[]\n",
    "    punto_corte = random.randint(1,n_doors - 1)\n",
    "    for i in range(len(pop)//2):\n",
    "        parent1=pop[i]['doors']\n",
    "        parent2=pop[len(pop)//2 + i]['doors']\n",
    "        new_individual = parent1[:punto_corte] + parent2[punto_corte:]\n",
    "        new_pop.append(new_individual)\n",
    "        \"\"\"\n",
    "        print(\"#\")\n",
    "        print(\"pto_corte:\",end=\" \")\n",
    "        print(punto_corte)\n",
    "        print(\"padre1:\",end=\" \")\n",
    "        print(parent1)\n",
    "        print(\"padre2:\",end=\" \")\n",
    "        print(parent2)\n",
    "        print(\"hijo:\",end=\" \")\n",
    "        print(new_individual)\n",
    "        \"\"\"\n",
    "        \n",
    "        \n",
    "        "
   ]
  },
  {
   "cell_type": "code",
   "execution_count": 9,
   "metadata": {},
   "outputs": [
    {
     "data": {
      "text/plain": [
       "298"
      ]
     },
     "execution_count": 9,
     "metadata": {},
     "output_type": "execute_result"
    }
   ],
   "source": [
    "good_doors = get_good_doors() #guardar las puertas posibles en good_doors\n",
    "len(good_doors)"
   ]
  },
  {
   "cell_type": "markdown",
   "metadata": {},
   "source": [
    "<h1>Inicializar la población</h1>"
   ]
  },
  {
   "cell_type": "code",
   "execution_count": 11,
   "metadata": {},
   "outputs": [
    {
     "data": {
      "text/plain": [
       "[{'doors': [214, 45, 267, 296, 52], 'gen': 0, 'ticks': 115.0},\n",
       " {'doors': [86, 190, 167, 28, 240], 'gen': 0, 'ticks': 70.8},\n",
       " {'doors': [141, 232, 204, 79, 52], 'gen': 0, 'ticks': 97.0},\n",
       " {'doors': [138, 254, 117, 52, 90], 'gen': 0, 'ticks': 156.2},\n",
       " {'doors': [103, 189, 38, 99, 37], 'gen': 0, 'ticks': 134.0},\n",
       " {'doors': [231, 216, 270, 34, 29], 'gen': 0, 'ticks': 108.2},\n",
       " {'doors': [132, 67, 232, 121, 131], 'gen': 0, 'ticks': 101.6},\n",
       " {'doors': [43, 244, 82, 134, 134], 'gen': 0, 'ticks': 123.6},\n",
       " {'doors': [101, 208, 285, 222, 147], 'gen': 0, 'ticks': 105.4},\n",
       " {'doors': [73, 241, 122, 208, 24], 'gen': 0, 'ticks': 91.2},\n",
       " {'doors': [255, 159, 211, 283, 60], 'gen': 0, 'ticks': 141.6},\n",
       " {'doors': [129, 73, 107, 247, 231], 'gen': 0, 'ticks': 165.0},\n",
       " {'doors': [51, 207, 239, 151, 86], 'gen': 0, 'ticks': 103.4},\n",
       " {'doors': [150, 175, 9, 104, 101], 'gen': 0, 'ticks': 147.0},\n",
       " {'doors': [51, 193, 103, 211, 58], 'gen': 0, 'ticks': 103.2},\n",
       " {'doors': [242, 28, 206, 213, 73], 'gen': 0, 'ticks': 126.4},\n",
       " {'doors': [43, 115, 227, 68, 235], 'gen': 0, 'ticks': 150.4},\n",
       " {'doors': [257, 141, 190, 41, 225], 'gen': 0, 'ticks': 108.8},\n",
       " {'doors': [194, 201, 165, 251, 39], 'gen': 0, 'ticks': 97.6},\n",
       " {'doors': [99, 21, 23, 207, 5], 'gen': 0, 'ticks': 102.4}]"
      ]
     },
     "execution_count": 11,
     "metadata": {},
     "output_type": "execute_result"
    }
   ],
   "source": [
    "#inicialización\n",
    "population = gen_zero()\n",
    "evaluate_population(population)\n",
    "population"
   ]
  },
  {
   "cell_type": "code",
   "execution_count": 205,
   "metadata": {},
   "outputs": [
    {
     "name": "stdout",
     "output_type": "stream",
     "text": [
      "#\n",
      "pto_corte: 3\n",
      "padre1: [194, 201, 165, 251, 39]\n",
      "padre2: [214, 45, 267, 296, 52]\n",
      "hijo: [194, 201, 165, 296, 52]\n",
      "#\n",
      "pto_corte: 3\n",
      "padre1: [51, 207, 239, 151, 86]\n",
      "padre2: [86, 190, 167, 28, 240]\n",
      "hijo: [51, 207, 239, 28, 240]\n",
      "#\n",
      "pto_corte: 3\n",
      "padre1: [242, 28, 206, 213, 73]\n",
      "padre2: [73, 241, 122, 208, 24]\n",
      "hijo: [242, 28, 206, 208, 24]\n"
     ]
    }
   ],
   "source": [
    "winners = do_tournament(population,3)\n",
    "do_crossover(winners)"
   ]
  },
  {
   "cell_type": "code",
   "execution_count": 191,
   "metadata": {},
   "outputs": [
    {
     "data": {
      "text/plain": [
       "[1, 2, 3, 4, 5]"
      ]
     },
     "execution_count": 191,
     "metadata": {},
     "output_type": "execute_result"
    }
   ],
   "source": [
    "aa=30\n",
    "a=[1,2,3,4,5]\n",
    "b=[6,7,8,9,0]\n",
    "a[:aa]+b[aa:]"
   ]
  }
 ],
 "metadata": {
  "kernelspec": {
   "display_name": "Python 3",
   "language": "python",
   "name": "python3"
  },
  "language_info": {
   "codemirror_mode": {
    "name": "ipython",
    "version": 3
   },
   "file_extension": ".py",
   "mimetype": "text/x-python",
   "name": "python",
   "nbconvert_exporter": "python",
   "pygments_lexer": "ipython3",
   "version": "3.6.6"
  }
 },
 "nbformat": 4,
 "nbformat_minor": 2
}
