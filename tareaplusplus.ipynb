{
 "cells": [
  {
   "cell_type": "markdown",
   "metadata": {},
   "source": [
    "<h1>Algoritmo Genético - Trabajo IA 2018</h1>\n",
    "Integrantes\n",
    "\n",
    "- Sebastian Gaete\n",
    "- Elard Koch\n",
    "- Israel Díaz\n",
    "- Francisco González\n",
    "- Humberto Campos\n",
    "\n",
    "**notas**<br>\n",
    "representación de individuo:\n",
    "diccionario de python, el cual posee las siguientes claves,valores:\n",
    "\n",
    "- **doors**: lista de puertas asociadas\n",
    "- **ticks**: cantidad de ticks promedio del individuo\n",
    "- **gen**: generación del individuo\n",
    "\n",
    "una población de  individuos corresponderá a una lista de diccionarios"
   ]
  },
  {
   "cell_type": "code",
   "execution_count": 3,
   "metadata": {},
   "outputs": [],
   "source": [
    "netlogo = None"
   ]
  },
  {
   "cell_type": "code",
   "execution_count": 11,
   "metadata": {},
   "outputs": [],
   "source": [
    "import platform\n",
    "import pyNetLogo\n",
    "import random\n",
    "import numpy as np\n",
    "\n",
    "netlogo_gui=False #ejecutar netlogo con interfaz grafica (True = si, False = no)\n",
    "current_gen = 0 #contador de la generación actual\n",
    "max_gen=30 #total de generaciones\n",
    "n_doors = 5 #numero de puertas a ubicar\n",
    "pop_size=20 #tamaño poblacion\n",
    "n_iterations=2 #cantidad de iteraciones por individuo\n",
    "n_tournament=3 #cantidad de individuos por torneo\n",
    "p_cross=0.3#probabilidad de recombinacion\n",
    "p_mut=0.3 #probabilidad de mutacion\n",
    "\n",
    "plan_file=\"school.plan\"\n",
    "\n",
    "# population = []\n",
    "good_doors=[] #lista de coordenadas que pueden albergar una puerta "
   ]
  },
  {
   "cell_type": "markdown",
   "metadata": {},
   "source": [
    "- Para iniciar netlogo: **launch_netlogo()**\n",
    "- Para iniciar netlogo: **kill_netlogo()**"
   ]
  },
  {
   "cell_type": "code",
   "execution_count": 12,
   "metadata": {},
   "outputs": [],
   "source": [
    "\n",
    "def launch_netlogo():\n",
    "    global netlogo\n",
    "    print(\"Trying to start netlogo, please wait...\")\n",
    "    try:\n",
    "        sistema=platform.system()\n",
    "        if(sistema=='Windows'):\n",
    "            netlogo = pyNetLogo.NetLogoLink(gui=netlogo_gui)\n",
    "        elif(sistema=='Linux'):\n",
    "            netlogo = pyNetLogo.NetLogoLink(gui=netlogo_gui,netlogo_home='NetLogo 6.0.4/')\n",
    "        else:\n",
    "            netlogo = pyNetLogo.NetLogoLink(gui=netlogo_gui)\n",
    "        print(\"Done!\")\n",
    "    except Exception as e:\n",
    "        print(\"Ocurrio un problema al levantar netlogo!\")\n",
    "        print(e)\n",
    "\n",
    "def kill_netlogo():\n",
    "    global netlogo\n",
    "    if netlogo!=None:\n",
    "        try:\n",
    "            netlogo.kill_workspace()\n",
    "            netlogo = None\n",
    "        except Exception as e:\n",
    "            print(\"An exception has ocurred while attempíng to kill NetLogo!\")\n",
    "            print(e)\n",
    "    else:\n",
    "        print(\"Please start netlogo first before kill it\")"
   ]
  },
  {
   "cell_type": "markdown",
   "metadata": {},
   "source": [
    "<h1>Funciones para algoritmo genético</h1>"
   ]
  },
  {
   "cell_type": "code",
   "execution_count": 13,
   "metadata": {},
   "outputs": [],
   "source": [
    "#simulate recibe la lista ordenada de coordenadas de puertas, realiza la simulación correspondiente y retorna los ticks que ha demorado\n",
    "#La distribución de puertas debe estar previamente validada, en caso de que las puertas no sean accesibles, la simulación podría quedar atascada en un while infinito\n",
    "def simulate(doors):\n",
    "    str_command = \"set door-data {0}\".format(str(doors).replace(',','').replace(\"[\",\"[ \").replace(\"]\",\" ]\")).replace(\"(\",\"[\").replace(\")\",\"]\")\n",
    "    netlogo.command(str_command)\n",
    "    netlogo.command(\"show-plan\")\n",
    "    netlogo.command(\"generate-population\")\n",
    "    while(netlogo.report(\"count turtles\")>0):\n",
    "        netlogo.command(\"go\")\n",
    "    return(netlogo.report(\"ticks\"))\n",
    "\n",
    "def simulate_ind(individual):\n",
    "    doors = list(map(lambda i:[good_doors[i][0],good_doors[i][1]],individual['doors']))\n",
    "    return simulate(doors)\n",
    "    \n",
    "def get_good_doors(): #Obtener las coordenadas x e y de todas las puertas(posibles) que nos sirven\n",
    "    x=list(map(lambda i:int(i),netlogo.report(\"listax\")))\n",
    "    y=list(map(lambda i:int(i),netlogo.report(\"listay\")))\n",
    "    return list(map(lambda i:(x[i],y[i]),range(len(x))))\n",
    "\n",
    "def gen_zero(): #crea la generacion 0\n",
    "    tmp_population=[]\n",
    "    for i in range(pop_size):\n",
    "        individual = {\n",
    "            'doors':[],\n",
    "            'gen':0,\n",
    "            'ticks':0\n",
    "        }\n",
    "        tmp_population.append(individual)\n",
    "        for j in range(n_doors):\n",
    "            random_door_index = random.randint(0,len(good_doors) - 1)\n",
    "            individual['doors'].append(random_door_index)\n",
    "    return tmp_population\n",
    "        \n",
    "\n",
    "def evaluate_population(pop):\n",
    "    for individual in pop:\n",
    "        if(individual[\"ticks\"]==0):\n",
    "            simulations_ticks=[]\n",
    "            for i in range(n_iterations):\n",
    "                ticks = simulate_ind(individual)\n",
    "                simulations_ticks.append(ticks)\n",
    "            individual['ticks'] = np.mean(simulations_ticks)\n",
    "        \n",
    "# def do_tournament(pop,n_players):\n",
    "#     result = []\n",
    "#     tmp_pop = pop.copy()\n",
    "#     if(n_players > len(pop)):\n",
    "#         n_players=len(pop)\n",
    "#     while len(tmp_pop) >= n_players:\n",
    "#         players_selection = []\n",
    "#         while(len(players_selection)<n_players):\n",
    "#             selection = np.random.choice(tmp_pop)\n",
    "#             if(selection not in players_selection):\n",
    "#                 players_selection.append(selection)\n",
    "#         players_doors=list(map(lambda p:p['doors'],players_selection))\n",
    "#         winner = players_selection[np.argmin([ i['ticks'] for i in players_selection])]\n",
    "#         tmp_pop=list(filter(lambda p:p['doors'] not in players_doors,tmp_pop))\n",
    "#         result.append(winner)\n",
    "#     if(len(tmp_pop)>0):\n",
    "#         winner = tmp_pop[np.argmin([ i['ticks'] for i in tmp_pop])]\n",
    "#         result.append(winner)\n",
    "#         tmp_pop=list(filter(lambda p:p['doors'] not in players_doors,tmp_pop))\n",
    "#     return result\n",
    "def do_tournament(pop,n_players):\n",
    "    result = []\n",
    "    tmp_pop = pop.copy()\n",
    "    if(n_players > len(pop)):\n",
    "        n_players=len(pop)\n",
    "    for i in range(len(tmp_pop)):\n",
    "        players_selection = []\n",
    "        for j in range (n_players):\n",
    "            selection = np.random.choice(tmp_pop)\n",
    "            players_selection.append(selection)\n",
    "        winner = players_selection[np.argmin([ i['ticks'] for i in players_selection])]\n",
    "        result.append(winner)    \n",
    "    return result\n",
    "\n",
    "# def do_crossover(pop,gen_number=0):\n",
    "#     new_pop=[]\n",
    "#     punto_corte = random.randint(1,n_doors - 1)\n",
    "#     for i in range(len(pop)//2):\n",
    "#         parent1=pop[i]['doors']\n",
    "#         parent2=pop[len(pop)//2 + i]['doors']\n",
    "#         new_individual = {\n",
    "#             'doors':parent1[:punto_corte] + parent2[punto_corte:],\n",
    "#             'gen':gen_number,\n",
    "#             'ticks':0\n",
    "#         }\n",
    "#         new_pop.append(new_individual)\n",
    "#     return new_pop\n",
    "def do_crossover(pop,gen_number):\n",
    "    new_pop = pop.copy()\n",
    "    cross_pop=[]\n",
    "    indexes=[]\n",
    "    for individual in range (len(new_pop)):\n",
    "        if (np.random.random() <= p_cross):\n",
    "#             temp=new_pop.pop(individual)\n",
    "            indexes.append(individual)\n",
    "            cross_pop.append(new_pop[individual])\n",
    "    if(len(cross_pop)%2==1):\n",
    "        r=random.randint(0,len(cross_pop)-1)\n",
    "        cross_pop.pop(r)\n",
    "        indexes.pop(r)\n",
    "\n",
    "    for i in range (int(len(cross_pop)/2)):\n",
    "        punto_corte = random.randint(1,n_doors - 1)\n",
    "        parent1=cross_pop[i]['doors']\n",
    "        parent2=cross_pop[int(len(cross_pop)/2 + i)]['doors']\n",
    "        new_individual_1 = {\n",
    "            'doors':parent1[:punto_corte] + parent2[punto_corte:],\n",
    "            'gen':gen_number,\n",
    "            'ticks':0\n",
    "        }\n",
    "        new_individual_2={\n",
    "            'doors':parent1[punto_corte:]+parent2[:punto_corte],\n",
    "            'gen':gen_number,\n",
    "            'ticks':0\n",
    "        }\n",
    "        cross_pop[i]=new_individual_1\n",
    "        cross_pop[int(len(cross_pop)/2) + i]=new_individual_2\n",
    "        for i in range(len(indexes)):\n",
    "            new_pop[indexes[i]]=cross_pop[i]\n",
    "        \n",
    "    result=new_pop\n",
    "    return result\n",
    "\n",
    "def do_mutate(pop,prob):\n",
    "    new_pop = pop.copy()\n",
    "    for individual in new_pop:\n",
    "        if np.random.random() <= prob:\n",
    "            random_index = random.randint(0,n_doors - 1)\n",
    "            new_door = np.random.randint(len(good_doors))\n",
    "            while(new_door == individual['doors'][random_index]):\n",
    "                new_door = np.random.randint( len(good_doors))\n",
    "            individual['doors'][random_index] = new_door\n",
    "            individual['ticks']=0\n",
    "    return new_pop\n",
    "\n",
    "def get_best_from_pop(pop):\n",
    "    best_index = np.argmin(list(map(lambda p:p['ticks'],pop)))\n",
    "    best = pop[best_index]\n",
    "    return best\n",
    "\n",
    "def get_mean(pop):\n",
    "    x=0\n",
    "    for i in range(len(pop)):\n",
    "        x=x+pop[i]['ticks']\n",
    "    return (x/len(pop))"
   ]
  },
  {
   "cell_type": "code",
   "execution_count": 14,
   "metadata": {},
   "outputs": [
    {
     "name": "stdout",
     "output_type": "stream",
     "text": [
      "Trying to start netlogo, please wait...\n",
      "Done!\n"
     ]
    }
   ],
   "source": [
    "kill_netlogo()\n",
    "launch_netlogo()"
   ]
  },
  {
   "cell_type": "code",
   "execution_count": 15,
   "metadata": {},
   "outputs": [],
   "source": [
    "netlogo.load_model(r'escape4_v6.nlogo')"
   ]
  },
  {
   "cell_type": "markdown",
   "metadata": {},
   "source": [
    "<h1>Bucle evolutivo</h1>"
   ]
  },
  {
   "cell_type": "code",
   "execution_count": 16,
   "metadata": {},
   "outputs": [
    {
     "name": "stdout",
     "output_type": "stream",
     "text": [
      "Generating population...\n",
      "Done!\n",
      "##Gen 0###\n",
      "Gen analysis finished\n",
      "##Gen 1###\n",
      "Gen analysis finished\n",
      "##Gen 2###\n",
      "Gen analysis finished\n",
      "##Gen 3###\n",
      "Gen analysis finished\n",
      "##Gen 4###\n",
      "Gen analysis finished\n",
      "##Gen 5###\n",
      "Gen analysis finished\n",
      "##Gen 6###\n",
      "Gen analysis finished\n",
      "##Gen 7###\n",
      "Gen analysis finished\n",
      "##Gen 8###\n",
      "Gen analysis finished\n",
      "##Gen 9###\n",
      "Gen analysis finished\n",
      "##Gen 10##\n",
      "Gen analysis finished\n",
      "##Gen 11##\n",
      "Gen analysis finished\n",
      "##Gen 12##\n",
      "Gen analysis finished\n",
      "##Gen 13##\n",
      "Gen analysis finished\n",
      "##Gen 14##\n",
      "Gen analysis finished\n",
      "##Gen 15##\n",
      "Gen analysis finished\n",
      "##Gen 16##\n",
      "Gen analysis finished\n",
      "##Gen 17##\n",
      "Gen analysis finished\n",
      "##Gen 18##\n",
      "Gen analysis finished\n",
      "##Gen 19##\n",
      "Gen analysis finished\n",
      "##Gen 20##\n",
      "Gen analysis finished\n",
      "##Gen 21##\n",
      "Gen analysis finished\n",
      "##Gen 22##\n",
      "Gen analysis finished\n",
      "##Gen 23##\n",
      "Gen analysis finished\n",
      "##Gen 24##\n",
      "Gen analysis finished\n",
      "##Gen 25##\n",
      "Gen analysis finished\n",
      "##Gen 26##\n",
      "Gen analysis finished\n",
      "##Gen 27##\n",
      "Gen analysis finished\n",
      "##Gen 28##\n",
      "Gen analysis finished\n",
      "##Gen 29##\n",
      "Gen analysis finished\n",
      "##Gen 30##\n",
      "Gen analysis finished\n",
      "Total elapsed time: 727.1483166217804\n"
     ]
    }
   ],
   "source": [
    "import time\n",
    "\n",
    "\n",
    "netlogo.command('set plan-data \"{0}\"'.format(plan_file))\n",
    "netlogo.command(\"load-plan-file\")\n",
    "\n",
    "good_doors = get_good_doors() #guardar las puertas posibles en good_doors\n",
    "\n",
    "start_time = time.time()\n",
    "print(\"Generating population...\")\n",
    "pop2 = gen_zero()\n",
    "print(\"Done!\")\n",
    "#print(\"|{0:_^5}|\".format(\"Gen\"))\n",
    "\n",
    "best_of = []\n",
    "all_mean=[]\n",
    "while current_gen <= max_gen:\n",
    "#     iter_time = time.time()\n",
    "    print(\"{0:#^10}\".format(\"Gen \" + str(current_gen)))\n",
    "#     print(\"Population size: {0}\".format(len(pop2)))\n",
    "#     print(\"Evaluating...\",end=\"\")\n",
    "    \n",
    "    evaluate_population(list(filter(lambda p:p['ticks'] ==0,pop2)))\n",
    "        \n",
    "    best_of_this_gen = get_best_from_pop(pop2)#encontrar el mejor (para realizar el grafico)\n",
    "    best_of.append( (current_gen,best_of_this_gen))#guardarlo en una lista junto con la genereacion (para el grafico)\n",
    "    gen_mean=get_mean(pop2)\n",
    "    all_mean.append((current_gen,gen_mean))\n",
    "    \n",
    "#     print(\"Done!\")\n",
    "    if(current_gen < max_gen):\n",
    "#         print(\"Tournament...\",end=\"\")\n",
    "        winners = do_tournament(pop2,n_tournament)\n",
    "#         print(\"Done!\")\n",
    "#         print(\"Crossing...\",end=\"\")\n",
    "        cross = do_crossover(winners, current_gen + 1)\n",
    "#         print(\"Done!\")\n",
    "#         print(\"Mutation phase...\",end=\"\")\n",
    "        result = do_mutate(cross,p_mut)\n",
    "#         print(\"Done!\")\n",
    "        pop2=result\n",
    "\n",
    "    \n",
    "    print(\"Gen analysis finished\")\n",
    "#     elapsed_time = time.time() - iter_time\n",
    "#     print(\"Elapsed time: {0}\".format(elapsed_time))\n",
    "    current_gen = current_gen + 1\n",
    "# print(pop2)\n",
    "elapsed_time = time.time() - start_time\n",
    "print(\"Total elapsed time: {0}\".format(elapsed_time))\n",
    "\n"
   ]
  },
  {
   "cell_type": "code",
   "execution_count": null,
   "metadata": {},
   "outputs": [],
   "source": [
    "kill_netlogo()"
   ]
  },
  {
   "cell_type": "code",
   "execution_count": 17,
   "metadata": {
    "scrolled": true
   },
   "outputs": [
    {
     "name": "stdout",
     "output_type": "stream",
     "text": [
      "Best door combination:\n",
      "[(76, 62), (20, 44), (38, 27), (104, 13), (104, 28)]\n",
      "ticks:71.5\n",
      "Generation:24\n"
     ]
    },
    {
     "data": {
      "image/png": "[encoded data removed]",
      "text/plain": [
       "<Figure size 432x288 with 1 Axes>"
      ]
     },
     "metadata": {
      "needs_background": "light"
     },
     "output_type": "display_data"
    }
   ],
   "source": [
    "import matplotlib.pyplot as plt\n",
    "\n",
    "x_points=list(map(lambda x:x[0],best_of))\n",
    "y_points=list(map(lambda x:x[1]['ticks'],best_of))\n",
    "z_points=list(map(lambda x:x[1],all_mean))\n",
    "\n",
    "best_of_all_time_index = np.argmin(y_points)\n",
    "best_of_all_time = best_of[best_of_all_time_index][1]\n",
    "best_doors = list(map(lambda i:good_doors[i] ,best_of_all_time['doors']))\n",
    "\n",
    "print(\"Best door combination:\\n{0}\\nticks:{1}\\nGeneration:{2}\".format(best_doors,best_of_all_time['ticks'],best_of_all_time['gen']))\n",
    "\n",
    "plt.plot(x_points,y_points,z_points)\n",
    "plt.show()"
   ]
  },
  {
   "cell_type": "code",
   "execution_count": 24,
   "metadata": {},
   "outputs": [
    {
     "data": {
      "image/png": "[encoded data removed]",
      "text/plain": [
       "<Figure size 432x288 with 1 Axes>"
      ]
     },
     "metadata": {
      "needs_background": "light"
     },
     "output_type": "display_data"
    },
    {
     "name": "stdout",
     "output_type": "stream",
     "text": [
      "[(0, 114.06666666666666), (1, 110.6), (2, 108.4), (3, 99.7), (4, 98.26666666666667), (5, 100.56666666666666), (6, 97.56666666666666), (7, 99.35), (8, 107.6), (9, 93.43333333333334), (10, 95.86666666666666), (11, 95.21666666666667), (12, 107.91666666666667), (13, 95.73333333333333), (14, 95.5), (15, 94.93333333333334), (16, 98.98333333333333), (17, 101.63333333333334), (18, 94.98333333333333), (19, 99.03333333333333), (20, 92.98333333333333), (21, 91.61666666666666), (22, 92.73333333333333), (23, 97.38333333333334), (24, 108.21666666666667), (25, 99.95), (26, 101.08333333333333), (27, 94.55), (28, 110.48333333333333), (29, 107.88333333333334), (30, 98.4), (31, 102.31666666666666), (32, 103.26666666666667), (33, 100.75), (34, 94.2), (35, 103.95), (36, 100.3), (37, 95.96666666666667), (38, 94.36666666666666), (39, 98.51666666666667), (40, 98.36666666666666), (41, 97.75), (42, 102.63333333333334), (43, 100.4), (44, 96.36666666666666), (45, 100.23333333333333), (46, 108.38333333333334), (47, 107.86666666666666), (48, 103.43333333333334), (49, 98.31666666666666), (50, 98.11666666666666), (51, 100.86666666666666), (52, 102.6), (53, 105.91666666666667), (54, 104.28333333333333), (55, 101.01666666666667), (56, 98.96666666666667), (57, 100.16666666666667), (58, 99.83333333333333), (59, 97.58333333333333), (60, 93.96666666666667), (61, 96.55), (62, 94.96666666666667), (63, 94.73333333333333), (64, 98.75), (65, 101.76666666666667), (66, 96.56666666666666), (67, 108.31666666666666), (68, 98.0), (69, 97.01666666666667), (70, 94.5), (71, 93.2), (72, 106.95), (73, 98.71666666666667), (74, 95.83333333333333), (75, 92.18333333333334), (76, 92.83333333333333), (77, 98.35), (78, 101.95), (79, 102.86666666666666), (80, 97.63333333333334), (81, 100.88333333333334), (82, 98.98333333333333), (83, 107.73333333333333), (84, 110.76666666666667), (85, 107.85), (86, 102.28333333333333), (87, 109.5), (88, 99.61666666666666), (89, 110.66666666666667), (90, 106.35), (91, 111.23333333333333), (92, 97.8), (93, 100.28333333333333), (94, 96.45), (95, 94.05), (96, 98.98333333333333), (97, 93.46666666666667), (98, 95.36666666666666), (99, 98.53333333333333), (100, 97.98333333333333)]\n"
     ]
    }
   ],
   "source": [
    "x_points=list(map(lambda x:x[0],all_mean))\n",
    "y_points=list(map(lambda x:x[1],all_mean))\n",
    "\n",
    "# print(\"Best door combination:\\n{0}\\nticks:{1}\".format(best_doors,best_of_all_time['ticks']))\n",
    "\n",
    "plt.plot(x_points,y_points)\n",
    "plt.show()\n",
    "print(all_mean)"
   ]
  },
  {
   "cell_type": "code",
   "execution_count": 21,
   "metadata": {},
   "outputs": [],
   "source": [
    "kill_netlogo()"
   ]
  },
  {
   "cell_type": "code",
   "execution_count": null,
   "metadata": {},
   "outputs": [],
   "source": []
  }
 ],
 "metadata": {
  "kernelspec": {
   "display_name": "Python 3",
   "language": "python",
   "name": "python3"
  },
  "language_info": {
   "codemirror_mode": {
    "name": "ipython",
    "version": 3
   },
   "file_extension": ".py",
   "mimetype": "text/x-python",
   "name": "python",
   "nbconvert_exporter": "python",
   "pygments_lexer": "ipython3",
   "version": "3.6.6"
  }
 },
 "nbformat": 4,
 "nbformat_minor": 2
}
